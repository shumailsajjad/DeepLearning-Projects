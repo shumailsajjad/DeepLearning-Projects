{
 "cells": [
  {
   "cell_type": "code",
   "execution_count": 1,
   "id": "85c15f62",
   "metadata": {
    "colab": {
     "base_uri": "https://localhost:8080/"
    },
    "id": "85c15f62",
    "outputId": "7bdb4313-9fb0-40c6-92b8-7c69b3dd8991"
   },
   "outputs": [
    {
     "name": "stdout",
     "output_type": "stream",
     "text": [
      "Requirement already satisfied: torchmetrics in /Users/shumailsajjad/anaconda3/lib/python3.9/site-packages (1.3.2)\n",
      "Requirement already satisfied: numpy>1.20.0 in /Users/shumailsajjad/anaconda3/lib/python3.9/site-packages (from torchmetrics) (1.23.5)\n",
      "Requirement already satisfied: packaging>17.1 in /Users/shumailsajjad/anaconda3/lib/python3.9/site-packages (from torchmetrics) (22.0)\n",
      "Requirement already satisfied: torch>=1.10.0 in /Users/shumailsajjad/anaconda3/lib/python3.9/site-packages (from torchmetrics) (2.2.1)\n",
      "Requirement already satisfied: lightning-utilities>=0.8.0 in /Users/shumailsajjad/anaconda3/lib/python3.9/site-packages (from torchmetrics) (0.11.1)\n",
      "Requirement already satisfied: setuptools in /Users/shumailsajjad/.local/lib/python3.9/site-packages (from lightning-utilities>=0.8.0->torchmetrics) (67.7.2)\n",
      "Requirement already satisfied: typing-extensions in /Users/shumailsajjad/anaconda3/lib/python3.9/site-packages (from lightning-utilities>=0.8.0->torchmetrics) (4.9.0)\n",
      "Requirement already satisfied: filelock in /Users/shumailsajjad/anaconda3/lib/python3.9/site-packages (from torch>=1.10.0->torchmetrics) (3.9.0)\n",
      "Requirement already satisfied: sympy in /Users/shumailsajjad/anaconda3/lib/python3.9/site-packages (from torch>=1.10.0->torchmetrics) (1.11.1)\n",
      "Requirement already satisfied: networkx in /Users/shumailsajjad/anaconda3/lib/python3.9/site-packages (from torch>=1.10.0->torchmetrics) (2.8.4)\n",
      "Requirement already satisfied: jinja2 in /Users/shumailsajjad/anaconda3/lib/python3.9/site-packages (from torch>=1.10.0->torchmetrics) (3.1.2)\n",
      "Requirement already satisfied: fsspec in /Users/shumailsajjad/anaconda3/lib/python3.9/site-packages (from torch>=1.10.0->torchmetrics) (2022.11.0)\n",
      "Requirement already satisfied: MarkupSafe>=2.0 in /Users/shumailsajjad/anaconda3/lib/python3.9/site-packages (from jinja2->torch>=1.10.0->torchmetrics) (2.1.1)\n",
      "Requirement already satisfied: mpmath>=0.19 in /Users/shumailsajjad/anaconda3/lib/python3.9/site-packages (from sympy->torch>=1.10.0->torchmetrics) (1.2.1)\n"
     ]
    }
   ],
   "source": [
    "!pip install torchmetrics"
   ]
  },
  {
   "cell_type": "code",
   "execution_count": 2,
   "id": "X0F_Ydxvi2fe",
   "metadata": {
    "id": "X0F_Ydxvi2fe"
   },
   "outputs": [],
   "source": [
    "import torch\n",
    "from torch.utils.data import TensorDataset, DataLoader, RandomSampler, SequentialSampler\n",
    "from transformers import BertTokenizer, BertForSequenceClassification\n",
    "from transformers import GPT2Tokenizer, GPT2ForSequenceClassification, GPT2Config\n",
    "from sklearn.model_selection import train_test_split\n",
    "\n",
    "import pandas as pd\n",
    "import numpy as np\n",
    "\n",
    "from tabulate import tabulate\n",
    "from tqdm import trange\n",
    "import random\n",
    "from torchmetrics.classification import Recall, Accuracy, AUROC, Precision"
   ]
  },
  {
   "cell_type": "code",
   "execution_count": 3,
   "id": "9GPs9grPgTzU",
   "metadata": {
    "id": "9GPs9grPgTzU"
   },
   "outputs": [],
   "source": [
    "FILL = \"FILL\""
   ]
  },
  {
   "cell_type": "code",
   "execution_count": 4,
   "id": "3678adfa",
   "metadata": {
    "colab": {
     "base_uri": "https://localhost:8080/"
    },
    "id": "3678adfa",
    "outputId": "d01d1ff0-2c17-4cf9-82ac-b7963083bbdc"
   },
   "outputs": [
    {
     "name": "stdout",
     "output_type": "stream",
     "text": [
      "--2024-04-25 18:29:07--  https://archive.ics.uci.edu/ml/machine-learning-databases/00228/smsspamcollection.zip\n",
      "Resolving archive.ics.uci.edu (archive.ics.uci.edu)... 128.195.10.252\n",
      "Connecting to archive.ics.uci.edu (archive.ics.uci.edu)|128.195.10.252|:443... connected.\n",
      "HTTP request sent, awaiting response... 200 OK\n",
      "Length: unspecified\n",
      "Saving to: 'smsspamcollection.zip'\n",
      "\n",
      "smsspamcollection.z     [  <=>               ] 198.65K   715KB/s    in 0.3s    \n",
      "\n",
      "2024-04-25 18:29:08 (715 KB/s) - 'smsspamcollection.zip' saved [203415]\n",
      "\n",
      "Archive:  smsspamcollection.zip\n",
      "  inflating: SMSSpamCollection       \n",
      "  inflating: readme                  \n"
     ]
    }
   ],
   "source": [
    "!wget 'https://archive.ics.uci.edu/ml/machine-learning-databases/00228/smsspamcollection.zip'\n",
    "!unzip -o smsspamcollection.zip"
   ]
  },
  {
   "cell_type": "code",
   "execution_count": 5,
   "id": "d892553d",
   "metadata": {
    "colab": {
     "base_uri": "https://localhost:8080/"
    },
    "id": "d892553d",
    "outputId": "bfd6623c-178d-4cd5-d0dc-55df25f950c3"
   },
   "outputs": [
    {
     "name": "stdout",
     "output_type": "stream",
     "text": [
      "Archive:  smsspamcollection.zip\r\n",
      "  inflating: SMSSpamCollection       \r\n",
      "  inflating: readme                  \r\n"
     ]
    }
   ],
   "source": [
    "!unzip -o smsspamcollection.zip"
   ]
  },
  {
   "cell_type": "code",
   "execution_count": 6,
   "id": "dd3d5e84",
   "metadata": {
    "colab": {
     "base_uri": "https://localhost:8080/"
    },
    "id": "dd3d5e84",
    "outputId": "7f733ad8-8dc4-4e16-a0ec-2b670c56a70a"
   },
   "outputs": [
    {
     "name": "stdout",
     "output_type": "stream",
     "text": [
      "ham\tGo until jurong point, crazy.. Available only in bugis n great world la e buffet... Cine there got amore wat...\r\n",
      "ham\tOk lar... Joking wif u oni...\r\n",
      "spam\tFree entry in 2 a wkly comp to win FA Cup final tkts 21st May 2005. Text FA to 87121 to receive entry question(std txt rate)T&C's apply 08452810075over18's\r\n",
      "ham\tU dun say so early hor... U c already then say...\r\n",
      "ham\tNah I don't think he goes to usf, he lives around here though\r\n",
      "spam\tFreeMsg Hey there darling it's been 3 week's now and no word back! I'd like some fun you up for it still? Tb ok! XxX std chgs to send, £1.50 to rcv\r\n",
      "ham\tEven my brother is not like to speak with me. They treat me like aids patent.\r\n",
      "ham\tAs per your request 'Melle Melle (Oru Minnaminunginte Nurungu Vettam)' has been set as your callertune for all Callers. Press *9 to copy your friends Callertune\r\n",
      "spam\tWINNER!! As a valued network customer you have been selected to receivea £900 prize reward! To claim call 09061701461. Claim code KL341. Valid 12 hours only.\r\n",
      "spam\tHad your mobile 11 months or more? U R entitled to Update to the latest colour mobiles with camera for Free! Call The Mobile Update Co FREE on 08002986030\r\n"
     ]
    }
   ],
   "source": [
    "!head -10 SMSSpamCollection"
   ]
  },
  {
   "cell_type": "code",
   "execution_count": 7,
   "id": "9b12150d",
   "metadata": {
    "colab": {
     "base_uri": "https://localhost:8080/"
    },
    "id": "9b12150d",
    "outputId": "708acfed-a188-415d-dda6-f523ab65d66b"
   },
   "outputs": [
    {
     "name": "stdout",
     "output_type": "stream",
     "text": [
      "--2024-04-25 18:29:08--  https://archive.ics.uci.edu/ml/machine-learning-databases/00228/smsspamcollection.zip\n",
      "Resolving archive.ics.uci.edu (archive.ics.uci.edu)... 128.195.10.252\n",
      "Connecting to archive.ics.uci.edu (archive.ics.uci.edu)|128.195.10.252|:443... connected.\n",
      "HTTP request sent, awaiting response... 200 OK\n",
      "Length: unspecified\n",
      "Saving to: 'smsspamcollection.zip.1'\n",
      "\n",
      "smsspamcollection.z     [  <=>               ] 198.65K   678KB/s    in 0.3s    \n",
      "\n",
      "2024-04-25 18:29:09 (678 KB/s) - 'smsspamcollection.zip.1' saved [203415]\n",
      "\n",
      "Archive:  smsspamcollection.zip\n",
      "  inflating: SMSSpamCollection       \n",
      "  inflating: readme                  \n"
     ]
    }
   ],
   "source": [
    "!wget 'https://archive.ics.uci.edu/ml/machine-learning-databases/00228/smsspamcollection.zip'\n",
    "!unzip -o smsspamcollection.zip"
   ]
  },
  {
   "cell_type": "code",
   "execution_count": 8,
   "id": "98a736a1",
   "metadata": {
    "colab": {
     "base_uri": "https://localhost:8080/",
     "height": 206
    },
    "id": "98a736a1",
    "outputId": "6065c539-12c6-4bed-8795-fd3baee015a8"
   },
   "outputs": [
    {
     "data": {
      "text/html": [
       "<div>\n",
       "<style scoped>\n",
       "    .dataframe tbody tr th:only-of-type {\n",
       "        vertical-align: middle;\n",
       "    }\n",
       "\n",
       "    .dataframe tbody tr th {\n",
       "        vertical-align: top;\n",
       "    }\n",
       "\n",
       "    .dataframe thead th {\n",
       "        text-align: right;\n",
       "    }\n",
       "</style>\n",
       "<table border=\"1\" class=\"dataframe\">\n",
       "  <thead>\n",
       "    <tr style=\"text-align: right;\">\n",
       "      <th></th>\n",
       "      <th>label</th>\n",
       "      <th>text</th>\n",
       "    </tr>\n",
       "  </thead>\n",
       "  <tbody>\n",
       "    <tr>\n",
       "      <th>0</th>\n",
       "      <td>0</td>\n",
       "      <td>Go until jurong point, crazy.. Available only ...</td>\n",
       "    </tr>\n",
       "    <tr>\n",
       "      <th>1</th>\n",
       "      <td>0</td>\n",
       "      <td>Ok lar... Joking wif u oni...\\n</td>\n",
       "    </tr>\n",
       "    <tr>\n",
       "      <th>2</th>\n",
       "      <td>1</td>\n",
       "      <td>Free entry in 2 a wkly comp to win FA Cup fina...</td>\n",
       "    </tr>\n",
       "    <tr>\n",
       "      <th>3</th>\n",
       "      <td>0</td>\n",
       "      <td>U dun say so early hor... U c already then say...</td>\n",
       "    </tr>\n",
       "    <tr>\n",
       "      <th>4</th>\n",
       "      <td>0</td>\n",
       "      <td>Nah I don't think he goes to usf, he lives aro...</td>\n",
       "    </tr>\n",
       "  </tbody>\n",
       "</table>\n",
       "</div>"
      ],
      "text/plain": [
       "   label                                               text\n",
       "0      0  Go until jurong point, crazy.. Available only ...\n",
       "1      0                    Ok lar... Joking wif u oni...\\n\n",
       "2      1  Free entry in 2 a wkly comp to win FA Cup fina...\n",
       "3      0  U dun say so early hor... U c already then say...\n",
       "4      0  Nah I don't think he goes to usf, he lives aro..."
      ]
     },
     "execution_count": 8,
     "metadata": {},
     "output_type": "execute_result"
    }
   ],
   "source": [
    "file_path = 'SMSSpamCollection'\n",
    "df = pd.DataFrame({'label':int(), 'text':str()}, index = [])\n",
    "with open(file_path) as f:\n",
    "    for line in f.readlines():\n",
    "        split = line.split('\\t')\n",
    "        df = pd.concat([\n",
    "                df,\n",
    "                pd.DataFrame.from_dict({\n",
    "                    'label': [1 if split[0] == 'spam' else 0],\n",
    "                    'text': [split[1]]\n",
    "                })\n",
    "            ],\n",
    "            ignore_index=True\n",
    "        )\n",
    "df.head()"
   ]
  },
  {
   "cell_type": "code",
   "execution_count": 9,
   "id": "79a5cb02",
   "metadata": {
    "id": "79a5cb02"
   },
   "outputs": [],
   "source": [
    "text = df.text.values\n",
    "labels = df.label.values"
   ]
  },
  {
   "cell_type": "code",
   "execution_count": 10,
   "id": "dce193a4",
   "metadata": {
    "colab": {
     "base_uri": "https://localhost:8080/",
     "height": 201,
     "referenced_widgets": [
      "47cd4038c337418a819a1c91167e25f6",
      "2dfc5dabdd57471da2c9b1b2fd3b31da",
      "bc007774ce1f42db851cf343e7f2bf88",
      "da5da679adbd4a2f9247cae26be756af",
      "c3b9324383d443f9be2ee23e6d9e3ad1",
      "149ad7f9076e4247ada2b65ae08617b4",
      "af8910704054466ab94a5b1ddfa07a81",
      "8e391a2e1c964bb5aa58b41e80947379",
      "b9e54bd0df4e4425970482d0691f921d",
      "74123f2ac0894537998375e319b9d103",
      "1abff45e4fbf479dbd78c6205a168c76",
      "3e396f37dc03450dae1fd6d055599081",
      "b729619422ba4258bdfd1165c8190bbd",
      "e9c6d13cdc76440487c28d564399c9c8",
      "68b82862051a44faaa6d7c98b6af8e56",
      "42a88f1471da43efb0eeb9b9ffb8c865",
      "e481cb3349a0402aa05c1329940083f3",
      "54129c62eab84cf7ad330c4fcb3e9714",
      "19ee8ba33498432db17107370c1a4bd1",
      "635eb598cb2448b99a68a63651bf36a0",
      "dece794acaac405883d1b3a838c6403a",
      "92f38b8f419f460da2d518ea0bdfc153",
      "ac209275a87043f284cd521d04d291ff",
      "80bd556a87ab4a6db973f0fbbfd57b0b",
      "030128b5dd16447d850e99893fce4571",
      "4a959880bd6b4e36b373f77df005a8aa",
      "9993c56239af4a94a7fd6c002ae653bf",
      "18044cb3b31141779df4388cdfeff5f1",
      "166b14d11d0f443fb5516fd836525bd8",
      "413a7b0dd51942a6a890a7d609b1f932",
      "92a29b6670774826b11b631f91140685",
      "1b89bbb83fd043f2bc521e04360091df",
      "bc97b04ab73f485ebeeef07d83364053",
      "addfdd5026694c91a6d588da979990a1",
      "e9ae90e9ebf64561b289d54cb1e375ab",
      "ab29a2e08fb44bae9c16f0bfd108f5f0",
      "f1d35e86f9aa4377b76ccab37e77c51f",
      "d3c59712b9354fb5a9f1e14453b5911b",
      "5075fab4740746a3a139b08af515674d",
      "3a2305ce49a44fbe86adab4282ba363d",
      "5cf2e7c48dba4577a2bf2af35a240f0e",
      "394afb525cef4787ac58a6c184d4535f",
      "f7d04cea97a743b28373856ce0ae0a47",
      "a5b622f9fd7f4c89afe41b439e1d9c75"
     ]
    },
    "id": "dce193a4",
    "outputId": "cba628a6-7f6f-4f35-bf0d-e3e5e20cc987"
   },
   "outputs": [
    {
     "data": {
      "application/vnd.jupyter.widget-view+json": {
       "model_id": "2e270b170b844229bbe82d362eadae25",
       "version_major": 2,
       "version_minor": 0
      },
      "text/plain": [
       "Downloading tokenizer_config.json:   0%|          | 0.00/26.0 [00:00<?, ?B/s]"
      ]
     },
     "metadata": {},
     "output_type": "display_data"
    }
   ],
   "source": [
    "# Set to the GPT2Tokenizer and set lower case to True\n",
    "tokenizer = GPT2Tokenizer.from_pretrained('gpt2', do_lower_case=True)\n",
    "tokenizer.pad_token = tokenizer.eos_token\n",
    "# Set the padding to 'left' or 'right'?\n",
    "# Remember we want to use the last token's embedding to represent the entire sentence\n",
    "tokenizer.padding_side = 'right'"
   ]
  },
  {
   "cell_type": "code",
   "execution_count": 13,
   "id": "c00a3e7e",
   "metadata": {
    "colab": {
     "base_uri": "https://localhost:8080/"
    },
    "id": "c00a3e7e",
    "outputId": "a51fd724-5129-4b5e-aa70-d25ebce5e0aa"
   },
   "outputs": [
    {
     "name": "stdout",
     "output_type": "stream",
     "text": [
      "Sorry da thangam.it's my mistake.\n",
      "\n",
      "╒══════════╤═════════════╕\n",
      "│ Tokens   │   Token IDs │\n",
      "╞══════════╪═════════════╡\n",
      "│ Sorry    │       14385 │\n",
      "├──────────┼─────────────┤\n",
      "│ Ġda      │       12379 │\n",
      "├──────────┼─────────────┤\n",
      "│ Ġthan    │         621 │\n",
      "├──────────┼─────────────┤\n",
      "│ gam      │       28483 │\n",
      "├──────────┼─────────────┤\n",
      "│ .        │          13 │\n",
      "├──────────┼─────────────┤\n",
      "│ it       │         270 │\n",
      "├──────────┼─────────────┤\n",
      "│ 's       │         338 │\n",
      "├──────────┼─────────────┤\n",
      "│ Ġmy      │         616 │\n",
      "├──────────┼─────────────┤\n",
      "│ Ġmistake │        7457 │\n",
      "├──────────┼─────────────┤\n",
      "│ .        │          13 │\n",
      "├──────────┼─────────────┤\n",
      "│ Ċ        │         198 │\n",
      "╘══════════╧═════════════╛\n"
     ]
    }
   ],
   "source": [
    "def print_rand_sentence():\n",
    "    '''Displays the tokens and respective IDs of a random text sample'''\n",
    "    index = random.randint(0, len(text)-1)\n",
    "    print(text[index])\n",
    "    table = np.array([tokenizer.tokenize(text[index]),\n",
    "                    tokenizer.convert_tokens_to_ids(tokenizer.tokenize(text[index]))]).T\n",
    "    print(tabulate(table,\n",
    "                 headers = ['Tokens', 'Token IDs'],\n",
    "                 tablefmt = 'fancy_grid'))\n",
    "\n",
    "print_rand_sentence()"
   ]
  },
  {
   "cell_type": "code",
   "execution_count": 21,
   "id": "e85d0895",
   "metadata": {
    "colab": {
     "base_uri": "https://localhost:8080/"
    },
    "id": "e85d0895",
    "outputId": "8adbe13e-3dc2-42cf-f8fd-43e87ba41a00"
   },
   "outputs": [
    {
     "name": "stderr",
     "output_type": "stream",
     "text": [
      "Truncation was not explicitly activated but `max_length` is provided a specific value, please use `truncation=True` to explicitly truncate examples to max length. Defaulting to 'longest_first' truncation strategy. If you encode pairs of sequences (GLUE-style) with the tokenizer you can select this strategy more precisely by providing a specific strategy to `truncation`.\n",
      "/Users/shumailsajjad/anaconda3/lib/python3.9/site-packages/transformers/tokenization_utils_base.py:2346: FutureWarning: The `pad_to_max_length` argument is deprecated and will be removed in a future version, use `padding=True` or `padding='longest'` to pad to the longest sequence in the batch, or use `padding='max_length'` to pad to a max length. In this case, you can give a specific length with `max_length` (e.g. `max_length=45`) or leave max_length to None to pad to the maximal input size of the model (e.g. 512 for Bert).\n",
      "  warnings.warn(\n"
     ]
    }
   ],
   "source": [
    "token_id = []\n",
    "attention_masks = []\n",
    "\n",
    "def preprocessing(input_text, tokenizer):\n",
    "  '''\n",
    "  Returns <class transformers.tokenization_utils_base.BatchEncoding> with the following fields:\n",
    "    - input_ids: list of token ids\n",
    "    - token_type_ids: list of token type ids\n",
    "    - attention_mask: list of indices (0,1) specifying which tokens should considered by the model (return_attention_mask = True).\n",
    "  '''\n",
    "  # Use the tokenizer and the encode_plus methods to return the right data we'll need\n",
    "  # Set max_length = 32 and return_tokens = 'pt'\n",
    "  # Set other fields to the appropriate booleans needed\n",
    "  return tokenizer.encode_plus(input_text, add_special_tokens=True, max_length=32, pad_to_max_length=True, return_attention_mask=True,  return_tensors='pt',)\n",
    "\n",
    "# https://stackoverflow.com/questions/61708486/whats-difference-between-tokenizer-encode-and-tokenizer-encode-plus-in-hugging\n",
    "\n",
    "for sample in text:\n",
    "    encoding_dict = preprocessing(sample, tokenizer)\n",
    "    token_id.append(encoding_dict['input_ids'])\n",
    "    attention_masks.append(encoding_dict['attention_mask'])\n",
    "\n",
    "\n",
    "# Gather all the torch_id, attention masks, and labels\n",
    "token_id = torch.cat(token_id, 0)\n",
    "attention_masks = torch.cat(attention_masks, 0)\n",
    "labels = torch.tensor(labels)"
   ]
  },
  {
   "cell_type": "code",
   "execution_count": 27,
   "id": "222e06a7",
   "metadata": {
    "colab": {
     "base_uri": "https://localhost:8080/"
    },
    "id": "222e06a7",
    "outputId": "263a5eb2-cda5-43c8-e080-a32aeb8012ff"
   },
   "outputs": [
    {
     "name": "stdout",
     "output_type": "stream",
     "text": [
      "['O', 'ic', 'Ġcos', 'Ġme', 'Ġn', 'Ġmy', 'Ġs', 'is', 'Ġgot', 'Ġno', 'Ġlunch', 'Ġtoday', 'Ġmy', 'Ġdad', 'Ġwent', 'Ġout', '...', 'ĠSo', 'Ġdunno', 'Ġwhether', 'Ġ2', 'Ġeat', 'Ġin', 'Ġsch', 'Ġor', 'Ġwat', '...', 'Ċ', '<|endoftext|>', '<|endoftext|>', '<|endoftext|>', '<|endoftext|>']\n",
      "╒═══════════════╤═════════════╤══════════════════╕\n",
      "│ Tokens        │   Token IDs │   Attention Mask │\n",
      "╞═══════════════╪═════════════╪══════════════════╡\n",
      "│ O             │          46 │                1 │\n",
      "├───────────────┼─────────────┼──────────────────┤\n",
      "│ ic            │         291 │                1 │\n",
      "├───────────────┼─────────────┼──────────────────┤\n",
      "│ Ġcos          │        8615 │                1 │\n",
      "├───────────────┼─────────────┼──────────────────┤\n",
      "│ Ġme           │         502 │                1 │\n",
      "├───────────────┼─────────────┼──────────────────┤\n",
      "│ Ġn            │         299 │                1 │\n",
      "├───────────────┼─────────────┼──────────────────┤\n",
      "│ Ġmy           │         616 │                1 │\n",
      "├───────────────┼─────────────┼──────────────────┤\n",
      "│ Ġs            │         264 │                1 │\n",
      "├───────────────┼─────────────┼──────────────────┤\n",
      "│ is            │         271 │                1 │\n",
      "├───────────────┼─────────────┼──────────────────┤\n",
      "│ Ġgot          │        1392 │                1 │\n",
      "├───────────────┼─────────────┼──────────────────┤\n",
      "│ Ġno           │         645 │                1 │\n",
      "├───────────────┼─────────────┼──────────────────┤\n",
      "│ Ġlunch        │        9965 │                1 │\n",
      "├───────────────┼─────────────┼──────────────────┤\n",
      "│ Ġtoday        │        1909 │                1 │\n",
      "├───────────────┼─────────────┼──────────────────┤\n",
      "│ Ġmy           │         616 │                1 │\n",
      "├───────────────┼─────────────┼──────────────────┤\n",
      "│ Ġdad          │        9955 │                1 │\n",
      "├───────────────┼─────────────┼──────────────────┤\n",
      "│ Ġwent         │        1816 │                1 │\n",
      "├───────────────┼─────────────┼──────────────────┤\n",
      "│ Ġout          │         503 │                1 │\n",
      "├───────────────┼─────────────┼──────────────────┤\n",
      "│ ...           │         986 │                1 │\n",
      "├───────────────┼─────────────┼──────────────────┤\n",
      "│ ĠSo           │        1406 │                1 │\n",
      "├───────────────┼─────────────┼──────────────────┤\n",
      "│ Ġdunno        │       50109 │                1 │\n",
      "├───────────────┼─────────────┼──────────────────┤\n",
      "│ Ġwhether      │        1771 │                1 │\n",
      "├───────────────┼─────────────┼──────────────────┤\n",
      "│ Ġ2            │         362 │                1 │\n",
      "├───────────────┼─────────────┼──────────────────┤\n",
      "│ Ġeat          │        4483 │                1 │\n",
      "├───────────────┼─────────────┼──────────────────┤\n",
      "│ Ġin           │         287 │                1 │\n",
      "├───────────────┼─────────────┼──────────────────┤\n",
      "│ Ġsch          │        5513 │                1 │\n",
      "├───────────────┼─────────────┼──────────────────┤\n",
      "│ Ġor           │         393 │                1 │\n",
      "├───────────────┼─────────────┼──────────────────┤\n",
      "│ Ġwat          │        4383 │                1 │\n",
      "├───────────────┼─────────────┼──────────────────┤\n",
      "│ ...           │         986 │                1 │\n",
      "├───────────────┼─────────────┼──────────────────┤\n",
      "│ Ċ             │         198 │                1 │\n",
      "├───────────────┼─────────────┼──────────────────┤\n",
      "│ <|endoftext|> │       50256 │                0 │\n",
      "├───────────────┼─────────────┼──────────────────┤\n",
      "│ <|endoftext|> │       50256 │                0 │\n",
      "├───────────────┼─────────────┼──────────────────┤\n",
      "│ <|endoftext|> │       50256 │                0 │\n",
      "├───────────────┼─────────────┼──────────────────┤\n",
      "│ <|endoftext|> │       50256 │                0 │\n",
      "╘═══════════════╧═════════════╧══════════════════╛\n"
     ]
    }
   ],
   "source": [
    "def print_rand_sentence_encoding():\n",
    "    '''Displays tokens, token IDs and attention mask of a random text sample'''\n",
    "    index = random.randint(0, len(text) - 1)\n",
    "    tokens = tokenizer.tokenize(tokenizer.decode(token_id[index]))\n",
    "    print(tokens)\n",
    "    token_ids = [i.numpy() for i in token_id[index]]\n",
    "    attention = [i.numpy() for i in attention_masks[index]]\n",
    "    table = np.array([tokens, token_ids, attention]).T\n",
    "    print(\n",
    "        tabulate(\n",
    "            table,\n",
    "            headers = ['Tokens', 'Token IDs', 'Attention Mask'],\n",
    "            tablefmt = 'fancy_grid')\n",
    "    )\n",
    "\n",
    "print_rand_sentence_encoding()"
   ]
  },
  {
   "cell_type": "code",
   "execution_count": 29,
   "id": "e1c2c10b",
   "metadata": {
    "id": "e1c2c10b"
   },
   "outputs": [],
   "source": [
    "val_ratio = 0.2\n",
    "# Recommended batch size: 16, 32. See: https://arxiv.org/pdf/1810.04805.pdf\n",
    "batch_size = 16\n",
    "\n",
    "# Indices of the train and validation splits stratified by labels\n",
    "# Use train_test_split\n",
    "train_idx, val_idx = train_test_split(np.arange(len(labels)), test_size=val_ratio, random_state=42, stratify=labels)\n",
    "\n",
    "# Train and validation sets\n",
    "# Set to TensorDataset\n",
    "train_set = TensorDataset(token_id[train_idx], attention_masks[train_idx], labels[train_idx])\n",
    "\n",
    "val_set = TensorDataset(token_id[val_idx], attention_masks[val_idx], labels[val_idx])\n",
    "\n",
    "# Prepare DataLoader\n",
    "train_dataloader = DataLoader(train_set, batch_size, sampler=RandomSampler(train_set))\n",
    "\n",
    "validation_dataloader = DataLoader(val_set, batch_size, sampler=SequentialSampler(val_set))"
   ]
  },
  {
   "cell_type": "markdown",
   "id": "40bcf8c4",
   "metadata": {
    "id": "40bcf8c4"
   },
   "source": [
    "### Load specific versions of the model"
   ]
  },
  {
   "cell_type": "code",
   "execution_count": 31,
   "id": "f85fc88e",
   "metadata": {
    "colab": {
     "base_uri": "https://localhost:8080/"
    },
    "id": "f85fc88e",
    "outputId": "80cb0cb8-af0f-4477-ef40-321eaec72078"
   },
   "outputs": [
    {
     "name": "stderr",
     "output_type": "stream",
     "text": [
      "Some weights of GPT2ForSequenceClassification were not initialized from the model checkpoint at gpt2 and are newly initialized: ['score.weight']\n",
      "You should probably TRAIN this model on a down-stream task to be able to use it for predictions and inference.\n"
     ]
    }
   ],
   "source": [
    "# Load the BertForSequenceClassification model\n",
    "# Do not ouput the attentions and all hidden states\n",
    "\n",
    "config = GPT2Config.from_pretrained('gpt2', output_attentions=False, output_hidden_states=False)\n",
    "\n",
    "# Set to 'gpt2' (the smallest GPT2 which is 120 M parameters)\n",
    "# Use the config above and set other labels as needed\n",
    "model = GPT2ForSequenceClassification.from_pretrained('gpt2', config=config)\n",
    "\n",
    "# Set the pad token id to the eos token id\n",
    "model.config.pad_token_id = model.config.eos_token_id\n",
    "\n",
    "# Recommended learning rates (Adam): 5e-5, 3e-5, 2e-5\n",
    "# See: https://arxiv.org/pdf/1810.04805.pdf\n",
    "optimizer = torch.optim.AdamW(\n",
    "    model.parameters(),\n",
    "    lr = 5e-5,\n",
    "    eps = 1e-08\n",
    ")"
   ]
  },
  {
   "cell_type": "markdown",
   "id": "a36b60bf",
   "metadata": {
    "id": "a36b60bf"
   },
   "source": [
    "### Set the model to the right device"
   ]
  },
  {
   "cell_type": "code",
   "execution_count": 32,
   "id": "071b1a84",
   "metadata": {
    "id": "071b1a84"
   },
   "outputs": [],
   "source": [
    "# If on GPU, do as below\n",
    "device = torch.device(\"cuda\" if torch.cuda.is_available() else \"cpu\") # should be cpu as using jupyter notebook"
   ]
  },
  {
   "cell_type": "code",
   "execution_count": 35,
   "id": "4811b9f5",
   "metadata": {
    "id": "4811b9f5"
   },
   "outputs": [],
   "source": [
    "model = model.to(device)\n",
    "\n",
    "# Recommended number of epochs: See: https://arxiv.org/pdf/1810.04805.pdf\n",
    "epochs = 2"
   ]
  },
  {
   "cell_type": "code",
   "execution_count": 42,
   "id": "f9f4e75e",
   "metadata": {
    "colab": {
     "base_uri": "https://localhost:8080/"
    },
    "id": "f9f4e75e",
    "outputId": "1687eb8a-30ed-4d80-faa2-d303a580754a"
   },
   "outputs": [],
   "source": [
    "# Print all the layers of this GPT2 model and the number of parameters per layer\n",
    "# If this is False, fine tune just the classifier layer and leave all other GPT2 parameters alone\n",
    "# If this is True, fine tune everything\n",
    "fine_tune = False\n",
    "\n",
    "# Turn off gradients using the above\n",
    "if fine_tune:\n",
    "    for param in model.parameters():\n",
    "        param.requires_grad = True\n",
    "\n",
    "total_parameters = 0\n",
    "for n, p in model.named_parameters(): \n",
    "    total_parameters += p.numel()\n",
    "\n",
    "assert(total_parameters == 124441344)"
   ]
  },
  {
   "cell_type": "markdown",
   "id": "765fc3a1",
   "metadata": {
    "id": "765fc3a1"
   },
   "source": [
    "### Train the model"
   ]
  },
  {
   "cell_type": "code",
   "execution_count": 43,
   "id": "bf0b712e",
   "metadata": {
    "id": "bf0b712e"
   },
   "outputs": [],
   "source": [
    "# Use torchmetrics to set up accuracy, recall, precision, and auroc\n",
    "# spam vs not spam (binary)\n",
    "accuracy = Accuracy(task='binary', num_classes=2, average='macro')\n",
    "recall = Recall(task='binary', num_classes=2, average='macro')\n",
    "precision = Precision(task='binary', num_classes=2, average='macro')\n",
    "auroc = AUROC(task='binary', num_classes=2) "
   ]
  },
  {
   "cell_type": "code",
   "execution_count": 44,
   "id": "084519f5",
   "metadata": {
    "colab": {
     "base_uri": "https://localhost:8080/"
    },
    "id": "084519f5",
    "outputId": "59659c04-32ba-43a0-d5c7-2c3e990f6b1b"
   },
   "outputs": [
    {
     "name": "stderr",
     "output_type": "stream",
     "text": [
      "Epoch:  50%|██████████████████▌                  | 1/2 [02:34<02:34, 154.83s/it]"
     ]
    },
    {
     "name": "stdout",
     "output_type": "stream",
     "text": [
      "\n",
      "\t - Train loss: 0.0237\n",
      "\t - Validation Accuracy: 0.9929\n",
      "\t - Validation Precision: 0.8857\n",
      "\t - Validation Recall: 0.8524\n",
      "\t - Validation AUROC: 0.9103\n",
      "\n"
     ]
    },
    {
     "name": "stderr",
     "output_type": "stream",
     "text": [
      "Epoch: 100%|█████████████████████████████████████| 2/2 [05:07<00:00, 153.70s/it]"
     ]
    },
    {
     "name": "stdout",
     "output_type": "stream",
     "text": [
      "\n",
      "\t - Train loss: 0.0113\n",
      "\t - Validation Accuracy: 0.9795\n",
      "\t - Validation Precision: 0.8405\n",
      "\t - Validation Recall: 0.8881\n",
      "\t - Validation AUROC: 0.9133\n",
      "\n"
     ]
    },
    {
     "name": "stderr",
     "output_type": "stream",
     "text": [
      "\n"
     ]
    }
   ],
   "source": [
    "# Main training / validation loop\n",
    "for _ in trange(epochs, desc = 'Epoch'):\n",
    "\n",
    "    # ========== Training ==========\n",
    "\n",
    "    # Set model to training mode\n",
    "    model.train()\n",
    "\n",
    "    # Tracking variables\n",
    "    tr_loss = 0\n",
    "    nb_tr_examples, nb_tr_steps = 0, 0\n",
    "\n",
    "    for step, batch in enumerate(train_dataloader):\n",
    "        # Put each element of batch onto the device\n",
    "        batch = tuple(t.to(device) for t in batch)\n",
    "\n",
    "        # Unpack the batch\n",
    "        ids, mask, labels = batch\n",
    "\n",
    "        # Set gradients to zero\n",
    "        optimizer.zero_grad()\n",
    "\n",
    "        # Forward pass\n",
    "        train_output = model(ids, token_type_ids=None, attention_mask=mask, labels=labels)\n",
    "\n",
    "        # Backward pass\n",
    "        train_output.loss.backward()\n",
    "        optimizer.step()\n",
    "\n",
    "        # Update tracking variables\n",
    "        tr_loss += train_output.loss.item()\n",
    "        nb_tr_examples += ids.size(0)\n",
    "        nb_tr_steps += 1\n",
    "\n",
    "    # ========== Validation ==========\n",
    "\n",
    "    # Set model to evaluation mode\n",
    "    model.eval()\n",
    "\n",
    "    # Tracking variables\n",
    "    val_accuracy = []\n",
    "    val_precision = []\n",
    "    val_recall = []\n",
    "    val_auroc = []\n",
    "\n",
    "    for batch in validation_dataloader:\n",
    "        batch = tuple(t.to(device) for t in batch)\n",
    "\n",
    "        # Unpack the batch\n",
    "        ids, mask, batch_labels = batch\n",
    "\n",
    "        with torch.no_grad():\n",
    "          # Forward pass\n",
    "            eval_output = model(ids, token_type_ids=None, attention_mask=mask)\n",
    "\n",
    "        # Calculate validation metrics\n",
    "        labels = batch_labels\n",
    "        predicted_labels = torch.argmax(eval_output.logits, 1)\n",
    "\n",
    "        val_accuracy.append(accuracy(predicted_labels, labels))\n",
    "        val_recall.append(recall(predicted_labels, labels))\n",
    "        val_precision.append(precision(predicted_labels, labels))\n",
    "        val_auroc.append(auroc(eval_output.logits.softmax(dim=1)[:,1], labels))\n",
    "\n",
    "    print('\\n\\t - Train loss: {:.4f}'.format(tr_loss / nb_tr_steps))\n",
    "    print('\\t - Validation Accuracy: {:.4f}'.format(sum(val_accuracy)/len(val_accuracy)))\n",
    "    print('\\t - Validation Precision: {:.4f}'.format(sum(val_precision)/len(val_precision)))\n",
    "    print('\\t - Validation Recall: {:.4f}'.format(sum(val_recall)/len(val_recall)))\n",
    "    print('\\t - Validation AUROC: {:.4f}\\n'.format(sum(val_auroc)/len(val_auroc)))"
   ]
  },
  {
   "cell_type": "markdown",
   "id": "13d64bc6",
   "metadata": {
    "id": "13d64bc6"
   },
   "source": [
    "### Test on a specific sentence, see the outcome"
   ]
  },
  {
   "cell_type": "code",
   "execution_count": 41,
   "id": "6dfcd9e7",
   "metadata": {
    "id": "6dfcd9e7"
   },
   "outputs": [
    {
     "name": "stdout",
     "output_type": "stream",
     "text": [
      "Input Sentence:  WINNER!! As a valued network customer you have been selected to receivea £900 prize reward! To claim call 09061701461. Claim code KL341. Valid 12 hours only.\n",
      "Predicted Class:  Spam\n"
     ]
    },
    {
     "name": "stderr",
     "output_type": "stream",
     "text": [
      "/Users/shumailsajjad/anaconda3/lib/python3.9/site-packages/transformers/tokenization_utils_base.py:2346: FutureWarning: The `pad_to_max_length` argument is deprecated and will be removed in a future version, use `padding=True` or `padding='longest'` to pad to the longest sequence in the batch, or use `padding='max_length'` to pad to a max length. In this case, you can give a specific length with `max_length` (e.g. `max_length=45`) or leave max_length to None to pad to the maximal input size of the model (e.g. 512 for Bert).\n",
      "  warnings.warn(\n"
     ]
    }
   ],
   "source": [
    "new_sentence = 'WINNER!! As a valued network customer you have been selected to receivea £900 prize reward! To claim call 09061701461. Claim code KL341. Valid 12 hours only.'\n",
    "\n",
    "# We need Token IDs and Attention Mask for inference on the new sentence\n",
    "test_ids = []\n",
    "test_attention_mask = []\n",
    "\n",
    "# Apply the tokenizer\n",
    "encoding = preprocessing(new_sentence, tokenizer)\n",
    "\n",
    "# Extract IDs and Attention Mask\n",
    "test_ids.append(encoding['input_ids'])\n",
    "test_attention_mask.append(encoding['attention_mask'])\n",
    "test_ids = torch.cat(test_ids, dim = 0)\n",
    "test_attention_mask = torch.cat(test_attention_mask, dim = 0)\n",
    "\n",
    "# Forward pass, calculate logit predictions\n",
    "with torch.no_grad():\n",
    "    output = model(test_ids.to(device), token_type_ids = None, attention_mask = test_attention_mask.to(device))\n",
    "\n",
    "prediction = 'Spam' if np.argmax(output.logits.cpu().numpy()).flatten().item() == 1 else 'Ham'\n",
    "\n",
    "print('Input Sentence: ', new_sentence)\n",
    "print('Predicted Class: ', prediction)"
   ]
  },
  {
   "cell_type": "markdown",
   "id": "a0c41741",
   "metadata": {
    "id": "a0c41741"
   },
   "source": [
    "### Questions"
   ]
  },
  {
   "cell_type": "markdown",
   "id": "875fab6d",
   "metadata": {
    "id": "875fab6d"
   },
   "source": [
    "Question 1: Run the above by fine tuning GPT2 and the classfier head and by not doing this (using GPT2 as a feature encoder). What is the gap between this? What are the metrics we get in each case?"
   ]
  },
  {
   "cell_type": "markdown",
   "id": "3c771161",
   "metadata": {
    "id": "071f0f80"
   },
   "source": [
    "### Results\n",
    "\n",
    "#### 1) Fine-Tuning GPT-2 and Classifier Head\n",
    "    \n",
    "     - Train loss: 0.0322\n",
    "\t - Validation Accuracy: 0.9920\n",
    "\t - Validation Precision: 0.8786\n",
    "\t - Validation Recall: 0.8619\n",
    "\t - Validation AUROC: 0.9130\n",
    "        \n",
    "#### 2) Using GPT-2 as Feature Encoder\n",
    "\n",
    "     - Train loss: 0.0113\n",
    "\t - Validation Accuracy: 0.9795\n",
    "\t - Validation Precision: 0.8405\n",
    "\t - Validation Recall: 0.8881\n",
    "\t - Validation AUROC: 0.9133\n",
    "\n",
    "### Conclusion\n",
    "Fine-tuning both GPT-2 and the classifier head leads to higher overall accuracy and precision, though using GPT-2 as a feature encoder offers a better recall and almost same AUROC, indicating slight effectiveness even without fine-tuning the GPT2 and the classifier head."
   ]
  }
 ],
 "metadata": {
  "colab": {
   "provenance": []
  },
  "kernelspec": {
   "display_name": "Python 3 (ipykernel)",
   "language": "python",
   "name": "python3"
  },
  "language_info": {
   "codemirror_mode": {
    "name": "ipython",
    "version": 3
   },
   "file_extension": ".py",
   "mimetype": "text/x-python",
   "name": "python",
   "nbconvert_exporter": "python",
   "pygments_lexer": "ipython3",
   "version": "3.9.16"
  },
  "widgets": {
   "application/vnd.jupyter.widget-state+json": {
    "030128b5dd16447d850e99893fce4571": {
     "model_module": "@jupyter-widgets/controls",
     "model_module_version": "1.5.0",
     "model_name": "FloatProgressModel",
     "state": {
      "_dom_classes": [],
      "_model_module": "@jupyter-widgets/controls",
      "_model_module_version": "1.5.0",
      "_model_name": "FloatProgressModel",
      "_view_count": null,
      "_view_module": "@jupyter-widgets/controls",
      "_view_module_version": "1.5.0",
      "_view_name": "ProgressView",
      "bar_style": "success",
      "description": "",
      "description_tooltip": null,
      "layout": "IPY_MODEL_413a7b0dd51942a6a890a7d609b1f932",
      "max": 1355256,
      "min": 0,
      "orientation": "horizontal",
      "style": "IPY_MODEL_92a29b6670774826b11b631f91140685",
      "value": 1355256
     }
    },
    "149ad7f9076e4247ada2b65ae08617b4": {
     "model_module": "@jupyter-widgets/base",
     "model_module_version": "1.2.0",
     "model_name": "LayoutModel",
     "state": {
      "_model_module": "@jupyter-widgets/base",
      "_model_module_version": "1.2.0",
      "_model_name": "LayoutModel",
      "_view_count": null,
      "_view_module": "@jupyter-widgets/base",
      "_view_module_version": "1.2.0",
      "_view_name": "LayoutView",
      "align_content": null,
      "align_items": null,
      "align_self": null,
      "border": null,
      "bottom": null,
      "display": null,
      "flex": null,
      "flex_flow": null,
      "grid_area": null,
      "grid_auto_columns": null,
      "grid_auto_flow": null,
      "grid_auto_rows": null,
      "grid_column": null,
      "grid_gap": null,
      "grid_row": null,
      "grid_template_areas": null,
      "grid_template_columns": null,
      "grid_template_rows": null,
      "height": null,
      "justify_content": null,
      "justify_items": null,
      "left": null,
      "margin": null,
      "max_height": null,
      "max_width": null,
      "min_height": null,
      "min_width": null,
      "object_fit": null,
      "object_position": null,
      "order": null,
      "overflow": null,
      "overflow_x": null,
      "overflow_y": null,
      "padding": null,
      "right": null,
      "top": null,
      "visibility": null,
      "width": null
     }
    },
    "166b14d11d0f443fb5516fd836525bd8": {
     "model_module": "@jupyter-widgets/controls",
     "model_module_version": "1.5.0",
     "model_name": "DescriptionStyleModel",
     "state": {
      "_model_module": "@jupyter-widgets/controls",
      "_model_module_version": "1.5.0",
      "_model_name": "DescriptionStyleModel",
      "_view_count": null,
      "_view_module": "@jupyter-widgets/base",
      "_view_module_version": "1.2.0",
      "_view_name": "StyleView",
      "description_width": ""
     }
    },
    "18044cb3b31141779df4388cdfeff5f1": {
     "model_module": "@jupyter-widgets/base",
     "model_module_version": "1.2.0",
     "model_name": "LayoutModel",
     "state": {
      "_model_module": "@jupyter-widgets/base",
      "_model_module_version": "1.2.0",
      "_model_name": "LayoutModel",
      "_view_count": null,
      "_view_module": "@jupyter-widgets/base",
      "_view_module_version": "1.2.0",
      "_view_name": "LayoutView",
      "align_content": null,
      "align_items": null,
      "align_self": null,
      "border": null,
      "bottom": null,
      "display": null,
      "flex": null,
      "flex_flow": null,
      "grid_area": null,
      "grid_auto_columns": null,
      "grid_auto_flow": null,
      "grid_auto_rows": null,
      "grid_column": null,
      "grid_gap": null,
      "grid_row": null,
      "grid_template_areas": null,
      "grid_template_columns": null,
      "grid_template_rows": null,
      "height": null,
      "justify_content": null,
      "justify_items": null,
      "left": null,
      "margin": null,
      "max_height": null,
      "max_width": null,
      "min_height": null,
      "min_width": null,
      "object_fit": null,
      "object_position": null,
      "order": null,
      "overflow": null,
      "overflow_x": null,
      "overflow_y": null,
      "padding": null,
      "right": null,
      "top": null,
      "visibility": null,
      "width": null
     }
    },
    "19ee8ba33498432db17107370c1a4bd1": {
     "model_module": "@jupyter-widgets/base",
     "model_module_version": "1.2.0",
     "model_name": "LayoutModel",
     "state": {
      "_model_module": "@jupyter-widgets/base",
      "_model_module_version": "1.2.0",
      "_model_name": "LayoutModel",
      "_view_count": null,
      "_view_module": "@jupyter-widgets/base",
      "_view_module_version": "1.2.0",
      "_view_name": "LayoutView",
      "align_content": null,
      "align_items": null,
      "align_self": null,
      "border": null,
      "bottom": null,
      "display": null,
      "flex": null,
      "flex_flow": null,
      "grid_area": null,
      "grid_auto_columns": null,
      "grid_auto_flow": null,
      "grid_auto_rows": null,
      "grid_column": null,
      "grid_gap": null,
      "grid_row": null,
      "grid_template_areas": null,
      "grid_template_columns": null,
      "grid_template_rows": null,
      "height": null,
      "justify_content": null,
      "justify_items": null,
      "left": null,
      "margin": null,
      "max_height": null,
      "max_width": null,
      "min_height": null,
      "min_width": null,
      "object_fit": null,
      "object_position": null,
      "order": null,
      "overflow": null,
      "overflow_x": null,
      "overflow_y": null,
      "padding": null,
      "right": null,
      "top": null,
      "visibility": null,
      "width": null
     }
    },
    "1abff45e4fbf479dbd78c6205a168c76": {
     "model_module": "@jupyter-widgets/controls",
     "model_module_version": "1.5.0",
     "model_name": "DescriptionStyleModel",
     "state": {
      "_model_module": "@jupyter-widgets/controls",
      "_model_module_version": "1.5.0",
      "_model_name": "DescriptionStyleModel",
      "_view_count": null,
      "_view_module": "@jupyter-widgets/base",
      "_view_module_version": "1.2.0",
      "_view_name": "StyleView",
      "description_width": ""
     }
    },
    "1b89bbb83fd043f2bc521e04360091df": {
     "model_module": "@jupyter-widgets/base",
     "model_module_version": "1.2.0",
     "model_name": "LayoutModel",
     "state": {
      "_model_module": "@jupyter-widgets/base",
      "_model_module_version": "1.2.0",
      "_model_name": "LayoutModel",
      "_view_count": null,
      "_view_module": "@jupyter-widgets/base",
      "_view_module_version": "1.2.0",
      "_view_name": "LayoutView",
      "align_content": null,
      "align_items": null,
      "align_self": null,
      "border": null,
      "bottom": null,
      "display": null,
      "flex": null,
      "flex_flow": null,
      "grid_area": null,
      "grid_auto_columns": null,
      "grid_auto_flow": null,
      "grid_auto_rows": null,
      "grid_column": null,
      "grid_gap": null,
      "grid_row": null,
      "grid_template_areas": null,
      "grid_template_columns": null,
      "grid_template_rows": null,
      "height": null,
      "justify_content": null,
      "justify_items": null,
      "left": null,
      "margin": null,
      "max_height": null,
      "max_width": null,
      "min_height": null,
      "min_width": null,
      "object_fit": null,
      "object_position": null,
      "order": null,
      "overflow": null,
      "overflow_x": null,
      "overflow_y": null,
      "padding": null,
      "right": null,
      "top": null,
      "visibility": null,
      "width": null
     }
    },
    "2dfc5dabdd57471da2c9b1b2fd3b31da": {
     "model_module": "@jupyter-widgets/controls",
     "model_module_version": "1.5.0",
     "model_name": "HTMLModel",
     "state": {
      "_dom_classes": [],
      "_model_module": "@jupyter-widgets/controls",
      "_model_module_version": "1.5.0",
      "_model_name": "HTMLModel",
      "_view_count": null,
      "_view_module": "@jupyter-widgets/controls",
      "_view_module_version": "1.5.0",
      "_view_name": "HTMLView",
      "description": "",
      "description_tooltip": null,
      "layout": "IPY_MODEL_149ad7f9076e4247ada2b65ae08617b4",
      "placeholder": "​",
      "style": "IPY_MODEL_af8910704054466ab94a5b1ddfa07a81",
      "value": "vocab.json: 100%"
     }
    },
    "394afb525cef4787ac58a6c184d4535f": {
     "model_module": "@jupyter-widgets/controls",
     "model_module_version": "1.5.0",
     "model_name": "ProgressStyleModel",
     "state": {
      "_model_module": "@jupyter-widgets/controls",
      "_model_module_version": "1.5.0",
      "_model_name": "ProgressStyleModel",
      "_view_count": null,
      "_view_module": "@jupyter-widgets/base",
      "_view_module_version": "1.2.0",
      "_view_name": "StyleView",
      "bar_color": null,
      "description_width": ""
     }
    },
    "3a2305ce49a44fbe86adab4282ba363d": {
     "model_module": "@jupyter-widgets/controls",
     "model_module_version": "1.5.0",
     "model_name": "DescriptionStyleModel",
     "state": {
      "_model_module": "@jupyter-widgets/controls",
      "_model_module_version": "1.5.0",
      "_model_name": "DescriptionStyleModel",
      "_view_count": null,
      "_view_module": "@jupyter-widgets/base",
      "_view_module_version": "1.2.0",
      "_view_name": "StyleView",
      "description_width": ""
     }
    },
    "3e396f37dc03450dae1fd6d055599081": {
     "model_module": "@jupyter-widgets/controls",
     "model_module_version": "1.5.0",
     "model_name": "HBoxModel",
     "state": {
      "_dom_classes": [],
      "_model_module": "@jupyter-widgets/controls",
      "_model_module_version": "1.5.0",
      "_model_name": "HBoxModel",
      "_view_count": null,
      "_view_module": "@jupyter-widgets/controls",
      "_view_module_version": "1.5.0",
      "_view_name": "HBoxView",
      "box_style": "",
      "children": [
       "IPY_MODEL_b729619422ba4258bdfd1165c8190bbd",
       "IPY_MODEL_e9c6d13cdc76440487c28d564399c9c8",
       "IPY_MODEL_68b82862051a44faaa6d7c98b6af8e56"
      ],
      "layout": "IPY_MODEL_42a88f1471da43efb0eeb9b9ffb8c865"
     }
    },
    "413a7b0dd51942a6a890a7d609b1f932": {
     "model_module": "@jupyter-widgets/base",
     "model_module_version": "1.2.0",
     "model_name": "LayoutModel",
     "state": {
      "_model_module": "@jupyter-widgets/base",
      "_model_module_version": "1.2.0",
      "_model_name": "LayoutModel",
      "_view_count": null,
      "_view_module": "@jupyter-widgets/base",
      "_view_module_version": "1.2.0",
      "_view_name": "LayoutView",
      "align_content": null,
      "align_items": null,
      "align_self": null,
      "border": null,
      "bottom": null,
      "display": null,
      "flex": null,
      "flex_flow": null,
      "grid_area": null,
      "grid_auto_columns": null,
      "grid_auto_flow": null,
      "grid_auto_rows": null,
      "grid_column": null,
      "grid_gap": null,
      "grid_row": null,
      "grid_template_areas": null,
      "grid_template_columns": null,
      "grid_template_rows": null,
      "height": null,
      "justify_content": null,
      "justify_items": null,
      "left": null,
      "margin": null,
      "max_height": null,
      "max_width": null,
      "min_height": null,
      "min_width": null,
      "object_fit": null,
      "object_position": null,
      "order": null,
      "overflow": null,
      "overflow_x": null,
      "overflow_y": null,
      "padding": null,
      "right": null,
      "top": null,
      "visibility": null,
      "width": null
     }
    },
    "42a88f1471da43efb0eeb9b9ffb8c865": {
     "model_module": "@jupyter-widgets/base",
     "model_module_version": "1.2.0",
     "model_name": "LayoutModel",
     "state": {
      "_model_module": "@jupyter-widgets/base",
      "_model_module_version": "1.2.0",
      "_model_name": "LayoutModel",
      "_view_count": null,
      "_view_module": "@jupyter-widgets/base",
      "_view_module_version": "1.2.0",
      "_view_name": "LayoutView",
      "align_content": null,
      "align_items": null,
      "align_self": null,
      "border": null,
      "bottom": null,
      "display": null,
      "flex": null,
      "flex_flow": null,
      "grid_area": null,
      "grid_auto_columns": null,
      "grid_auto_flow": null,
      "grid_auto_rows": null,
      "grid_column": null,
      "grid_gap": null,
      "grid_row": null,
      "grid_template_areas": null,
      "grid_template_columns": null,
      "grid_template_rows": null,
      "height": null,
      "justify_content": null,
      "justify_items": null,
      "left": null,
      "margin": null,
      "max_height": null,
      "max_width": null,
      "min_height": null,
      "min_width": null,
      "object_fit": null,
      "object_position": null,
      "order": null,
      "overflow": null,
      "overflow_x": null,
      "overflow_y": null,
      "padding": null,
      "right": null,
      "top": null,
      "visibility": null,
      "width": null
     }
    },
    "47cd4038c337418a819a1c91167e25f6": {
     "model_module": "@jupyter-widgets/controls",
     "model_module_version": "1.5.0",
     "model_name": "HBoxModel",
     "state": {
      "_dom_classes": [],
      "_model_module": "@jupyter-widgets/controls",
      "_model_module_version": "1.5.0",
      "_model_name": "HBoxModel",
      "_view_count": null,
      "_view_module": "@jupyter-widgets/controls",
      "_view_module_version": "1.5.0",
      "_view_name": "HBoxView",
      "box_style": "",
      "children": [
       "IPY_MODEL_2dfc5dabdd57471da2c9b1b2fd3b31da",
       "IPY_MODEL_bc007774ce1f42db851cf343e7f2bf88",
       "IPY_MODEL_da5da679adbd4a2f9247cae26be756af"
      ],
      "layout": "IPY_MODEL_c3b9324383d443f9be2ee23e6d9e3ad1"
     }
    },
    "4a959880bd6b4e36b373f77df005a8aa": {
     "model_module": "@jupyter-widgets/controls",
     "model_module_version": "1.5.0",
     "model_name": "HTMLModel",
     "state": {
      "_dom_classes": [],
      "_model_module": "@jupyter-widgets/controls",
      "_model_module_version": "1.5.0",
      "_model_name": "HTMLModel",
      "_view_count": null,
      "_view_module": "@jupyter-widgets/controls",
      "_view_module_version": "1.5.0",
      "_view_name": "HTMLView",
      "description": "",
      "description_tooltip": null,
      "layout": "IPY_MODEL_1b89bbb83fd043f2bc521e04360091df",
      "placeholder": "​",
      "style": "IPY_MODEL_bc97b04ab73f485ebeeef07d83364053",
      "value": " 1.36M/1.36M [00:00&lt;00:00, 13.7MB/s]"
     }
    },
    "5075fab4740746a3a139b08af515674d": {
     "model_module": "@jupyter-widgets/base",
     "model_module_version": "1.2.0",
     "model_name": "LayoutModel",
     "state": {
      "_model_module": "@jupyter-widgets/base",
      "_model_module_version": "1.2.0",
      "_model_name": "LayoutModel",
      "_view_count": null,
      "_view_module": "@jupyter-widgets/base",
      "_view_module_version": "1.2.0",
      "_view_name": "LayoutView",
      "align_content": null,
      "align_items": null,
      "align_self": null,
      "border": null,
      "bottom": null,
      "display": null,
      "flex": null,
      "flex_flow": null,
      "grid_area": null,
      "grid_auto_columns": null,
      "grid_auto_flow": null,
      "grid_auto_rows": null,
      "grid_column": null,
      "grid_gap": null,
      "grid_row": null,
      "grid_template_areas": null,
      "grid_template_columns": null,
      "grid_template_rows": null,
      "height": null,
      "justify_content": null,
      "justify_items": null,
      "left": null,
      "margin": null,
      "max_height": null,
      "max_width": null,
      "min_height": null,
      "min_width": null,
      "object_fit": null,
      "object_position": null,
      "order": null,
      "overflow": null,
      "overflow_x": null,
      "overflow_y": null,
      "padding": null,
      "right": null,
      "top": null,
      "visibility": null,
      "width": null
     }
    },
    "54129c62eab84cf7ad330c4fcb3e9714": {
     "model_module": "@jupyter-widgets/controls",
     "model_module_version": "1.5.0",
     "model_name": "DescriptionStyleModel",
     "state": {
      "_model_module": "@jupyter-widgets/controls",
      "_model_module_version": "1.5.0",
      "_model_name": "DescriptionStyleModel",
      "_view_count": null,
      "_view_module": "@jupyter-widgets/base",
      "_view_module_version": "1.2.0",
      "_view_name": "StyleView",
      "description_width": ""
     }
    },
    "5cf2e7c48dba4577a2bf2af35a240f0e": {
     "model_module": "@jupyter-widgets/base",
     "model_module_version": "1.2.0",
     "model_name": "LayoutModel",
     "state": {
      "_model_module": "@jupyter-widgets/base",
      "_model_module_version": "1.2.0",
      "_model_name": "LayoutModel",
      "_view_count": null,
      "_view_module": "@jupyter-widgets/base",
      "_view_module_version": "1.2.0",
      "_view_name": "LayoutView",
      "align_content": null,
      "align_items": null,
      "align_self": null,
      "border": null,
      "bottom": null,
      "display": null,
      "flex": null,
      "flex_flow": null,
      "grid_area": null,
      "grid_auto_columns": null,
      "grid_auto_flow": null,
      "grid_auto_rows": null,
      "grid_column": null,
      "grid_gap": null,
      "grid_row": null,
      "grid_template_areas": null,
      "grid_template_columns": null,
      "grid_template_rows": null,
      "height": null,
      "justify_content": null,
      "justify_items": null,
      "left": null,
      "margin": null,
      "max_height": null,
      "max_width": null,
      "min_height": null,
      "min_width": null,
      "object_fit": null,
      "object_position": null,
      "order": null,
      "overflow": null,
      "overflow_x": null,
      "overflow_y": null,
      "padding": null,
      "right": null,
      "top": null,
      "visibility": null,
      "width": null
     }
    },
    "635eb598cb2448b99a68a63651bf36a0": {
     "model_module": "@jupyter-widgets/controls",
     "model_module_version": "1.5.0",
     "model_name": "ProgressStyleModel",
     "state": {
      "_model_module": "@jupyter-widgets/controls",
      "_model_module_version": "1.5.0",
      "_model_name": "ProgressStyleModel",
      "_view_count": null,
      "_view_module": "@jupyter-widgets/base",
      "_view_module_version": "1.2.0",
      "_view_name": "StyleView",
      "bar_color": null,
      "description_width": ""
     }
    },
    "68b82862051a44faaa6d7c98b6af8e56": {
     "model_module": "@jupyter-widgets/controls",
     "model_module_version": "1.5.0",
     "model_name": "HTMLModel",
     "state": {
      "_dom_classes": [],
      "_model_module": "@jupyter-widgets/controls",
      "_model_module_version": "1.5.0",
      "_model_name": "HTMLModel",
      "_view_count": null,
      "_view_module": "@jupyter-widgets/controls",
      "_view_module_version": "1.5.0",
      "_view_name": "HTMLView",
      "description": "",
      "description_tooltip": null,
      "layout": "IPY_MODEL_dece794acaac405883d1b3a838c6403a",
      "placeholder": "​",
      "style": "IPY_MODEL_92f38b8f419f460da2d518ea0bdfc153",
      "value": " 456k/456k [00:00&lt;00:00, 3.41MB/s]"
     }
    },
    "74123f2ac0894537998375e319b9d103": {
     "model_module": "@jupyter-widgets/base",
     "model_module_version": "1.2.0",
     "model_name": "LayoutModel",
     "state": {
      "_model_module": "@jupyter-widgets/base",
      "_model_module_version": "1.2.0",
      "_model_name": "LayoutModel",
      "_view_count": null,
      "_view_module": "@jupyter-widgets/base",
      "_view_module_version": "1.2.0",
      "_view_name": "LayoutView",
      "align_content": null,
      "align_items": null,
      "align_self": null,
      "border": null,
      "bottom": null,
      "display": null,
      "flex": null,
      "flex_flow": null,
      "grid_area": null,
      "grid_auto_columns": null,
      "grid_auto_flow": null,
      "grid_auto_rows": null,
      "grid_column": null,
      "grid_gap": null,
      "grid_row": null,
      "grid_template_areas": null,
      "grid_template_columns": null,
      "grid_template_rows": null,
      "height": null,
      "justify_content": null,
      "justify_items": null,
      "left": null,
      "margin": null,
      "max_height": null,
      "max_width": null,
      "min_height": null,
      "min_width": null,
      "object_fit": null,
      "object_position": null,
      "order": null,
      "overflow": null,
      "overflow_x": null,
      "overflow_y": null,
      "padding": null,
      "right": null,
      "top": null,
      "visibility": null,
      "width": null
     }
    },
    "80bd556a87ab4a6db973f0fbbfd57b0b": {
     "model_module": "@jupyter-widgets/controls",
     "model_module_version": "1.5.0",
     "model_name": "HTMLModel",
     "state": {
      "_dom_classes": [],
      "_model_module": "@jupyter-widgets/controls",
      "_model_module_version": "1.5.0",
      "_model_name": "HTMLModel",
      "_view_count": null,
      "_view_module": "@jupyter-widgets/controls",
      "_view_module_version": "1.5.0",
      "_view_name": "HTMLView",
      "description": "",
      "description_tooltip": null,
      "layout": "IPY_MODEL_18044cb3b31141779df4388cdfeff5f1",
      "placeholder": "​",
      "style": "IPY_MODEL_166b14d11d0f443fb5516fd836525bd8",
      "value": "tokenizer.json: 100%"
     }
    },
    "8e391a2e1c964bb5aa58b41e80947379": {
     "model_module": "@jupyter-widgets/base",
     "model_module_version": "1.2.0",
     "model_name": "LayoutModel",
     "state": {
      "_model_module": "@jupyter-widgets/base",
      "_model_module_version": "1.2.0",
      "_model_name": "LayoutModel",
      "_view_count": null,
      "_view_module": "@jupyter-widgets/base",
      "_view_module_version": "1.2.0",
      "_view_name": "LayoutView",
      "align_content": null,
      "align_items": null,
      "align_self": null,
      "border": null,
      "bottom": null,
      "display": null,
      "flex": null,
      "flex_flow": null,
      "grid_area": null,
      "grid_auto_columns": null,
      "grid_auto_flow": null,
      "grid_auto_rows": null,
      "grid_column": null,
      "grid_gap": null,
      "grid_row": null,
      "grid_template_areas": null,
      "grid_template_columns": null,
      "grid_template_rows": null,
      "height": null,
      "justify_content": null,
      "justify_items": null,
      "left": null,
      "margin": null,
      "max_height": null,
      "max_width": null,
      "min_height": null,
      "min_width": null,
      "object_fit": null,
      "object_position": null,
      "order": null,
      "overflow": null,
      "overflow_x": null,
      "overflow_y": null,
      "padding": null,
      "right": null,
      "top": null,
      "visibility": null,
      "width": null
     }
    },
    "92a29b6670774826b11b631f91140685": {
     "model_module": "@jupyter-widgets/controls",
     "model_module_version": "1.5.0",
     "model_name": "ProgressStyleModel",
     "state": {
      "_model_module": "@jupyter-widgets/controls",
      "_model_module_version": "1.5.0",
      "_model_name": "ProgressStyleModel",
      "_view_count": null,
      "_view_module": "@jupyter-widgets/base",
      "_view_module_version": "1.2.0",
      "_view_name": "StyleView",
      "bar_color": null,
      "description_width": ""
     }
    },
    "92f38b8f419f460da2d518ea0bdfc153": {
     "model_module": "@jupyter-widgets/controls",
     "model_module_version": "1.5.0",
     "model_name": "DescriptionStyleModel",
     "state": {
      "_model_module": "@jupyter-widgets/controls",
      "_model_module_version": "1.5.0",
      "_model_name": "DescriptionStyleModel",
      "_view_count": null,
      "_view_module": "@jupyter-widgets/base",
      "_view_module_version": "1.2.0",
      "_view_name": "StyleView",
      "description_width": ""
     }
    },
    "9993c56239af4a94a7fd6c002ae653bf": {
     "model_module": "@jupyter-widgets/base",
     "model_module_version": "1.2.0",
     "model_name": "LayoutModel",
     "state": {
      "_model_module": "@jupyter-widgets/base",
      "_model_module_version": "1.2.0",
      "_model_name": "LayoutModel",
      "_view_count": null,
      "_view_module": "@jupyter-widgets/base",
      "_view_module_version": "1.2.0",
      "_view_name": "LayoutView",
      "align_content": null,
      "align_items": null,
      "align_self": null,
      "border": null,
      "bottom": null,
      "display": null,
      "flex": null,
      "flex_flow": null,
      "grid_area": null,
      "grid_auto_columns": null,
      "grid_auto_flow": null,
      "grid_auto_rows": null,
      "grid_column": null,
      "grid_gap": null,
      "grid_row": null,
      "grid_template_areas": null,
      "grid_template_columns": null,
      "grid_template_rows": null,
      "height": null,
      "justify_content": null,
      "justify_items": null,
      "left": null,
      "margin": null,
      "max_height": null,
      "max_width": null,
      "min_height": null,
      "min_width": null,
      "object_fit": null,
      "object_position": null,
      "order": null,
      "overflow": null,
      "overflow_x": null,
      "overflow_y": null,
      "padding": null,
      "right": null,
      "top": null,
      "visibility": null,
      "width": null
     }
    },
    "a5b622f9fd7f4c89afe41b439e1d9c75": {
     "model_module": "@jupyter-widgets/controls",
     "model_module_version": "1.5.0",
     "model_name": "DescriptionStyleModel",
     "state": {
      "_model_module": "@jupyter-widgets/controls",
      "_model_module_version": "1.5.0",
      "_model_name": "DescriptionStyleModel",
      "_view_count": null,
      "_view_module": "@jupyter-widgets/base",
      "_view_module_version": "1.2.0",
      "_view_name": "StyleView",
      "description_width": ""
     }
    },
    "ab29a2e08fb44bae9c16f0bfd108f5f0": {
     "model_module": "@jupyter-widgets/controls",
     "model_module_version": "1.5.0",
     "model_name": "FloatProgressModel",
     "state": {
      "_dom_classes": [],
      "_model_module": "@jupyter-widgets/controls",
      "_model_module_version": "1.5.0",
      "_model_name": "FloatProgressModel",
      "_view_count": null,
      "_view_module": "@jupyter-widgets/controls",
      "_view_module_version": "1.5.0",
      "_view_name": "ProgressView",
      "bar_style": "success",
      "description": "",
      "description_tooltip": null,
      "layout": "IPY_MODEL_5cf2e7c48dba4577a2bf2af35a240f0e",
      "max": 665,
      "min": 0,
      "orientation": "horizontal",
      "style": "IPY_MODEL_394afb525cef4787ac58a6c184d4535f",
      "value": 665
     }
    },
    "ac209275a87043f284cd521d04d291ff": {
     "model_module": "@jupyter-widgets/controls",
     "model_module_version": "1.5.0",
     "model_name": "HBoxModel",
     "state": {
      "_dom_classes": [],
      "_model_module": "@jupyter-widgets/controls",
      "_model_module_version": "1.5.0",
      "_model_name": "HBoxModel",
      "_view_count": null,
      "_view_module": "@jupyter-widgets/controls",
      "_view_module_version": "1.5.0",
      "_view_name": "HBoxView",
      "box_style": "",
      "children": [
       "IPY_MODEL_80bd556a87ab4a6db973f0fbbfd57b0b",
       "IPY_MODEL_030128b5dd16447d850e99893fce4571",
       "IPY_MODEL_4a959880bd6b4e36b373f77df005a8aa"
      ],
      "layout": "IPY_MODEL_9993c56239af4a94a7fd6c002ae653bf"
     }
    },
    "addfdd5026694c91a6d588da979990a1": {
     "model_module": "@jupyter-widgets/controls",
     "model_module_version": "1.5.0",
     "model_name": "HBoxModel",
     "state": {
      "_dom_classes": [],
      "_model_module": "@jupyter-widgets/controls",
      "_model_module_version": "1.5.0",
      "_model_name": "HBoxModel",
      "_view_count": null,
      "_view_module": "@jupyter-widgets/controls",
      "_view_module_version": "1.5.0",
      "_view_name": "HBoxView",
      "box_style": "",
      "children": [
       "IPY_MODEL_e9ae90e9ebf64561b289d54cb1e375ab",
       "IPY_MODEL_ab29a2e08fb44bae9c16f0bfd108f5f0",
       "IPY_MODEL_f1d35e86f9aa4377b76ccab37e77c51f"
      ],
      "layout": "IPY_MODEL_d3c59712b9354fb5a9f1e14453b5911b"
     }
    },
    "af8910704054466ab94a5b1ddfa07a81": {
     "model_module": "@jupyter-widgets/controls",
     "model_module_version": "1.5.0",
     "model_name": "DescriptionStyleModel",
     "state": {
      "_model_module": "@jupyter-widgets/controls",
      "_model_module_version": "1.5.0",
      "_model_name": "DescriptionStyleModel",
      "_view_count": null,
      "_view_module": "@jupyter-widgets/base",
      "_view_module_version": "1.2.0",
      "_view_name": "StyleView",
      "description_width": ""
     }
    },
    "b729619422ba4258bdfd1165c8190bbd": {
     "model_module": "@jupyter-widgets/controls",
     "model_module_version": "1.5.0",
     "model_name": "HTMLModel",
     "state": {
      "_dom_classes": [],
      "_model_module": "@jupyter-widgets/controls",
      "_model_module_version": "1.5.0",
      "_model_name": "HTMLModel",
      "_view_count": null,
      "_view_module": "@jupyter-widgets/controls",
      "_view_module_version": "1.5.0",
      "_view_name": "HTMLView",
      "description": "",
      "description_tooltip": null,
      "layout": "IPY_MODEL_e481cb3349a0402aa05c1329940083f3",
      "placeholder": "​",
      "style": "IPY_MODEL_54129c62eab84cf7ad330c4fcb3e9714",
      "value": "merges.txt: 100%"
     }
    },
    "b9e54bd0df4e4425970482d0691f921d": {
     "model_module": "@jupyter-widgets/controls",
     "model_module_version": "1.5.0",
     "model_name": "ProgressStyleModel",
     "state": {
      "_model_module": "@jupyter-widgets/controls",
      "_model_module_version": "1.5.0",
      "_model_name": "ProgressStyleModel",
      "_view_count": null,
      "_view_module": "@jupyter-widgets/base",
      "_view_module_version": "1.2.0",
      "_view_name": "StyleView",
      "bar_color": null,
      "description_width": ""
     }
    },
    "bc007774ce1f42db851cf343e7f2bf88": {
     "model_module": "@jupyter-widgets/controls",
     "model_module_version": "1.5.0",
     "model_name": "FloatProgressModel",
     "state": {
      "_dom_classes": [],
      "_model_module": "@jupyter-widgets/controls",
      "_model_module_version": "1.5.0",
      "_model_name": "FloatProgressModel",
      "_view_count": null,
      "_view_module": "@jupyter-widgets/controls",
      "_view_module_version": "1.5.0",
      "_view_name": "ProgressView",
      "bar_style": "success",
      "description": "",
      "description_tooltip": null,
      "layout": "IPY_MODEL_8e391a2e1c964bb5aa58b41e80947379",
      "max": 1042301,
      "min": 0,
      "orientation": "horizontal",
      "style": "IPY_MODEL_b9e54bd0df4e4425970482d0691f921d",
      "value": 1042301
     }
    },
    "bc97b04ab73f485ebeeef07d83364053": {
     "model_module": "@jupyter-widgets/controls",
     "model_module_version": "1.5.0",
     "model_name": "DescriptionStyleModel",
     "state": {
      "_model_module": "@jupyter-widgets/controls",
      "_model_module_version": "1.5.0",
      "_model_name": "DescriptionStyleModel",
      "_view_count": null,
      "_view_module": "@jupyter-widgets/base",
      "_view_module_version": "1.2.0",
      "_view_name": "StyleView",
      "description_width": ""
     }
    },
    "c3b9324383d443f9be2ee23e6d9e3ad1": {
     "model_module": "@jupyter-widgets/base",
     "model_module_version": "1.2.0",
     "model_name": "LayoutModel",
     "state": {
      "_model_module": "@jupyter-widgets/base",
      "_model_module_version": "1.2.0",
      "_model_name": "LayoutModel",
      "_view_count": null,
      "_view_module": "@jupyter-widgets/base",
      "_view_module_version": "1.2.0",
      "_view_name": "LayoutView",
      "align_content": null,
      "align_items": null,
      "align_self": null,
      "border": null,
      "bottom": null,
      "display": null,
      "flex": null,
      "flex_flow": null,
      "grid_area": null,
      "grid_auto_columns": null,
      "grid_auto_flow": null,
      "grid_auto_rows": null,
      "grid_column": null,
      "grid_gap": null,
      "grid_row": null,
      "grid_template_areas": null,
      "grid_template_columns": null,
      "grid_template_rows": null,
      "height": null,
      "justify_content": null,
      "justify_items": null,
      "left": null,
      "margin": null,
      "max_height": null,
      "max_width": null,
      "min_height": null,
      "min_width": null,
      "object_fit": null,
      "object_position": null,
      "order": null,
      "overflow": null,
      "overflow_x": null,
      "overflow_y": null,
      "padding": null,
      "right": null,
      "top": null,
      "visibility": null,
      "width": null
     }
    },
    "d3c59712b9354fb5a9f1e14453b5911b": {
     "model_module": "@jupyter-widgets/base",
     "model_module_version": "1.2.0",
     "model_name": "LayoutModel",
     "state": {
      "_model_module": "@jupyter-widgets/base",
      "_model_module_version": "1.2.0",
      "_model_name": "LayoutModel",
      "_view_count": null,
      "_view_module": "@jupyter-widgets/base",
      "_view_module_version": "1.2.0",
      "_view_name": "LayoutView",
      "align_content": null,
      "align_items": null,
      "align_self": null,
      "border": null,
      "bottom": null,
      "display": null,
      "flex": null,
      "flex_flow": null,
      "grid_area": null,
      "grid_auto_columns": null,
      "grid_auto_flow": null,
      "grid_auto_rows": null,
      "grid_column": null,
      "grid_gap": null,
      "grid_row": null,
      "grid_template_areas": null,
      "grid_template_columns": null,
      "grid_template_rows": null,
      "height": null,
      "justify_content": null,
      "justify_items": null,
      "left": null,
      "margin": null,
      "max_height": null,
      "max_width": null,
      "min_height": null,
      "min_width": null,
      "object_fit": null,
      "object_position": null,
      "order": null,
      "overflow": null,
      "overflow_x": null,
      "overflow_y": null,
      "padding": null,
      "right": null,
      "top": null,
      "visibility": null,
      "width": null
     }
    },
    "da5da679adbd4a2f9247cae26be756af": {
     "model_module": "@jupyter-widgets/controls",
     "model_module_version": "1.5.0",
     "model_name": "HTMLModel",
     "state": {
      "_dom_classes": [],
      "_model_module": "@jupyter-widgets/controls",
      "_model_module_version": "1.5.0",
      "_model_name": "HTMLModel",
      "_view_count": null,
      "_view_module": "@jupyter-widgets/controls",
      "_view_module_version": "1.5.0",
      "_view_name": "HTMLView",
      "description": "",
      "description_tooltip": null,
      "layout": "IPY_MODEL_74123f2ac0894537998375e319b9d103",
      "placeholder": "​",
      "style": "IPY_MODEL_1abff45e4fbf479dbd78c6205a168c76",
      "value": " 1.04M/1.04M [00:00&lt;00:00, 6.85MB/s]"
     }
    },
    "dece794acaac405883d1b3a838c6403a": {
     "model_module": "@jupyter-widgets/base",
     "model_module_version": "1.2.0",
     "model_name": "LayoutModel",
     "state": {
      "_model_module": "@jupyter-widgets/base",
      "_model_module_version": "1.2.0",
      "_model_name": "LayoutModel",
      "_view_count": null,
      "_view_module": "@jupyter-widgets/base",
      "_view_module_version": "1.2.0",
      "_view_name": "LayoutView",
      "align_content": null,
      "align_items": null,
      "align_self": null,
      "border": null,
      "bottom": null,
      "display": null,
      "flex": null,
      "flex_flow": null,
      "grid_area": null,
      "grid_auto_columns": null,
      "grid_auto_flow": null,
      "grid_auto_rows": null,
      "grid_column": null,
      "grid_gap": null,
      "grid_row": null,
      "grid_template_areas": null,
      "grid_template_columns": null,
      "grid_template_rows": null,
      "height": null,
      "justify_content": null,
      "justify_items": null,
      "left": null,
      "margin": null,
      "max_height": null,
      "max_width": null,
      "min_height": null,
      "min_width": null,
      "object_fit": null,
      "object_position": null,
      "order": null,
      "overflow": null,
      "overflow_x": null,
      "overflow_y": null,
      "padding": null,
      "right": null,
      "top": null,
      "visibility": null,
      "width": null
     }
    },
    "e481cb3349a0402aa05c1329940083f3": {
     "model_module": "@jupyter-widgets/base",
     "model_module_version": "1.2.0",
     "model_name": "LayoutModel",
     "state": {
      "_model_module": "@jupyter-widgets/base",
      "_model_module_version": "1.2.0",
      "_model_name": "LayoutModel",
      "_view_count": null,
      "_view_module": "@jupyter-widgets/base",
      "_view_module_version": "1.2.0",
      "_view_name": "LayoutView",
      "align_content": null,
      "align_items": null,
      "align_self": null,
      "border": null,
      "bottom": null,
      "display": null,
      "flex": null,
      "flex_flow": null,
      "grid_area": null,
      "grid_auto_columns": null,
      "grid_auto_flow": null,
      "grid_auto_rows": null,
      "grid_column": null,
      "grid_gap": null,
      "grid_row": null,
      "grid_template_areas": null,
      "grid_template_columns": null,
      "grid_template_rows": null,
      "height": null,
      "justify_content": null,
      "justify_items": null,
      "left": null,
      "margin": null,
      "max_height": null,
      "max_width": null,
      "min_height": null,
      "min_width": null,
      "object_fit": null,
      "object_position": null,
      "order": null,
      "overflow": null,
      "overflow_x": null,
      "overflow_y": null,
      "padding": null,
      "right": null,
      "top": null,
      "visibility": null,
      "width": null
     }
    },
    "e9ae90e9ebf64561b289d54cb1e375ab": {
     "model_module": "@jupyter-widgets/controls",
     "model_module_version": "1.5.0",
     "model_name": "HTMLModel",
     "state": {
      "_dom_classes": [],
      "_model_module": "@jupyter-widgets/controls",
      "_model_module_version": "1.5.0",
      "_model_name": "HTMLModel",
      "_view_count": null,
      "_view_module": "@jupyter-widgets/controls",
      "_view_module_version": "1.5.0",
      "_view_name": "HTMLView",
      "description": "",
      "description_tooltip": null,
      "layout": "IPY_MODEL_5075fab4740746a3a139b08af515674d",
      "placeholder": "​",
      "style": "IPY_MODEL_3a2305ce49a44fbe86adab4282ba363d",
      "value": "config.json: 100%"
     }
    },
    "e9c6d13cdc76440487c28d564399c9c8": {
     "model_module": "@jupyter-widgets/controls",
     "model_module_version": "1.5.0",
     "model_name": "FloatProgressModel",
     "state": {
      "_dom_classes": [],
      "_model_module": "@jupyter-widgets/controls",
      "_model_module_version": "1.5.0",
      "_model_name": "FloatProgressModel",
      "_view_count": null,
      "_view_module": "@jupyter-widgets/controls",
      "_view_module_version": "1.5.0",
      "_view_name": "ProgressView",
      "bar_style": "success",
      "description": "",
      "description_tooltip": null,
      "layout": "IPY_MODEL_19ee8ba33498432db17107370c1a4bd1",
      "max": 456318,
      "min": 0,
      "orientation": "horizontal",
      "style": "IPY_MODEL_635eb598cb2448b99a68a63651bf36a0",
      "value": 456318
     }
    },
    "f1d35e86f9aa4377b76ccab37e77c51f": {
     "model_module": "@jupyter-widgets/controls",
     "model_module_version": "1.5.0",
     "model_name": "HTMLModel",
     "state": {
      "_dom_classes": [],
      "_model_module": "@jupyter-widgets/controls",
      "_model_module_version": "1.5.0",
      "_model_name": "HTMLModel",
      "_view_count": null,
      "_view_module": "@jupyter-widgets/controls",
      "_view_module_version": "1.5.0",
      "_view_name": "HTMLView",
      "description": "",
      "description_tooltip": null,
      "layout": "IPY_MODEL_f7d04cea97a743b28373856ce0ae0a47",
      "placeholder": "​",
      "style": "IPY_MODEL_a5b622f9fd7f4c89afe41b439e1d9c75",
      "value": " 665/665 [00:00&lt;00:00, 9.98kB/s]"
     }
    },
    "f7d04cea97a743b28373856ce0ae0a47": {
     "model_module": "@jupyter-widgets/base",
     "model_module_version": "1.2.0",
     "model_name": "LayoutModel",
     "state": {
      "_model_module": "@jupyter-widgets/base",
      "_model_module_version": "1.2.0",
      "_model_name": "LayoutModel",
      "_view_count": null,
      "_view_module": "@jupyter-widgets/base",
      "_view_module_version": "1.2.0",
      "_view_name": "LayoutView",
      "align_content": null,
      "align_items": null,
      "align_self": null,
      "border": null,
      "bottom": null,
      "display": null,
      "flex": null,
      "flex_flow": null,
      "grid_area": null,
      "grid_auto_columns": null,
      "grid_auto_flow": null,
      "grid_auto_rows": null,
      "grid_column": null,
      "grid_gap": null,
      "grid_row": null,
      "grid_template_areas": null,
      "grid_template_columns": null,
      "grid_template_rows": null,
      "height": null,
      "justify_content": null,
      "justify_items": null,
      "left": null,
      "margin": null,
      "max_height": null,
      "max_width": null,
      "min_height": null,
      "min_width": null,
      "object_fit": null,
      "object_position": null,
      "order": null,
      "overflow": null,
      "overflow_x": null,
      "overflow_y": null,
      "padding": null,
      "right": null,
      "top": null,
      "visibility": null,
      "width": null
     }
    }
   }
  }
 },
 "nbformat": 4,
 "nbformat_minor": 5
}
