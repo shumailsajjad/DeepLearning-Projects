{
 "cells": [
  {
   "cell_type": "code",
   "execution_count": 1,
   "id": "080d50fc",
   "metadata": {
    "colab": {
     "base_uri": "https://localhost:8080/"
    },
    "id": "080d50fc",
    "outputId": "805a6827-cc22-4afd-a5f9-77f568e752a6"
   },
   "outputs": [
    {
     "name": "stdout",
     "output_type": "stream",
     "text": [
      "Requirement already satisfied: portalocker in /Users/shumailsajjad/anaconda3/lib/python3.9/site-packages (2.8.2)\n",
      "Requirement already satisfied: torchmetrics in /Users/shumailsajjad/anaconda3/lib/python3.9/site-packages (1.3.2)\n",
      "Requirement already satisfied: numpy>1.20.0 in /Users/shumailsajjad/anaconda3/lib/python3.9/site-packages (from torchmetrics) (1.23.5)\n",
      "Requirement already satisfied: packaging>17.1 in /Users/shumailsajjad/anaconda3/lib/python3.9/site-packages (from torchmetrics) (22.0)\n",
      "Requirement already satisfied: torch>=1.10.0 in /Users/shumailsajjad/anaconda3/lib/python3.9/site-packages (from torchmetrics) (2.2.1)\n",
      "Requirement already satisfied: lightning-utilities>=0.8.0 in /Users/shumailsajjad/anaconda3/lib/python3.9/site-packages (from torchmetrics) (0.11.1)\n",
      "Requirement already satisfied: setuptools in /Users/shumailsajjad/.local/lib/python3.9/site-packages (from lightning-utilities>=0.8.0->torchmetrics) (67.7.2)\n",
      "Requirement already satisfied: typing-extensions in /Users/shumailsajjad/anaconda3/lib/python3.9/site-packages (from lightning-utilities>=0.8.0->torchmetrics) (4.9.0)\n",
      "Requirement already satisfied: filelock in /Users/shumailsajjad/anaconda3/lib/python3.9/site-packages (from torch>=1.10.0->torchmetrics) (3.9.0)\n",
      "Requirement already satisfied: sympy in /Users/shumailsajjad/anaconda3/lib/python3.9/site-packages (from torch>=1.10.0->torchmetrics) (1.11.1)\n",
      "Requirement already satisfied: networkx in /Users/shumailsajjad/anaconda3/lib/python3.9/site-packages (from torch>=1.10.0->torchmetrics) (2.8.4)\n",
      "Requirement already satisfied: jinja2 in /Users/shumailsajjad/anaconda3/lib/python3.9/site-packages (from torch>=1.10.0->torchmetrics) (3.1.2)\n",
      "Requirement already satisfied: fsspec in /Users/shumailsajjad/anaconda3/lib/python3.9/site-packages (from torch>=1.10.0->torchmetrics) (2022.11.0)\n",
      "Requirement already satisfied: MarkupSafe>=2.0 in /Users/shumailsajjad/anaconda3/lib/python3.9/site-packages (from jinja2->torch>=1.10.0->torchmetrics) (2.1.1)\n",
      "Requirement already satisfied: mpmath>=0.19 in /Users/shumailsajjad/anaconda3/lib/python3.9/site-packages (from sympy->torch>=1.10.0->torchmetrics) (1.2.1)\n"
     ]
    }
   ],
   "source": [
    "!pip install portalocker\n",
    "!pip install torchmetrics"
   ]
  },
  {
   "cell_type": "code",
   "execution_count": 2,
   "id": "B9XxyEQVWrO6",
   "metadata": {
    "colab": {
     "base_uri": "https://localhost:8080/"
    },
    "id": "B9XxyEQVWrO6",
    "outputId": "f19ffd22-c276-4c0f-a275-7d2772b21d72"
   },
   "outputs": [],
   "source": [
    "import argparse\n",
    "import logging\n",
    "import time\n",
    "\n",
    "import torch\n",
    "from torch.utils.data import DataLoader\n",
    "from torch.utils.data.dataset import random_split\n",
    "from torchtext.data.functional import to_map_style_dataset\n",
    "from torchtext.data.utils import get_tokenizer, ngrams_iterator\n",
    "from torchtext.datasets import DATASETS\n",
    "from torchtext.prototype.transforms import load_sp_model, PRETRAINED_SP_MODEL, SentencePieceTokenizer\n",
    "from torchtext.utils import download_from_url\n",
    "from torchtext.vocab import build_vocab_from_iterator\n",
    "import torch.nn as nn\n",
    "from torch.nn.utils.rnn import pad_sequence\n",
    "import torch.nn.functional as F\n",
    "from torchtext.vocab import GloVe\n",
    "from torch.optim import SGD\n",
    "from torch.optim.lr_scheduler import StepLR\n",
    "from tqdm import tqdm\n",
    "\n",
    "torch.autograd.set_detect_anomaly(True)\n",
    "\n",
    "FILL = '_FILL_'"
   ]
  },
  {
   "cell_type": "markdown",
   "id": "66eb271d",
   "metadata": {
    "id": "66eb271d"
   },
   "source": [
    "### Information\n",
    "- torchtext repo: https://github.com/pytorch/text/tree/main/torchtext\n",
    "- torchtext documentation: https://pytorch.org/text/stable/index.html"
   ]
  },
  {
   "cell_type": "markdown",
   "id": "12d93d22",
   "metadata": {
    "id": "12d93d22"
   },
   "source": [
    "### Constants"
   ]
  },
  {
   "cell_type": "code",
   "execution_count": 3,
   "id": "329c056d",
   "metadata": {
    "id": "329c056d"
   },
   "outputs": [],
   "source": [
    "DATASET = \"AG_NEWS\"\n",
    "DATA_DIR = \".data\"\n",
    "DEVICE = \"cpu\"\n",
    "EMBED_DIM = 300\n",
    "LR = 1.0\n",
    "BATCH_SIZE = 128\n",
    "NUM_EPOCHS = 5\n",
    "PADDING_VALUE = 0\n",
    "PADDING_IDX = PADDING_VALUE"
   ]
  },
  {
   "cell_type": "markdown",
   "id": "1a61aede",
   "metadata": {
    "id": "1a61aede"
   },
   "source": [
    "### Get the tokenizer\n",
    "- Use the WordLevel tokenizer.\n"
   ]
  },
  {
   "cell_type": "code",
   "execution_count": 4,
   "id": "93e3b7cb",
   "metadata": {
    "id": "93e3b7cb"
   },
   "outputs": [],
   "source": [
    "# Get basic tokenizer\n",
    "basic_english_tokenizer = get_tokenizer(\"basic_english\")"
   ]
  },
  {
   "cell_type": "code",
   "execution_count": 5,
   "id": "aa4b78e4",
   "metadata": {
    "colab": {
     "base_uri": "https://localhost:8080/"
    },
    "id": "aa4b78e4",
    "outputId": "198d4187-233e-4a13-ad60-b7fba713b88a"
   },
   "outputs": [
    {
     "data": {
      "text/plain": [
       "['this', 'is', 'some', 'text', '.', '.', '.']"
      ]
     },
     "execution_count": 5,
     "metadata": {},
     "output_type": "execute_result"
    }
   ],
   "source": [
    "basic_english_tokenizer(\"This is some text ...\")"
   ]
  },
  {
   "cell_type": "code",
   "execution_count": 6,
   "id": "505cf5ec",
   "metadata": {
    "id": "505cf5ec"
   },
   "outputs": [],
   "source": [
    "# Needed later; set this to the tokenizer above\n",
    "TOKENIZER = basic_english_tokenizer"
   ]
  },
  {
   "cell_type": "markdown",
   "id": "64096cd8",
   "metadata": {
    "id": "64096cd8"
   },
   "source": [
    "### Get the data and get the vocabulary"
   ]
  },
  {
   "cell_type": "code",
   "execution_count": 7,
   "id": "ce4a0578",
   "metadata": {
    "id": "ce4a0578"
   },
   "outputs": [],
   "source": [
    "def yield_tokens(data_iter):\n",
    "    for _, text in data_iter:\n",
    "        yield TOKENIZER(text)"
   ]
  },
  {
   "cell_type": "code",
   "execution_count": 8,
   "id": "f48f23ab",
   "metadata": {
    "id": "f48f23ab"
   },
   "outputs": [],
   "source": [
    "train_iter = DATASETS[DATASET](root=DATA_DIR, split=\"train\")\n",
    "VOCAB = build_vocab_from_iterator(yield_tokens(train_iter), specials=('<pad>', '<unk>'))\n",
    "\n",
    "# Make the default index the same as that of the unk_token.\n",
    "VOCAB.set_default_index(VOCAB['<unk>'])"
   ]
  },
  {
   "cell_type": "markdown",
   "id": "31ce9367",
   "metadata": {
    "id": "31ce9367"
   },
   "source": [
    "### Get GLOVE embeddings"
   ]
  },
  {
   "cell_type": "code",
   "execution_count": 9,
   "id": "a43f0226",
   "metadata": {
    "colab": {
     "base_uri": "https://localhost:8080/"
    },
    "id": "a43f0226",
    "outputId": "d32aeab2-e797-4f7f-eb8f-55f4cf8da1c7"
   },
   "outputs": [],
   "source": [
    "# Get the GloVe embeddings; this will be slow\n",
    "GLOVE = GloVe(name='6B', dim=EMBED_DIM)"
   ]
  },
  {
   "cell_type": "code",
   "execution_count": 10,
   "id": "6302f433",
   "metadata": {
    "colab": {
     "base_uri": "https://localhost:8080/"
    },
    "id": "6302f433",
    "outputId": "4e8cbcaf-7545-4854-e4cd-4d693418f286"
   },
   "outputs": [
    {
     "data": {
      "text/plain": [
       "(400000, torch.Size([400000, 300]))"
      ]
     },
     "execution_count": 10,
     "metadata": {},
     "output_type": "execute_result"
    }
   ],
   "source": [
    "len(GLOVE), GLOVE.vectors.shape"
   ]
  },
  {
   "cell_type": "markdown",
   "id": "200b05fc",
   "metadata": {
    "id": "200b05fc"
   },
   "source": [
    "### Helper functions"
   ]
  },
  {
   "cell_type": "code",
   "execution_count": 11,
   "id": "16ca1ef5",
   "metadata": {
    "id": "16ca1ef5"
   },
   "outputs": [],
   "source": [
    "def text_pipeline(text):\n",
    "    return VOCAB(TOKENIZER(text))\n",
    "\n",
    "def label_pipeline(label):\n",
    "    return int(label) - 1"
   ]
  },
  {
   "cell_type": "markdown",
   "id": "67ef6734",
   "metadata": {
    "id": "67ef6734"
   },
   "source": [
    "Nice link on collate_fn and DataLoader in PyTorch: https://python.plainenglish.io/understanding-collate-fn-in-pytorch-f9d1742647d3"
   ]
  },
  {
   "cell_type": "code",
   "execution_count": 20,
   "id": "ff479986",
   "metadata": {
    "id": "ff479986"
   },
   "outputs": [],
   "source": [
    "# As before, loop through the batch and transform into tensors\n",
    "def collate_batch(batch):\n",
    "    label_list, text_list = [], []\n",
    "    for (_label, _text) in batch:\n",
    "        # Get the label from {1, 2, 3, 4} to {0, 1, 2, 3}\n",
    "        labels = label_pipeline(_label)\n",
    "        label_list.append(labels)\n",
    "\n",
    "        # Return a list of ints\n",
    "        texts = text_pipeline(_text)\n",
    "        # Append to text_list\n",
    "        text_list.append(torch.tensor(texts, dtype=torch.int64))\n",
    "\n",
    "    # Pad and make into tensors as needed\n",
    "    label_list = torch.tensor(label_list, dtype=torch.int64)\n",
    "    text_list =  pad_sequence(text_list, batch_first=True, padding_value=PADDING_VALUE)\n",
    "\n",
    "    return label_list.to(DEVICE), text_list.to(DEVICE)"
   ]
  },
  {
   "cell_type": "markdown",
   "id": "c7fcf425",
   "metadata": {
    "id": "c7fcf425"
   },
   "source": [
    "### Get the data"
   ]
  },
  {
   "cell_type": "code",
   "execution_count": 13,
   "id": "e617ddce",
   "metadata": {
    "colab": {
     "base_uri": "https://localhost:8080/"
    },
    "id": "e617ddce",
    "outputId": "31d5705b-f06a-4999-99fa-2d8b66316e52"
   },
   "outputs": [
    {
     "name": "stdout",
     "output_type": "stream",
     "text": [
      "The number of classes is 4 ...\n"
     ]
    }
   ],
   "source": [
    "train_iter = DATASETS[DATASET](root=DATA_DIR, split=\"train\")\n",
    "num_class = len(set([label for (label, _) in train_iter]))\n",
    "# What are the classes?\n",
    "print(f\"The number of classes is {num_class} ...\")"
   ]
  },
  {
   "cell_type": "markdown",
   "id": "5aa8a40d",
   "metadata": {
    "id": "5aa8a40d"
   },
   "source": [
    "### Set up the model"
   ]
  },
  {
   "cell_type": "markdown",
   "id": "8abf2ede",
   "metadata": {
    "id": "8abf2ede"
   },
   "source": [
    "Good reference on this type of model\n",
    "- CNN for Sentence Classification: https://arxiv.org/pdf/1408.5882.pdf\n",
    "\n",
    "You can build CNN models with either CNN1d or CNN2d."
   ]
  },
  {
   "cell_type": "code",
   "execution_count": 14,
   "id": "dc51c359",
   "metadata": {
    "id": "dc51c359"
   },
   "outputs": [],
   "source": [
    "class CNN1dTextClassificationModel(nn.Module):\n",
    "    def __init__(\n",
    "        self,\n",
    "        vocab_size,\n",
    "        num_class,\n",
    "        embed_dim = 300,\n",
    "        use_pretrained = True,\n",
    "        fine_tune_embeddings = True,\n",
    "        debug = False\n",
    "    ):\n",
    "\n",
    "        super(CNN1dTextClassificationModel, self).__init__()\n",
    "\n",
    "        self.embedding = nn.Embedding(\n",
    "            vocab_size,\n",
    "            embed_dim,\n",
    "            padding_idx=PADDING_IDX\n",
    "        )\n",
    "\n",
    "        if use_pretrained:\n",
    "            # Set the embeddings to not requiring gradients since we'll try and modify\n",
    "            self.embedding.weight.requires_grad = fine_tune_embeddings\n",
    "            for i in range(vocab_size):\n",
    "                # Get the token for the index i\n",
    "                token = VOCAB.get_itos()[i]\n",
    "                # Modify the embedding for index i by the embedding for that token\n",
    "                # Do this only if token is in the stoi dictionary for GLOVE\n",
    "                if token in GLOVE.stoi:\n",
    "                    self.embedding.weight.data[i] = GLOVE.vectors[GLOVE.stoi[token]]\n",
    "            self.embedding.weight.requires_grad = False\n",
    "        else:\n",
    "            # Otherwise, initialize the weights as specified below\n",
    "            self.init_weights()\n",
    "\n",
    "        # If weights do not get changed, turn off gradients for the GloVe embeddings\n",
    "        if not fine_tune_embeddings:\n",
    "            self.embedding.weight.requires_grad = False\n",
    "\n",
    "        # Define a Conv1d layer that collapses all the channels and does not collapse the time dimension\n",
    "        self.cnn1 = nn.Conv1d(in_channels=embed_dim, out_channels=1, kernel_size=1)\n",
    "\n",
    "        # Define 3 Conv1d layers each having 1 filter and kernel sizes 2, 3 and 4\n",
    "        self.cnn2 = nn.Conv1d(in_channels=embed_dim, out_channels=1, kernel_size=2)\n",
    "        self.cnn3 = nn.Conv1d(in_channels=embed_dim, out_channels=1, kernel_size=3)\n",
    "        self.cnn4 = nn.Conv1d(in_channels=embed_dim, out_channels=1, kernel_size=4)\n",
    "\n",
    "        # A linear map from some dimensions to num_class (you need to figure it out)\n",
    "        self.fc = nn.Linear(in_features=4, out_features=num_class)\n",
    "\n",
    "        self.debug = debug\n",
    "\n",
    "    def init_weights(self):\n",
    "        initrange = 0.5\n",
    "        # Initialize the embedding weight matrix to uniform between the [-0.5, 0.5]\n",
    "        self.embedding.weight.data.uniform_(-initrange, initrange)\n",
    "        # Initialize the weight matrix of fc to uniform between the [-0.5, 0.5]\n",
    "        self.fc.weight.data.uniform_(-initrange, initrange)\n",
    "        # Initialize the bias for fc to zero\n",
    "        self.fc.bias.data.zero_()\n",
    "\n",
    "\n",
    "    # B = batch_size, L = sequence length, D = vector dimension\n",
    "    def forward(self, text):\n",
    "\n",
    "        # B X L X D\n",
    "        # Get the embeddings for the text passed in\n",
    "        embedded = self.embedding(text)\n",
    "\n",
    "        if self.debug:\n",
    "            print('embedding', embedded.shape)\n",
    "\n",
    "        # B X D X L\n",
    "        # Transpose the embedding above as needed\n",
    "        embedded = embedded.transpose(1, 2)\n",
    "\n",
    "        # B X 1 X L\n",
    "        # Pass through cnn1\n",
    "        cnn1 = self.cnn1(embedded)\n",
    "        if self.debug:\n",
    "            print('cnn1', cnn1.shape)\n",
    "\n",
    "        # B X 1\n",
    "        # Take Max pooling over time\n",
    "        cnn1 = F.max_pool1d(cnn1, cnn1.size(2)).squeeze(2)\n",
    "        if self.debug:\n",
    "            print('cnn1 after max pool', cnn1.shape)\n",
    "\n",
    "        # B X 1 X L - 1\n",
    "        # Pass through cnn2 and add a RELU\n",
    "        cnn2 =  F.relu(self.cnn2(embedded))\n",
    "        if self.debug:\n",
    "            print('cnn2', cnn2.shape)\n",
    "\n",
    "        # B X 1 X L - 2\n",
    "        # Pass through cnn3 and add a RELU\n",
    "        cnn3 =  F.relu(self.cnn3(embedded))\n",
    "        if self.debug:\n",
    "            print('cnn3', cnn3.shape)\n",
    "\n",
    "        # B X 1 X L - 3\n",
    "        # Pass through cnn4 and add a RELU\n",
    "        cnn4 =  F.relu(self.cnn4(embedded))\n",
    "        if self.debug:\n",
    "            print('cnn4', cnn4.shape)\n",
    "\n",
    "        # B X 1 in all cases\n",
    "        # Apply max pooling to each of cnn2, cnn3 and cnn4\n",
    "        cnn2 = F.max_pool1d(cnn2, cnn2.size(2)).squeeze(2)\n",
    "        cnn3 = F.max_pool1d(cnn3, cnn3.size(2)).squeeze(2)\n",
    "        cnn4 = F.max_pool1d(cnn4, cnn4.size(2)).squeeze(2)\n",
    "\n",
    "        # B X 1 in all cases\n",
    "        # Apply max pooling over time\n",
    "        if self.debug:\n",
    "            print('cnn2 after max', cnn2.shape)\n",
    "\n",
    "        # Add to each cnn2, 3, 4 a skip connection to cnn1 and average the results\n",
    "        cnn2 = cnn2 + cnn1\n",
    "        cnn3 = cnn3 + cnn1\n",
    "        cnn4 = cnn4 + cnn1\n",
    "        if self.debug:\n",
    "            print('cnn2 after skip connection', cnn2.shape)\n",
    "\n",
    "        # B X 3\n",
    "        # Concatenate the above\n",
    "        cnn_concat = torch.cat((cnn1, cnn2, cnn3, cnn4), dim=1)\n",
    "        \n",
    "        if self.debug:\n",
    "            print('cnn concat', cnn_concat.shape)\n",
    "            # Set the debug to False after the first forward pass\n",
    "            self.debug = False\n",
    "\n",
    "        # Pass through an appropriate Linear layer to get the right dimensions needed\n",
    "        out = self.fc(cnn_concat)\n",
    "\n",
    "        return out"
   ]
  },
  {
   "cell_type": "markdown",
   "id": "3b3c6ed5",
   "metadata": {
    "id": "3b3c6ed5"
   },
   "source": [
    "### Set up the model"
   ]
  },
  {
   "cell_type": "code",
   "execution_count": 15,
   "id": "cef585f4",
   "metadata": {
    "id": "cef585f4"
   },
   "outputs": [],
   "source": [
    "# If this is True, we will initialize the Embedding layer with GLOVE\n",
    "USE_PRETRANED = True,\n",
    "\n",
    "# If this is True, we will allow for gradient updates on the nn.Embedding layer\n",
    "FINE_TUNE_EMBEDDINGS = True\n",
    "\n",
    "# Set the loss appropriately\n",
    "criterion = nn.CrossEntropyLoss()\n",
    "\n",
    "model = CNN1dTextClassificationModel(vocab_size=len(VOCAB), num_class=num_class, embed_dim=EMBED_DIM, use_pretrained=USE_PRETRANED, fine_tune_embeddings=FINE_TUNE_EMBEDDINGS)\n",
    "\n",
    "# Set the optimizer to SGD\n",
    "# Add an L2 regularizer of 0.00001\n",
    "optimizer = SGD(model.parameters(), lr=LR, weight_decay=0.00001)\n",
    "\n",
    "# Set the scheduler to StepLR with gamma=0.1 and step_size = 1.0\n",
    "scheduler = StepLR(optimizer, step_size=1, gamma=0.1)"
   ]
  },
  {
   "cell_type": "markdown",
   "id": "26266d8a",
   "metadata": {
    "id": "26266d8a"
   },
   "source": [
    "### Set up the data"
   ]
  },
  {
   "cell_type": "code",
   "execution_count": 21,
   "id": "9c0aebb5",
   "metadata": {
    "id": "9c0aebb5"
   },
   "outputs": [],
   "source": [
    "train_iter, test_iter = DATASETS[DATASET]()\n",
    "train_dataset = to_map_style_dataset(train_iter)\n",
    "test_dataset = to_map_style_dataset(test_iter)\n",
    "\n",
    "num_train = int(len(train_dataset) * 0.95)\n",
    "split_train_, split_valid_ = random_split(train_dataset, [num_train, len(train_dataset) - num_train])\n",
    "\n",
    "train_dataloader = DataLoader(split_train_, batch_size=BATCH_SIZE, shuffle=True, collate_fn=collate_batch)\n",
    "valid_dataloader = DataLoader(split_valid_, batch_size=BATCH_SIZE, collate_fn=collate_batch)\n",
    "test_dataloader = DataLoader(test_dataset, batch_size=BATCH_SIZE, collate_fn=collate_batch)"
   ]
  },
  {
   "cell_type": "markdown",
   "id": "86476e2a",
   "metadata": {
    "id": "86476e2a"
   },
   "source": [
    "### Train the model"
   ]
  },
  {
   "cell_type": "code",
   "execution_count": 22,
   "id": "24950481",
   "metadata": {
    "id": "24950481"
   },
   "outputs": [],
   "source": [
    "def train(dataloader, model, optimizer, criterion, epoch):\n",
    "    model.train()\n",
    "    total_acc, total_count = 0, 0\n",
    "    total_loss, total_batches = 0.0, 0\n",
    "    total_zero_gradients_percentage = []\n",
    "    log_interval = 10\n",
    "\n",
    "    for idx, (label, text) in tqdm(enumerate(dataloader)):\n",
    "        # Set gradients to zero\n",
    "        optimizer.zero_grad()\n",
    "\n",
    "        # Get the predictions\n",
    "        predicted_label = model(text)\n",
    "\n",
    "        # Get the loss\n",
    "        loss = criterion(predicted_label, label)\n",
    "\n",
    "        # Do back propagation and get the gradients\n",
    "        loss.backward()\n",
    "\n",
    "        # Get the loss per batch and the number of batches\n",
    "        with torch.no_grad():\n",
    "            total_loss += loss.item()\n",
    "            total_batches += 1\n",
    "\n",
    "        # Loop through all the parameters\n",
    "        # Specifically, for this batch, get the percentage of zero gradients across all parameters\n",
    "        # Append this to the list above which will print out the total every 10 batches\n",
    "        total_nonzero_gradients = 0.0\n",
    "        total_param_count = 0.0\n",
    "        for param in model.parameters():\n",
    "            if param.grad is not None:\n",
    "                total_nonzero_gradients += torch.count_nonzero(param.grad).item()\n",
    "                total_param_count += param.numel()\n",
    "\n",
    "        # Append to total_zero_gradients_percentage\n",
    "        grads_zero = (1 - (total_nonzero_gradients / total_param_count)) * 100\n",
    "        total_zero_gradients_percentage.append(grads_zero)\n",
    "\n",
    "        # Clip the gradient at ?? Should we use 10.0 or 0.1 with the learning rate we picked and the default notebook setting?\n",
    "        # Use the above loop to help you figure this out\n",
    "        nn.utils.clip_grad_norm_(model.parameters(), max_norm=0.1)\n",
    "\n",
    "        # Do an optimization step\n",
    "        optimizer.step()\n",
    "\n",
    "        # Get the accuracy\n",
    "        total_acc += (predicted_label.argmax(1) == label).sum().item()\n",
    "        total_count += len(label)\n",
    "\n",
    "        # Log results\n",
    "        if idx % log_interval == 0 and idx > 0:\n",
    "            print(\n",
    "                \"| epoch {:3d} | {:5d}/{:5d} batches \"\n",
    "                \"| accuracy {:8.3f} \"\n",
    "                \"| loss {:8.3f} \"\n",
    "                \"| zero gradients percentage {:8.3f}\".format(\n",
    "                    epoch, idx,\n",
    "                    len(dataloader),\n",
    "                    total_acc / total_count,\n",
    "                    total_loss / total_batches,\n",
    "                    torch.tensor(total_zero_gradients_percentage).mean().item()\n",
    "                    )\n",
    "            )\n",
    "            # Reset variables as needed\n",
    "            total_acc, total_count = 0, 0\n",
    "            total_loss, total_batches = 0.0, 0\n",
    "            total_zero_gradients = []"
   ]
  },
  {
   "cell_type": "code",
   "execution_count": 23,
   "id": "39a702be",
   "metadata": {
    "id": "39a702be"
   },
   "outputs": [],
   "source": [
    "def evaluate(dataloader, model, criterion):\n",
    "    model.eval()\n",
    "    total_acc, total_count = 0, 0\n",
    "    total_loss = 0.0\n",
    "\n",
    "    with torch.no_grad():\n",
    "        for idx, (label, text) in enumerate(dataloader):\n",
    "            predited_label = model(text)\n",
    "            loss = criterion(input=predited_label, target=label)\n",
    "            total_acc += (predited_label.argmax(1) == label).sum().item()\n",
    "            total_count +=  len(label)\n",
    "            total_loss += loss.item()\n",
    "    return total_acc / total_count, total_loss / total_count"
   ]
  },
  {
   "cell_type": "code",
   "execution_count": 24,
   "id": "a9e02c09",
   "metadata": {
    "colab": {
     "base_uri": "https://localhost:8080/",
     "height": 532
    },
    "id": "a9e02c09",
    "outputId": "73970c30-4d21-4488-e4cd-684544df3c83",
    "scrolled": true
   },
   "outputs": [
    {
     "name": "stderr",
     "output_type": "stream",
     "text": [
      "12it [00:01,  6.86it/s]"
     ]
    },
    {
     "name": "stdout",
     "output_type": "stream",
     "text": [
      "| epoch   1 |    10/  891 batches | accuracy    0.301 | loss    1.368 | zero gradients percentage    0.000\n"
     ]
    },
    {
     "name": "stderr",
     "output_type": "stream",
     "text": [
      "22it [00:03,  7.55it/s]"
     ]
    },
    {
     "name": "stdout",
     "output_type": "stream",
     "text": [
      "| epoch   1 |    20/  891 batches | accuracy    0.534 | loss    1.187 | zero gradients percentage    0.000\n"
     ]
    },
    {
     "name": "stderr",
     "output_type": "stream",
     "text": [
      "32it [00:04,  8.19it/s]"
     ]
    },
    {
     "name": "stdout",
     "output_type": "stream",
     "text": [
      "| epoch   1 |    30/  891 batches | accuracy    0.687 | loss    0.987 | zero gradients percentage    0.000\n"
     ]
    },
    {
     "name": "stderr",
     "output_type": "stream",
     "text": [
      "42it [00:05,  6.25it/s]"
     ]
    },
    {
     "name": "stdout",
     "output_type": "stream",
     "text": [
      "| epoch   1 |    40/  891 batches | accuracy    0.713 | loss    0.878 | zero gradients percentage    0.000\n"
     ]
    },
    {
     "name": "stderr",
     "output_type": "stream",
     "text": [
      "52it [00:07,  7.28it/s]"
     ]
    },
    {
     "name": "stdout",
     "output_type": "stream",
     "text": [
      "| epoch   1 |    50/  891 batches | accuracy    0.754 | loss    0.813 | zero gradients percentage    0.000\n"
     ]
    },
    {
     "name": "stderr",
     "output_type": "stream",
     "text": [
      "62it [00:08,  7.19it/s]"
     ]
    },
    {
     "name": "stdout",
     "output_type": "stream",
     "text": [
      "| epoch   1 |    60/  891 batches | accuracy    0.766 | loss    0.731 | zero gradients percentage    0.000\n"
     ]
    },
    {
     "name": "stderr",
     "output_type": "stream",
     "text": [
      "72it [00:09,  7.35it/s]"
     ]
    },
    {
     "name": "stdout",
     "output_type": "stream",
     "text": [
      "| epoch   1 |    70/  891 batches | accuracy    0.779 | loss    0.680 | zero gradients percentage    0.000\n"
     ]
    },
    {
     "name": "stderr",
     "output_type": "stream",
     "text": [
      "82it [00:11,  7.20it/s]"
     ]
    },
    {
     "name": "stdout",
     "output_type": "stream",
     "text": [
      "| epoch   1 |    80/  891 batches | accuracy    0.804 | loss    0.672 | zero gradients percentage    0.000\n"
     ]
    },
    {
     "name": "stderr",
     "output_type": "stream",
     "text": [
      "92it [00:12,  5.93it/s]"
     ]
    },
    {
     "name": "stdout",
     "output_type": "stream",
     "text": [
      "| epoch   1 |    90/  891 batches | accuracy    0.799 | loss    0.635 | zero gradients percentage    0.000\n"
     ]
    },
    {
     "name": "stderr",
     "output_type": "stream",
     "text": [
      "102it [00:14,  7.80it/s]"
     ]
    },
    {
     "name": "stdout",
     "output_type": "stream",
     "text": [
      "| epoch   1 |   100/  891 batches | accuracy    0.822 | loss    0.607 | zero gradients percentage    0.000\n"
     ]
    },
    {
     "name": "stderr",
     "output_type": "stream",
     "text": [
      "112it [00:15,  8.25it/s]"
     ]
    },
    {
     "name": "stdout",
     "output_type": "stream",
     "text": [
      "| epoch   1 |   110/  891 batches | accuracy    0.838 | loss    0.574 | zero gradients percentage    0.000\n"
     ]
    },
    {
     "name": "stderr",
     "output_type": "stream",
     "text": [
      "122it [00:16,  7.37it/s]"
     ]
    },
    {
     "name": "stdout",
     "output_type": "stream",
     "text": [
      "| epoch   1 |   120/  891 batches | accuracy    0.818 | loss    0.570 | zero gradients percentage    0.000\n"
     ]
    },
    {
     "name": "stderr",
     "output_type": "stream",
     "text": [
      "132it [00:18,  6.65it/s]"
     ]
    },
    {
     "name": "stdout",
     "output_type": "stream",
     "text": [
      "| epoch   1 |   130/  891 batches | accuracy    0.832 | loss    0.562 | zero gradients percentage    0.000\n"
     ]
    },
    {
     "name": "stderr",
     "output_type": "stream",
     "text": [
      "142it [00:19,  8.35it/s]"
     ]
    },
    {
     "name": "stdout",
     "output_type": "stream",
     "text": [
      "| epoch   1 |   140/  891 batches | accuracy    0.832 | loss    0.538 | zero gradients percentage    0.000\n"
     ]
    },
    {
     "name": "stderr",
     "output_type": "stream",
     "text": [
      "152it [00:20,  7.88it/s]"
     ]
    },
    {
     "name": "stdout",
     "output_type": "stream",
     "text": [
      "| epoch   1 |   150/  891 batches | accuracy    0.838 | loss    0.514 | zero gradients percentage    0.000\n"
     ]
    },
    {
     "name": "stderr",
     "output_type": "stream",
     "text": [
      "162it [00:22,  6.87it/s]"
     ]
    },
    {
     "name": "stdout",
     "output_type": "stream",
     "text": [
      "| epoch   1 |   160/  891 batches | accuracy    0.827 | loss    0.543 | zero gradients percentage    0.000\n"
     ]
    },
    {
     "name": "stderr",
     "output_type": "stream",
     "text": [
      "172it [00:23,  7.33it/s]"
     ]
    },
    {
     "name": "stdout",
     "output_type": "stream",
     "text": [
      "| epoch   1 |   170/  891 batches | accuracy    0.858 | loss    0.513 | zero gradients percentage    0.000\n"
     ]
    },
    {
     "name": "stderr",
     "output_type": "stream",
     "text": [
      "182it [00:25,  6.56it/s]"
     ]
    },
    {
     "name": "stdout",
     "output_type": "stream",
     "text": [
      "| epoch   1 |   180/  891 batches | accuracy    0.836 | loss    0.551 | zero gradients percentage    0.000\n"
     ]
    },
    {
     "name": "stderr",
     "output_type": "stream",
     "text": [
      "192it [00:26,  7.01it/s]"
     ]
    },
    {
     "name": "stdout",
     "output_type": "stream",
     "text": [
      "| epoch   1 |   190/  891 batches | accuracy    0.834 | loss    0.501 | zero gradients percentage    0.000\n"
     ]
    },
    {
     "name": "stderr",
     "output_type": "stream",
     "text": [
      "202it [00:27,  8.45it/s]"
     ]
    },
    {
     "name": "stdout",
     "output_type": "stream",
     "text": [
      "| epoch   1 |   200/  891 batches | accuracy    0.837 | loss    0.516 | zero gradients percentage    0.000\n"
     ]
    },
    {
     "name": "stderr",
     "output_type": "stream",
     "text": [
      "212it [00:29,  6.99it/s]"
     ]
    },
    {
     "name": "stdout",
     "output_type": "stream",
     "text": [
      "| epoch   1 |   210/  891 batches | accuracy    0.848 | loss    0.474 | zero gradients percentage    0.000\n"
     ]
    },
    {
     "name": "stderr",
     "output_type": "stream",
     "text": [
      "222it [00:30,  7.13it/s]"
     ]
    },
    {
     "name": "stdout",
     "output_type": "stream",
     "text": [
      "| epoch   1 |   220/  891 batches | accuracy    0.833 | loss    0.474 | zero gradients percentage    0.000\n"
     ]
    },
    {
     "name": "stderr",
     "output_type": "stream",
     "text": [
      "232it [00:32,  7.29it/s]"
     ]
    },
    {
     "name": "stdout",
     "output_type": "stream",
     "text": [
      "| epoch   1 |   230/  891 batches | accuracy    0.845 | loss    0.487 | zero gradients percentage    0.000\n"
     ]
    },
    {
     "name": "stderr",
     "output_type": "stream",
     "text": [
      "242it [00:33,  7.72it/s]"
     ]
    },
    {
     "name": "stdout",
     "output_type": "stream",
     "text": [
      "| epoch   1 |   240/  891 batches | accuracy    0.845 | loss    0.497 | zero gradients percentage    0.000\n"
     ]
    },
    {
     "name": "stderr",
     "output_type": "stream",
     "text": [
      "252it [00:34,  8.24it/s]"
     ]
    },
    {
     "name": "stdout",
     "output_type": "stream",
     "text": [
      "| epoch   1 |   250/  891 batches | accuracy    0.846 | loss    0.473 | zero gradients percentage    0.000\n"
     ]
    },
    {
     "name": "stderr",
     "output_type": "stream",
     "text": [
      "262it [00:36,  7.09it/s]"
     ]
    },
    {
     "name": "stdout",
     "output_type": "stream",
     "text": [
      "| epoch   1 |   260/  891 batches | accuracy    0.851 | loss    0.472 | zero gradients percentage    0.000\n"
     ]
    },
    {
     "name": "stderr",
     "output_type": "stream",
     "text": [
      "272it [00:37,  7.39it/s]"
     ]
    },
    {
     "name": "stdout",
     "output_type": "stream",
     "text": [
      "| epoch   1 |   270/  891 batches | accuracy    0.845 | loss    0.490 | zero gradients percentage    0.000\n"
     ]
    },
    {
     "name": "stderr",
     "output_type": "stream",
     "text": [
      "282it [00:38,  7.29it/s]"
     ]
    },
    {
     "name": "stdout",
     "output_type": "stream",
     "text": [
      "| epoch   1 |   280/  891 batches | accuracy    0.849 | loss    0.484 | zero gradients percentage    0.000\n"
     ]
    },
    {
     "name": "stderr",
     "output_type": "stream",
     "text": [
      "291it [00:40,  8.23it/s]"
     ]
    },
    {
     "name": "stdout",
     "output_type": "stream",
     "text": [
      "| epoch   1 |   290/  891 batches | accuracy    0.849 | loss    0.469 | zero gradients percentage    0.000\n"
     ]
    },
    {
     "name": "stderr",
     "output_type": "stream",
     "text": [
      "302it [00:41,  8.42it/s]"
     ]
    },
    {
     "name": "stdout",
     "output_type": "stream",
     "text": [
      "| epoch   1 |   300/  891 batches | accuracy    0.835 | loss    0.513 | zero gradients percentage    0.000\n"
     ]
    },
    {
     "name": "stderr",
     "output_type": "stream",
     "text": [
      "312it [00:42,  7.86it/s]"
     ]
    },
    {
     "name": "stdout",
     "output_type": "stream",
     "text": [
      "| epoch   1 |   310/  891 batches | accuracy    0.855 | loss    0.462 | zero gradients percentage    0.000\n"
     ]
    },
    {
     "name": "stderr",
     "output_type": "stream",
     "text": [
      "322it [00:44,  7.14it/s]"
     ]
    },
    {
     "name": "stdout",
     "output_type": "stream",
     "text": [
      "| epoch   1 |   320/  891 batches | accuracy    0.860 | loss    0.429 | zero gradients percentage    0.000\n"
     ]
    },
    {
     "name": "stderr",
     "output_type": "stream",
     "text": [
      "332it [00:45,  7.85it/s]"
     ]
    },
    {
     "name": "stdout",
     "output_type": "stream",
     "text": [
      "| epoch   1 |   330/  891 batches | accuracy    0.848 | loss    0.464 | zero gradients percentage    0.000\n"
     ]
    },
    {
     "name": "stderr",
     "output_type": "stream",
     "text": [
      "342it [00:46,  7.19it/s]"
     ]
    },
    {
     "name": "stdout",
     "output_type": "stream",
     "text": [
      "| epoch   1 |   340/  891 batches | accuracy    0.871 | loss    0.449 | zero gradients percentage    0.000\n"
     ]
    },
    {
     "name": "stderr",
     "output_type": "stream",
     "text": [
      "352it [00:48,  8.04it/s]"
     ]
    },
    {
     "name": "stdout",
     "output_type": "stream",
     "text": [
      "| epoch   1 |   350/  891 batches | accuracy    0.861 | loss    0.434 | zero gradients percentage    0.000\n"
     ]
    },
    {
     "name": "stderr",
     "output_type": "stream",
     "text": [
      "362it [00:49,  6.41it/s]"
     ]
    },
    {
     "name": "stdout",
     "output_type": "stream",
     "text": [
      "| epoch   1 |   360/  891 batches | accuracy    0.873 | loss    0.411 | zero gradients percentage    0.000\n"
     ]
    },
    {
     "name": "stderr",
     "output_type": "stream",
     "text": [
      "372it [00:50,  8.19it/s]"
     ]
    },
    {
     "name": "stdout",
     "output_type": "stream",
     "text": [
      "| epoch   1 |   370/  891 batches | accuracy    0.835 | loss    0.509 | zero gradients percentage    0.000\n"
     ]
    },
    {
     "name": "stderr",
     "output_type": "stream",
     "text": [
      "382it [00:52,  7.31it/s]"
     ]
    },
    {
     "name": "stdout",
     "output_type": "stream",
     "text": [
      "| epoch   1 |   380/  891 batches | accuracy    0.857 | loss    0.434 | zero gradients percentage    0.000\n"
     ]
    },
    {
     "name": "stderr",
     "output_type": "stream",
     "text": [
      "392it [00:53,  7.73it/s]"
     ]
    },
    {
     "name": "stdout",
     "output_type": "stream",
     "text": [
      "| epoch   1 |   390/  891 batches | accuracy    0.862 | loss    0.444 | zero gradients percentage    0.000\n"
     ]
    },
    {
     "name": "stderr",
     "output_type": "stream",
     "text": [
      "402it [00:54,  7.36it/s]"
     ]
    },
    {
     "name": "stdout",
     "output_type": "stream",
     "text": [
      "| epoch   1 |   400/  891 batches | accuracy    0.871 | loss    0.443 | zero gradients percentage    0.000\n"
     ]
    },
    {
     "name": "stderr",
     "output_type": "stream",
     "text": [
      "412it [00:56,  7.26it/s]"
     ]
    },
    {
     "name": "stdout",
     "output_type": "stream",
     "text": [
      "| epoch   1 |   410/  891 batches | accuracy    0.855 | loss    0.446 | zero gradients percentage    0.000\n"
     ]
    },
    {
     "name": "stderr",
     "output_type": "stream",
     "text": [
      "422it [00:57,  6.09it/s]"
     ]
    },
    {
     "name": "stdout",
     "output_type": "stream",
     "text": [
      "| epoch   1 |   420/  891 batches | accuracy    0.845 | loss    0.465 | zero gradients percentage    0.000\n"
     ]
    },
    {
     "name": "stderr",
     "output_type": "stream",
     "text": [
      "432it [00:58,  7.92it/s]"
     ]
    },
    {
     "name": "stdout",
     "output_type": "stream",
     "text": [
      "| epoch   1 |   430/  891 batches | accuracy    0.848 | loss    0.446 | zero gradients percentage    0.000\n"
     ]
    },
    {
     "name": "stderr",
     "output_type": "stream",
     "text": [
      "442it [01:00,  8.13it/s]"
     ]
    },
    {
     "name": "stdout",
     "output_type": "stream",
     "text": [
      "| epoch   1 |   440/  891 batches | accuracy    0.842 | loss    0.469 | zero gradients percentage    0.000\n"
     ]
    },
    {
     "name": "stderr",
     "output_type": "stream",
     "text": [
      "452it [01:01,  7.99it/s]"
     ]
    },
    {
     "name": "stdout",
     "output_type": "stream",
     "text": [
      "| epoch   1 |   450/  891 batches | accuracy    0.871 | loss    0.411 | zero gradients percentage    0.000\n"
     ]
    },
    {
     "name": "stderr",
     "output_type": "stream",
     "text": [
      "462it [01:02,  8.01it/s]"
     ]
    },
    {
     "name": "stdout",
     "output_type": "stream",
     "text": [
      "| epoch   1 |   460/  891 batches | accuracy    0.861 | loss    0.423 | zero gradients percentage    0.000\n"
     ]
    },
    {
     "name": "stderr",
     "output_type": "stream",
     "text": [
      "472it [01:03,  8.03it/s]"
     ]
    },
    {
     "name": "stdout",
     "output_type": "stream",
     "text": [
      "| epoch   1 |   470/  891 batches | accuracy    0.848 | loss    0.440 | zero gradients percentage    0.000\n"
     ]
    },
    {
     "name": "stderr",
     "output_type": "stream",
     "text": [
      "482it [01:05,  7.08it/s]"
     ]
    },
    {
     "name": "stdout",
     "output_type": "stream",
     "text": [
      "| epoch   1 |   480/  891 batches | accuracy    0.873 | loss    0.410 | zero gradients percentage    0.000\n"
     ]
    },
    {
     "name": "stderr",
     "output_type": "stream",
     "text": [
      "492it [01:06,  8.48it/s]"
     ]
    },
    {
     "name": "stdout",
     "output_type": "stream",
     "text": [
      "| epoch   1 |   490/  891 batches | accuracy    0.860 | loss    0.451 | zero gradients percentage    0.000\n"
     ]
    },
    {
     "name": "stderr",
     "output_type": "stream",
     "text": [
      "502it [01:07,  8.78it/s]"
     ]
    },
    {
     "name": "stdout",
     "output_type": "stream",
     "text": [
      "| epoch   1 |   500/  891 batches | accuracy    0.847 | loss    0.443 | zero gradients percentage    0.000\n"
     ]
    },
    {
     "name": "stderr",
     "output_type": "stream",
     "text": [
      "512it [01:09,  7.72it/s]"
     ]
    },
    {
     "name": "stdout",
     "output_type": "stream",
     "text": [
      "| epoch   1 |   510/  891 batches | accuracy    0.848 | loss    0.443 | zero gradients percentage    0.000\n"
     ]
    },
    {
     "name": "stderr",
     "output_type": "stream",
     "text": [
      "522it [01:10,  7.00it/s]"
     ]
    },
    {
     "name": "stdout",
     "output_type": "stream",
     "text": [
      "| epoch   1 |   520/  891 batches | accuracy    0.868 | loss    0.398 | zero gradients percentage    0.000\n"
     ]
    },
    {
     "name": "stderr",
     "output_type": "stream",
     "text": [
      "532it [01:11,  7.64it/s]"
     ]
    },
    {
     "name": "stdout",
     "output_type": "stream",
     "text": [
      "| epoch   1 |   530/  891 batches | accuracy    0.859 | loss    0.434 | zero gradients percentage    0.000\n"
     ]
    },
    {
     "name": "stderr",
     "output_type": "stream",
     "text": [
      "542it [01:13,  7.70it/s]"
     ]
    },
    {
     "name": "stdout",
     "output_type": "stream",
     "text": [
      "| epoch   1 |   540/  891 batches | accuracy    0.852 | loss    0.446 | zero gradients percentage    0.000\n"
     ]
    },
    {
     "name": "stderr",
     "output_type": "stream",
     "text": [
      "552it [01:14,  8.05it/s]"
     ]
    },
    {
     "name": "stdout",
     "output_type": "stream",
     "text": [
      "| epoch   1 |   550/  891 batches | accuracy    0.852 | loss    0.414 | zero gradients percentage    0.000\n"
     ]
    },
    {
     "name": "stderr",
     "output_type": "stream",
     "text": [
      "562it [01:15,  7.78it/s]"
     ]
    },
    {
     "name": "stdout",
     "output_type": "stream",
     "text": [
      "| epoch   1 |   560/  891 batches | accuracy    0.831 | loss    0.476 | zero gradients percentage    0.000\n"
     ]
    },
    {
     "name": "stderr",
     "output_type": "stream",
     "text": [
      "572it [01:17,  7.29it/s]"
     ]
    },
    {
     "name": "stdout",
     "output_type": "stream",
     "text": [
      "| epoch   1 |   570/  891 batches | accuracy    0.863 | loss    0.438 | zero gradients percentage    0.000\n"
     ]
    },
    {
     "name": "stderr",
     "output_type": "stream",
     "text": [
      "582it [01:18,  7.18it/s]"
     ]
    },
    {
     "name": "stdout",
     "output_type": "stream",
     "text": [
      "| epoch   1 |   580/  891 batches | accuracy    0.853 | loss    0.427 | zero gradients percentage    0.000\n"
     ]
    },
    {
     "name": "stderr",
     "output_type": "stream",
     "text": [
      "592it [01:19,  7.41it/s]"
     ]
    },
    {
     "name": "stdout",
     "output_type": "stream",
     "text": [
      "| epoch   1 |   590/  891 batches | accuracy    0.862 | loss    0.424 | zero gradients percentage    0.000\n"
     ]
    },
    {
     "name": "stderr",
     "output_type": "stream",
     "text": [
      "602it [01:21,  7.24it/s]"
     ]
    },
    {
     "name": "stdout",
     "output_type": "stream",
     "text": [
      "| epoch   1 |   600/  891 batches | accuracy    0.849 | loss    0.449 | zero gradients percentage    0.000\n"
     ]
    },
    {
     "name": "stderr",
     "output_type": "stream",
     "text": [
      "612it [01:22,  7.88it/s]"
     ]
    },
    {
     "name": "stdout",
     "output_type": "stream",
     "text": [
      "| epoch   1 |   610/  891 batches | accuracy    0.872 | loss    0.394 | zero gradients percentage    0.000\n"
     ]
    },
    {
     "name": "stderr",
     "output_type": "stream",
     "text": [
      "622it [01:24,  6.34it/s]"
     ]
    },
    {
     "name": "stdout",
     "output_type": "stream",
     "text": [
      "| epoch   1 |   620/  891 batches | accuracy    0.855 | loss    0.435 | zero gradients percentage    0.000\n"
     ]
    },
    {
     "name": "stderr",
     "output_type": "stream",
     "text": [
      "632it [01:25,  7.49it/s]"
     ]
    },
    {
     "name": "stdout",
     "output_type": "stream",
     "text": [
      "| epoch   1 |   630/  891 batches | accuracy    0.859 | loss    0.421 | zero gradients percentage    0.000\n"
     ]
    },
    {
     "name": "stderr",
     "output_type": "stream",
     "text": [
      "642it [01:26,  7.40it/s]"
     ]
    },
    {
     "name": "stdout",
     "output_type": "stream",
     "text": [
      "| epoch   1 |   640/  891 batches | accuracy    0.846 | loss    0.430 | zero gradients percentage    0.000\n"
     ]
    },
    {
     "name": "stderr",
     "output_type": "stream",
     "text": [
      "652it [01:28,  7.62it/s]"
     ]
    },
    {
     "name": "stdout",
     "output_type": "stream",
     "text": [
      "| epoch   1 |   650/  891 batches | accuracy    0.855 | loss    0.429 | zero gradients percentage    0.000\n"
     ]
    },
    {
     "name": "stderr",
     "output_type": "stream",
     "text": [
      "662it [01:29,  8.11it/s]"
     ]
    },
    {
     "name": "stdout",
     "output_type": "stream",
     "text": [
      "| epoch   1 |   660/  891 batches | accuracy    0.860 | loss    0.411 | zero gradients percentage    0.000\n"
     ]
    },
    {
     "name": "stderr",
     "output_type": "stream",
     "text": [
      "672it [01:30,  6.33it/s]"
     ]
    },
    {
     "name": "stdout",
     "output_type": "stream",
     "text": [
      "| epoch   1 |   670/  891 batches | accuracy    0.880 | loss    0.392 | zero gradients percentage    0.000\n"
     ]
    },
    {
     "name": "stderr",
     "output_type": "stream",
     "text": [
      "682it [01:32,  7.08it/s]"
     ]
    },
    {
     "name": "stdout",
     "output_type": "stream",
     "text": [
      "| epoch   1 |   680/  891 batches | accuracy    0.867 | loss    0.397 | zero gradients percentage    0.000\n"
     ]
    },
    {
     "name": "stderr",
     "output_type": "stream",
     "text": [
      "692it [01:33,  6.57it/s]"
     ]
    },
    {
     "name": "stdout",
     "output_type": "stream",
     "text": [
      "| epoch   1 |   690/  891 batches | accuracy    0.843 | loss    0.447 | zero gradients percentage    0.000\n"
     ]
    },
    {
     "name": "stderr",
     "output_type": "stream",
     "text": [
      "702it [01:35,  7.23it/s]"
     ]
    },
    {
     "name": "stdout",
     "output_type": "stream",
     "text": [
      "| epoch   1 |   700/  891 batches | accuracy    0.864 | loss    0.409 | zero gradients percentage    0.000\n"
     ]
    },
    {
     "name": "stderr",
     "output_type": "stream",
     "text": [
      "712it [01:36,  6.77it/s]"
     ]
    },
    {
     "name": "stdout",
     "output_type": "stream",
     "text": [
      "| epoch   1 |   710/  891 batches | accuracy    0.843 | loss    0.474 | zero gradients percentage    0.000\n"
     ]
    },
    {
     "name": "stderr",
     "output_type": "stream",
     "text": [
      "722it [01:38,  7.80it/s]"
     ]
    },
    {
     "name": "stdout",
     "output_type": "stream",
     "text": [
      "| epoch   1 |   720/  891 batches | accuracy    0.869 | loss    0.397 | zero gradients percentage    0.000\n"
     ]
    },
    {
     "name": "stderr",
     "output_type": "stream",
     "text": [
      "732it [01:39,  6.86it/s]"
     ]
    },
    {
     "name": "stdout",
     "output_type": "stream",
     "text": [
      "| epoch   1 |   730/  891 batches | accuracy    0.846 | loss    0.422 | zero gradients percentage    0.000\n"
     ]
    },
    {
     "name": "stderr",
     "output_type": "stream",
     "text": [
      "742it [01:40,  7.62it/s]"
     ]
    },
    {
     "name": "stdout",
     "output_type": "stream",
     "text": [
      "| epoch   1 |   740/  891 batches | accuracy    0.859 | loss    0.444 | zero gradients percentage    0.000\n"
     ]
    },
    {
     "name": "stderr",
     "output_type": "stream",
     "text": [
      "752it [01:42,  7.96it/s]"
     ]
    },
    {
     "name": "stdout",
     "output_type": "stream",
     "text": [
      "| epoch   1 |   750/  891 batches | accuracy    0.859 | loss    0.442 | zero gradients percentage    0.000\n"
     ]
    },
    {
     "name": "stderr",
     "output_type": "stream",
     "text": [
      "761it [01:43,  7.21it/s]"
     ]
    },
    {
     "name": "stdout",
     "output_type": "stream",
     "text": [
      "| epoch   1 |   760/  891 batches | accuracy    0.870 | loss    0.372 | zero gradients percentage    0.000\n"
     ]
    },
    {
     "name": "stderr",
     "output_type": "stream",
     "text": [
      "772it [01:44,  7.52it/s]"
     ]
    },
    {
     "name": "stdout",
     "output_type": "stream",
     "text": [
      "| epoch   1 |   770/  891 batches | accuracy    0.876 | loss    0.398 | zero gradients percentage    0.000\n"
     ]
    },
    {
     "name": "stderr",
     "output_type": "stream",
     "text": [
      "782it [01:46,  6.93it/s]"
     ]
    },
    {
     "name": "stdout",
     "output_type": "stream",
     "text": [
      "| epoch   1 |   780/  891 batches | accuracy    0.853 | loss    0.428 | zero gradients percentage    0.000\n"
     ]
    },
    {
     "name": "stderr",
     "output_type": "stream",
     "text": [
      "792it [01:47,  7.01it/s]"
     ]
    },
    {
     "name": "stdout",
     "output_type": "stream",
     "text": [
      "| epoch   1 |   790/  891 batches | accuracy    0.870 | loss    0.411 | zero gradients percentage    0.000\n"
     ]
    },
    {
     "name": "stderr",
     "output_type": "stream",
     "text": [
      "802it [01:49,  7.70it/s]"
     ]
    },
    {
     "name": "stdout",
     "output_type": "stream",
     "text": [
      "| epoch   1 |   800/  891 batches | accuracy    0.848 | loss    0.438 | zero gradients percentage    0.000\n"
     ]
    },
    {
     "name": "stderr",
     "output_type": "stream",
     "text": [
      "812it [01:50,  7.53it/s]"
     ]
    },
    {
     "name": "stdout",
     "output_type": "stream",
     "text": [
      "| epoch   1 |   810/  891 batches | accuracy    0.870 | loss    0.394 | zero gradients percentage    0.000\n"
     ]
    },
    {
     "name": "stderr",
     "output_type": "stream",
     "text": [
      "822it [01:51,  7.42it/s]"
     ]
    },
    {
     "name": "stdout",
     "output_type": "stream",
     "text": [
      "| epoch   1 |   820/  891 batches | accuracy    0.863 | loss    0.390 | zero gradients percentage    0.000\n"
     ]
    },
    {
     "name": "stderr",
     "output_type": "stream",
     "text": [
      "832it [01:52,  7.71it/s]"
     ]
    },
    {
     "name": "stdout",
     "output_type": "stream",
     "text": [
      "| epoch   1 |   830/  891 batches | accuracy    0.877 | loss    0.390 | zero gradients percentage    0.000\n"
     ]
    },
    {
     "name": "stderr",
     "output_type": "stream",
     "text": [
      "842it [01:54,  8.14it/s]"
     ]
    },
    {
     "name": "stdout",
     "output_type": "stream",
     "text": [
      "| epoch   1 |   840/  891 batches | accuracy    0.863 | loss    0.434 | zero gradients percentage    0.000\n"
     ]
    },
    {
     "name": "stderr",
     "output_type": "stream",
     "text": [
      "852it [01:55,  6.63it/s]"
     ]
    },
    {
     "name": "stdout",
     "output_type": "stream",
     "text": [
      "| epoch   1 |   850/  891 batches | accuracy    0.860 | loss    0.431 | zero gradients percentage    0.000\n"
     ]
    },
    {
     "name": "stderr",
     "output_type": "stream",
     "text": [
      "862it [01:57,  6.92it/s]"
     ]
    },
    {
     "name": "stdout",
     "output_type": "stream",
     "text": [
      "| epoch   1 |   860/  891 batches | accuracy    0.865 | loss    0.383 | zero gradients percentage    0.000\n"
     ]
    },
    {
     "name": "stderr",
     "output_type": "stream",
     "text": [
      "872it [01:58,  6.74it/s]"
     ]
    },
    {
     "name": "stdout",
     "output_type": "stream",
     "text": [
      "| epoch   1 |   870/  891 batches | accuracy    0.850 | loss    0.416 | zero gradients percentage    0.000\n"
     ]
    },
    {
     "name": "stderr",
     "output_type": "stream",
     "text": [
      "882it [02:00,  7.03it/s]"
     ]
    },
    {
     "name": "stdout",
     "output_type": "stream",
     "text": [
      "| epoch   1 |   880/  891 batches | accuracy    0.860 | loss    0.395 | zero gradients percentage    0.000\n"
     ]
    },
    {
     "name": "stderr",
     "output_type": "stream",
     "text": [
      "891it [02:01,  7.34it/s]\n"
     ]
    },
    {
     "name": "stdout",
     "output_type": "stream",
     "text": [
      "| epoch   1 |   890/  891 batches | accuracy    0.868 | loss    0.378 | zero gradients percentage    0.000\n",
      "-----------------------------------------------------------\n",
      "| end of epoch   1 | time: 126.24s | valid accuracy    0.863 \n",
      "-----------------------------------------------------------\n"
     ]
    },
    {
     "name": "stderr",
     "output_type": "stream",
     "text": [
      "12it [00:01,  8.71it/s]"
     ]
    },
    {
     "name": "stdout",
     "output_type": "stream",
     "text": [
      "| epoch   2 |    10/  891 batches | accuracy    0.870 | loss    0.381 | zero gradients percentage    0.000\n"
     ]
    },
    {
     "name": "stderr",
     "output_type": "stream",
     "text": [
      "22it [00:02,  6.21it/s]"
     ]
    },
    {
     "name": "stdout",
     "output_type": "stream",
     "text": [
      "| epoch   2 |    20/  891 batches | accuracy    0.870 | loss    0.382 | zero gradients percentage    0.000\n"
     ]
    },
    {
     "name": "stderr",
     "output_type": "stream",
     "text": [
      "32it [00:04,  6.84it/s]"
     ]
    },
    {
     "name": "stdout",
     "output_type": "stream",
     "text": [
      "| epoch   2 |    30/  891 batches | accuracy    0.859 | loss    0.390 | zero gradients percentage    0.000\n"
     ]
    },
    {
     "name": "stderr",
     "output_type": "stream",
     "text": [
      "42it [00:05,  8.03it/s]"
     ]
    },
    {
     "name": "stdout",
     "output_type": "stream",
     "text": [
      "| epoch   2 |    40/  891 batches | accuracy    0.862 | loss    0.412 | zero gradients percentage    0.000\n"
     ]
    },
    {
     "name": "stderr",
     "output_type": "stream",
     "text": [
      "52it [00:07,  6.86it/s]"
     ]
    },
    {
     "name": "stdout",
     "output_type": "stream",
     "text": [
      "| epoch   2 |    50/  891 batches | accuracy    0.858 | loss    0.414 | zero gradients percentage    0.000\n"
     ]
    },
    {
     "name": "stderr",
     "output_type": "stream",
     "text": [
      "62it [00:08,  7.74it/s]"
     ]
    },
    {
     "name": "stdout",
     "output_type": "stream",
     "text": [
      "| epoch   2 |    60/  891 batches | accuracy    0.873 | loss    0.381 | zero gradients percentage    0.000\n"
     ]
    },
    {
     "name": "stderr",
     "output_type": "stream",
     "text": [
      "72it [00:09,  7.30it/s]"
     ]
    },
    {
     "name": "stdout",
     "output_type": "stream",
     "text": [
      "| epoch   2 |    70/  891 batches | accuracy    0.866 | loss    0.392 | zero gradients percentage    0.000\n"
     ]
    },
    {
     "name": "stderr",
     "output_type": "stream",
     "text": [
      "82it [00:11,  7.76it/s]"
     ]
    },
    {
     "name": "stdout",
     "output_type": "stream",
     "text": [
      "| epoch   2 |    80/  891 batches | accuracy    0.862 | loss    0.426 | zero gradients percentage    0.000\n"
     ]
    },
    {
     "name": "stderr",
     "output_type": "stream",
     "text": [
      "92it [00:12,  6.92it/s]"
     ]
    },
    {
     "name": "stdout",
     "output_type": "stream",
     "text": [
      "| epoch   2 |    90/  891 batches | accuracy    0.860 | loss    0.399 | zero gradients percentage    0.000\n"
     ]
    },
    {
     "name": "stderr",
     "output_type": "stream",
     "text": [
      "102it [00:13,  7.74it/s]"
     ]
    },
    {
     "name": "stdout",
     "output_type": "stream",
     "text": [
      "| epoch   2 |   100/  891 batches | accuracy    0.864 | loss    0.392 | zero gradients percentage    0.000\n"
     ]
    },
    {
     "name": "stderr",
     "output_type": "stream",
     "text": [
      "112it [00:15,  6.85it/s]"
     ]
    },
    {
     "name": "stdout",
     "output_type": "stream",
     "text": [
      "| epoch   2 |   110/  891 batches | accuracy    0.879 | loss    0.351 | zero gradients percentage    0.000\n"
     ]
    },
    {
     "name": "stderr",
     "output_type": "stream",
     "text": [
      "122it [00:16,  8.11it/s]"
     ]
    },
    {
     "name": "stdout",
     "output_type": "stream",
     "text": [
      "| epoch   2 |   120/  891 batches | accuracy    0.896 | loss    0.360 | zero gradients percentage    0.000\n"
     ]
    },
    {
     "name": "stderr",
     "output_type": "stream",
     "text": [
      "132it [00:17,  7.35it/s]"
     ]
    },
    {
     "name": "stdout",
     "output_type": "stream",
     "text": [
      "| epoch   2 |   130/  891 batches | accuracy    0.859 | loss    0.399 | zero gradients percentage    0.000\n"
     ]
    },
    {
     "name": "stderr",
     "output_type": "stream",
     "text": [
      "142it [00:19,  6.76it/s]"
     ]
    },
    {
     "name": "stdout",
     "output_type": "stream",
     "text": [
      "| epoch   2 |   140/  891 batches | accuracy    0.876 | loss    0.376 | zero gradients percentage    0.000\n"
     ]
    },
    {
     "name": "stderr",
     "output_type": "stream",
     "text": [
      "152it [00:20,  7.93it/s]"
     ]
    },
    {
     "name": "stdout",
     "output_type": "stream",
     "text": [
      "| epoch   2 |   150/  891 batches | accuracy    0.873 | loss    0.389 | zero gradients percentage    0.000\n"
     ]
    },
    {
     "name": "stderr",
     "output_type": "stream",
     "text": [
      "162it [00:22,  6.68it/s]"
     ]
    },
    {
     "name": "stdout",
     "output_type": "stream",
     "text": [
      "| epoch   2 |   160/  891 batches | accuracy    0.870 | loss    0.378 | zero gradients percentage    0.000\n"
     ]
    },
    {
     "name": "stderr",
     "output_type": "stream",
     "text": [
      "172it [00:23,  6.53it/s]"
     ]
    },
    {
     "name": "stdout",
     "output_type": "stream",
     "text": [
      "| epoch   2 |   170/  891 batches | accuracy    0.878 | loss    0.366 | zero gradients percentage    0.000\n"
     ]
    },
    {
     "name": "stderr",
     "output_type": "stream",
     "text": [
      "182it [00:24,  7.47it/s]"
     ]
    },
    {
     "name": "stdout",
     "output_type": "stream",
     "text": [
      "| epoch   2 |   180/  891 batches | accuracy    0.871 | loss    0.373 | zero gradients percentage    0.000\n"
     ]
    },
    {
     "name": "stderr",
     "output_type": "stream",
     "text": [
      "192it [00:26,  7.88it/s]"
     ]
    },
    {
     "name": "stdout",
     "output_type": "stream",
     "text": [
      "| epoch   2 |   190/  891 batches | accuracy    0.877 | loss    0.343 | zero gradients percentage    0.000\n"
     ]
    },
    {
     "name": "stderr",
     "output_type": "stream",
     "text": [
      "202it [00:27,  7.69it/s]"
     ]
    },
    {
     "name": "stdout",
     "output_type": "stream",
     "text": [
      "| epoch   2 |   200/  891 batches | accuracy    0.877 | loss    0.356 | zero gradients percentage    0.000\n"
     ]
    },
    {
     "name": "stderr",
     "output_type": "stream",
     "text": [
      "212it [00:28,  6.78it/s]"
     ]
    },
    {
     "name": "stdout",
     "output_type": "stream",
     "text": [
      "| epoch   2 |   210/  891 batches | accuracy    0.854 | loss    0.404 | zero gradients percentage    0.000\n"
     ]
    },
    {
     "name": "stderr",
     "output_type": "stream",
     "text": [
      "222it [00:30,  7.91it/s]"
     ]
    },
    {
     "name": "stdout",
     "output_type": "stream",
     "text": [
      "| epoch   2 |   220/  891 batches | accuracy    0.892 | loss    0.328 | zero gradients percentage    0.000\n"
     ]
    },
    {
     "name": "stderr",
     "output_type": "stream",
     "text": [
      "232it [00:31,  7.65it/s]"
     ]
    },
    {
     "name": "stdout",
     "output_type": "stream",
     "text": [
      "| epoch   2 |   230/  891 batches | accuracy    0.878 | loss    0.358 | zero gradients percentage    0.000\n"
     ]
    },
    {
     "name": "stderr",
     "output_type": "stream",
     "text": [
      "242it [00:32,  8.04it/s]"
     ]
    },
    {
     "name": "stdout",
     "output_type": "stream",
     "text": [
      "| epoch   2 |   240/  891 batches | accuracy    0.870 | loss    0.374 | zero gradients percentage    0.000\n"
     ]
    },
    {
     "name": "stderr",
     "output_type": "stream",
     "text": [
      "252it [00:34,  6.96it/s]"
     ]
    },
    {
     "name": "stdout",
     "output_type": "stream",
     "text": [
      "| epoch   2 |   250/  891 batches | accuracy    0.862 | loss    0.415 | zero gradients percentage    0.000\n"
     ]
    },
    {
     "name": "stderr",
     "output_type": "stream",
     "text": [
      "262it [00:35,  8.02it/s]"
     ]
    },
    {
     "name": "stdout",
     "output_type": "stream",
     "text": [
      "| epoch   2 |   260/  891 batches | accuracy    0.861 | loss    0.407 | zero gradients percentage    0.000\n"
     ]
    },
    {
     "name": "stderr",
     "output_type": "stream",
     "text": [
      "272it [00:36,  8.33it/s]"
     ]
    },
    {
     "name": "stdout",
     "output_type": "stream",
     "text": [
      "| epoch   2 |   270/  891 batches | accuracy    0.880 | loss    0.371 | zero gradients percentage    0.000\n"
     ]
    },
    {
     "name": "stderr",
     "output_type": "stream",
     "text": [
      "282it [00:38,  7.78it/s]"
     ]
    },
    {
     "name": "stdout",
     "output_type": "stream",
     "text": [
      "| epoch   2 |   280/  891 batches | accuracy    0.861 | loss    0.386 | zero gradients percentage    0.000\n"
     ]
    },
    {
     "name": "stderr",
     "output_type": "stream",
     "text": [
      "292it [00:39,  7.22it/s]"
     ]
    },
    {
     "name": "stdout",
     "output_type": "stream",
     "text": [
      "| epoch   2 |   290/  891 batches | accuracy    0.878 | loss    0.377 | zero gradients percentage    0.000\n"
     ]
    },
    {
     "name": "stderr",
     "output_type": "stream",
     "text": [
      "302it [00:40,  7.47it/s]"
     ]
    },
    {
     "name": "stdout",
     "output_type": "stream",
     "text": [
      "| epoch   2 |   300/  891 batches | accuracy    0.885 | loss    0.358 | zero gradients percentage    0.000\n"
     ]
    },
    {
     "name": "stderr",
     "output_type": "stream",
     "text": [
      "312it [00:42,  7.72it/s]"
     ]
    },
    {
     "name": "stdout",
     "output_type": "stream",
     "text": [
      "| epoch   2 |   310/  891 batches | accuracy    0.870 | loss    0.374 | zero gradients percentage    0.000\n"
     ]
    },
    {
     "name": "stderr",
     "output_type": "stream",
     "text": [
      "322it [00:43,  7.37it/s]"
     ]
    },
    {
     "name": "stdout",
     "output_type": "stream",
     "text": [
      "| epoch   2 |   320/  891 batches | accuracy    0.863 | loss    0.401 | zero gradients percentage    0.000\n"
     ]
    },
    {
     "name": "stderr",
     "output_type": "stream",
     "text": [
      "332it [00:45,  5.99it/s]"
     ]
    },
    {
     "name": "stdout",
     "output_type": "stream",
     "text": [
      "| epoch   2 |   330/  891 batches | accuracy    0.870 | loss    0.365 | zero gradients percentage    0.000\n"
     ]
    },
    {
     "name": "stderr",
     "output_type": "stream",
     "text": [
      "342it [00:46,  7.96it/s]"
     ]
    },
    {
     "name": "stdout",
     "output_type": "stream",
     "text": [
      "| epoch   2 |   340/  891 batches | accuracy    0.881 | loss    0.349 | zero gradients percentage    0.000\n"
     ]
    },
    {
     "name": "stderr",
     "output_type": "stream",
     "text": [
      "352it [00:47,  8.09it/s]"
     ]
    },
    {
     "name": "stdout",
     "output_type": "stream",
     "text": [
      "| epoch   2 |   350/  891 batches | accuracy    0.879 | loss    0.366 | zero gradients percentage    0.000\n"
     ]
    },
    {
     "name": "stderr",
     "output_type": "stream",
     "text": [
      "362it [00:49,  7.95it/s]"
     ]
    },
    {
     "name": "stdout",
     "output_type": "stream",
     "text": [
      "| epoch   2 |   360/  891 batches | accuracy    0.864 | loss    0.403 | zero gradients percentage    0.000\n"
     ]
    },
    {
     "name": "stderr",
     "output_type": "stream",
     "text": [
      "372it [00:50,  7.50it/s]"
     ]
    },
    {
     "name": "stdout",
     "output_type": "stream",
     "text": [
      "| epoch   2 |   370/  891 batches | accuracy    0.879 | loss    0.364 | zero gradients percentage    0.000\n"
     ]
    },
    {
     "name": "stderr",
     "output_type": "stream",
     "text": [
      "382it [00:51,  8.45it/s]"
     ]
    },
    {
     "name": "stdout",
     "output_type": "stream",
     "text": [
      "| epoch   2 |   380/  891 batches | accuracy    0.872 | loss    0.377 | zero gradients percentage    0.000\n"
     ]
    },
    {
     "name": "stderr",
     "output_type": "stream",
     "text": [
      "392it [00:53,  6.57it/s]"
     ]
    },
    {
     "name": "stdout",
     "output_type": "stream",
     "text": [
      "| epoch   2 |   390/  891 batches | accuracy    0.870 | loss    0.383 | zero gradients percentage    0.000\n"
     ]
    },
    {
     "name": "stderr",
     "output_type": "stream",
     "text": [
      "402it [00:54,  8.26it/s]"
     ]
    },
    {
     "name": "stdout",
     "output_type": "stream",
     "text": [
      "| epoch   2 |   400/  891 batches | accuracy    0.881 | loss    0.361 | zero gradients percentage    0.000\n"
     ]
    },
    {
     "name": "stderr",
     "output_type": "stream",
     "text": [
      "412it [00:55,  6.81it/s]"
     ]
    },
    {
     "name": "stdout",
     "output_type": "stream",
     "text": [
      "| epoch   2 |   410/  891 batches | accuracy    0.890 | loss    0.373 | zero gradients percentage    0.000\n"
     ]
    },
    {
     "name": "stderr",
     "output_type": "stream",
     "text": [
      "422it [00:57,  7.13it/s]"
     ]
    },
    {
     "name": "stdout",
     "output_type": "stream",
     "text": [
      "| epoch   2 |   420/  891 batches | accuracy    0.875 | loss    0.366 | zero gradients percentage    0.000\n"
     ]
    },
    {
     "name": "stderr",
     "output_type": "stream",
     "text": [
      "432it [00:58,  7.28it/s]"
     ]
    },
    {
     "name": "stdout",
     "output_type": "stream",
     "text": [
      "| epoch   2 |   430/  891 batches | accuracy    0.876 | loss    0.376 | zero gradients percentage    0.000\n"
     ]
    },
    {
     "name": "stderr",
     "output_type": "stream",
     "text": [
      "441it [00:59,  7.37it/s]"
     ]
    },
    {
     "name": "stdout",
     "output_type": "stream",
     "text": [
      "| epoch   2 |   440/  891 batches | accuracy    0.857 | loss    0.396 | zero gradients percentage    0.000\n"
     ]
    },
    {
     "name": "stderr",
     "output_type": "stream",
     "text": [
      "452it [01:01,  7.42it/s]"
     ]
    },
    {
     "name": "stdout",
     "output_type": "stream",
     "text": [
      "| epoch   2 |   450/  891 batches | accuracy    0.864 | loss    0.400 | zero gradients percentage    0.000\n"
     ]
    },
    {
     "name": "stderr",
     "output_type": "stream",
     "text": [
      "462it [01:02,  7.24it/s]"
     ]
    },
    {
     "name": "stdout",
     "output_type": "stream",
     "text": [
      "| epoch   2 |   460/  891 batches | accuracy    0.867 | loss    0.377 | zero gradients percentage    0.000\n"
     ]
    },
    {
     "name": "stderr",
     "output_type": "stream",
     "text": [
      "472it [01:04,  7.92it/s]"
     ]
    },
    {
     "name": "stdout",
     "output_type": "stream",
     "text": [
      "| epoch   2 |   470/  891 batches | accuracy    0.869 | loss    0.383 | zero gradients percentage    0.000\n"
     ]
    },
    {
     "name": "stderr",
     "output_type": "stream",
     "text": [
      "482it [01:05,  6.67it/s]"
     ]
    },
    {
     "name": "stdout",
     "output_type": "stream",
     "text": [
      "| epoch   2 |   480/  891 batches | accuracy    0.865 | loss    0.382 | zero gradients percentage    0.000\n"
     ]
    },
    {
     "name": "stderr",
     "output_type": "stream",
     "text": [
      "492it [01:06,  8.10it/s]"
     ]
    },
    {
     "name": "stdout",
     "output_type": "stream",
     "text": [
      "| epoch   2 |   490/  891 batches | accuracy    0.852 | loss    0.409 | zero gradients percentage    0.000\n"
     ]
    },
    {
     "name": "stderr",
     "output_type": "stream",
     "text": [
      "502it [01:08,  7.31it/s]"
     ]
    },
    {
     "name": "stdout",
     "output_type": "stream",
     "text": [
      "| epoch   2 |   500/  891 batches | accuracy    0.866 | loss    0.384 | zero gradients percentage    0.000\n"
     ]
    },
    {
     "name": "stderr",
     "output_type": "stream",
     "text": [
      "512it [01:09,  8.05it/s]"
     ]
    },
    {
     "name": "stdout",
     "output_type": "stream",
     "text": [
      "| epoch   2 |   510/  891 batches | accuracy    0.869 | loss    0.396 | zero gradients percentage    0.000\n"
     ]
    },
    {
     "name": "stderr",
     "output_type": "stream",
     "text": [
      "522it [01:10,  7.91it/s]"
     ]
    },
    {
     "name": "stdout",
     "output_type": "stream",
     "text": [
      "| epoch   2 |   520/  891 batches | accuracy    0.888 | loss    0.338 | zero gradients percentage    0.000\n"
     ]
    },
    {
     "name": "stderr",
     "output_type": "stream",
     "text": [
      "532it [01:12,  6.73it/s]"
     ]
    },
    {
     "name": "stdout",
     "output_type": "stream",
     "text": [
      "| epoch   2 |   530/  891 batches | accuracy    0.874 | loss    0.352 | zero gradients percentage    0.000\n"
     ]
    },
    {
     "name": "stderr",
     "output_type": "stream",
     "text": [
      "542it [01:13,  6.81it/s]"
     ]
    },
    {
     "name": "stdout",
     "output_type": "stream",
     "text": [
      "| epoch   2 |   540/  891 batches | accuracy    0.877 | loss    0.377 | zero gradients percentage    0.000\n"
     ]
    },
    {
     "name": "stderr",
     "output_type": "stream",
     "text": [
      "552it [01:15,  6.43it/s]"
     ]
    },
    {
     "name": "stdout",
     "output_type": "stream",
     "text": [
      "| epoch   2 |   550/  891 batches | accuracy    0.862 | loss    0.408 | zero gradients percentage    0.000\n"
     ]
    },
    {
     "name": "stderr",
     "output_type": "stream",
     "text": [
      "562it [01:16,  7.19it/s]"
     ]
    },
    {
     "name": "stdout",
     "output_type": "stream",
     "text": [
      "| epoch   2 |   560/  891 batches | accuracy    0.864 | loss    0.374 | zero gradients percentage    0.000\n"
     ]
    },
    {
     "name": "stderr",
     "output_type": "stream",
     "text": [
      "572it [01:17,  8.16it/s]"
     ]
    },
    {
     "name": "stdout",
     "output_type": "stream",
     "text": [
      "| epoch   2 |   570/  891 batches | accuracy    0.875 | loss    0.372 | zero gradients percentage    0.000\n"
     ]
    },
    {
     "name": "stderr",
     "output_type": "stream",
     "text": [
      "582it [01:19,  6.60it/s]"
     ]
    },
    {
     "name": "stdout",
     "output_type": "stream",
     "text": [
      "| epoch   2 |   580/  891 batches | accuracy    0.864 | loss    0.385 | zero gradients percentage    0.000\n"
     ]
    },
    {
     "name": "stderr",
     "output_type": "stream",
     "text": [
      "592it [01:20,  8.41it/s]"
     ]
    },
    {
     "name": "stdout",
     "output_type": "stream",
     "text": [
      "| epoch   2 |   590/  891 batches | accuracy    0.879 | loss    0.386 | zero gradients percentage    0.000\n"
     ]
    },
    {
     "name": "stderr",
     "output_type": "stream",
     "text": [
      "602it [01:22,  7.72it/s]"
     ]
    },
    {
     "name": "stdout",
     "output_type": "stream",
     "text": [
      "| epoch   2 |   600/  891 batches | accuracy    0.865 | loss    0.409 | zero gradients percentage    0.000\n"
     ]
    },
    {
     "name": "stderr",
     "output_type": "stream",
     "text": [
      "612it [01:23,  8.23it/s]"
     ]
    },
    {
     "name": "stdout",
     "output_type": "stream",
     "text": [
      "| epoch   2 |   610/  891 batches | accuracy    0.877 | loss    0.365 | zero gradients percentage    0.000\n"
     ]
    },
    {
     "name": "stderr",
     "output_type": "stream",
     "text": [
      "622it [01:24,  7.22it/s]"
     ]
    },
    {
     "name": "stdout",
     "output_type": "stream",
     "text": [
      "| epoch   2 |   620/  891 batches | accuracy    0.891 | loss    0.357 | zero gradients percentage    0.000\n"
     ]
    },
    {
     "name": "stderr",
     "output_type": "stream",
     "text": [
      "632it [01:26,  8.35it/s]"
     ]
    },
    {
     "name": "stdout",
     "output_type": "stream",
     "text": [
      "| epoch   2 |   630/  891 batches | accuracy    0.859 | loss    0.382 | zero gradients percentage    0.000\n"
     ]
    },
    {
     "name": "stderr",
     "output_type": "stream",
     "text": [
      "642it [01:27,  7.61it/s]"
     ]
    },
    {
     "name": "stdout",
     "output_type": "stream",
     "text": [
      "| epoch   2 |   640/  891 batches | accuracy    0.861 | loss    0.389 | zero gradients percentage    0.000\n"
     ]
    },
    {
     "name": "stderr",
     "output_type": "stream",
     "text": [
      "652it [01:28,  6.49it/s]"
     ]
    },
    {
     "name": "stdout",
     "output_type": "stream",
     "text": [
      "| epoch   2 |   650/  891 batches | accuracy    0.870 | loss    0.390 | zero gradients percentage    0.000\n"
     ]
    },
    {
     "name": "stderr",
     "output_type": "stream",
     "text": [
      "662it [01:30,  7.79it/s]"
     ]
    },
    {
     "name": "stdout",
     "output_type": "stream",
     "text": [
      "| epoch   2 |   660/  891 batches | accuracy    0.866 | loss    0.374 | zero gradients percentage    0.000\n"
     ]
    },
    {
     "name": "stderr",
     "output_type": "stream",
     "text": [
      "672it [01:31,  7.56it/s]"
     ]
    },
    {
     "name": "stdout",
     "output_type": "stream",
     "text": [
      "| epoch   2 |   670/  891 batches | accuracy    0.863 | loss    0.384 | zero gradients percentage    0.000\n"
     ]
    },
    {
     "name": "stderr",
     "output_type": "stream",
     "text": [
      "682it [01:32,  7.58it/s]"
     ]
    },
    {
     "name": "stdout",
     "output_type": "stream",
     "text": [
      "| epoch   2 |   680/  891 batches | accuracy    0.883 | loss    0.366 | zero gradients percentage    0.000\n"
     ]
    },
    {
     "name": "stderr",
     "output_type": "stream",
     "text": [
      "692it [01:34,  6.69it/s]"
     ]
    },
    {
     "name": "stdout",
     "output_type": "stream",
     "text": [
      "| epoch   2 |   690/  891 batches | accuracy    0.889 | loss    0.346 | zero gradients percentage    0.000\n"
     ]
    },
    {
     "name": "stderr",
     "output_type": "stream",
     "text": [
      "702it [01:35,  7.11it/s]"
     ]
    },
    {
     "name": "stdout",
     "output_type": "stream",
     "text": [
      "| epoch   2 |   700/  891 batches | accuracy    0.894 | loss    0.331 | zero gradients percentage    0.000\n"
     ]
    },
    {
     "name": "stderr",
     "output_type": "stream",
     "text": [
      "712it [01:37,  7.44it/s]"
     ]
    },
    {
     "name": "stdout",
     "output_type": "stream",
     "text": [
      "| epoch   2 |   710/  891 batches | accuracy    0.876 | loss    0.393 | zero gradients percentage    0.000\n"
     ]
    },
    {
     "name": "stderr",
     "output_type": "stream",
     "text": [
      "722it [01:38,  7.40it/s]"
     ]
    },
    {
     "name": "stdout",
     "output_type": "stream",
     "text": [
      "| epoch   2 |   720/  891 batches | accuracy    0.877 | loss    0.367 | zero gradients percentage    0.000\n"
     ]
    },
    {
     "name": "stderr",
     "output_type": "stream",
     "text": [
      "732it [01:39,  7.55it/s]"
     ]
    },
    {
     "name": "stdout",
     "output_type": "stream",
     "text": [
      "| epoch   2 |   730/  891 batches | accuracy    0.886 | loss    0.353 | zero gradients percentage    0.000\n"
     ]
    },
    {
     "name": "stderr",
     "output_type": "stream",
     "text": [
      "742it [01:41,  7.83it/s]"
     ]
    },
    {
     "name": "stdout",
     "output_type": "stream",
     "text": [
      "| epoch   2 |   740/  891 batches | accuracy    0.873 | loss    0.394 | zero gradients percentage    0.000\n"
     ]
    },
    {
     "name": "stderr",
     "output_type": "stream",
     "text": [
      "752it [01:42,  7.89it/s]"
     ]
    },
    {
     "name": "stdout",
     "output_type": "stream",
     "text": [
      "| epoch   2 |   750/  891 batches | accuracy    0.874 | loss    0.390 | zero gradients percentage    0.000\n"
     ]
    },
    {
     "name": "stderr",
     "output_type": "stream",
     "text": [
      "762it [01:43,  7.22it/s]"
     ]
    },
    {
     "name": "stdout",
     "output_type": "stream",
     "text": [
      "| epoch   2 |   760/  891 batches | accuracy    0.882 | loss    0.372 | zero gradients percentage    0.000\n"
     ]
    },
    {
     "name": "stderr",
     "output_type": "stream",
     "text": [
      "772it [01:45,  7.58it/s]"
     ]
    },
    {
     "name": "stdout",
     "output_type": "stream",
     "text": [
      "| epoch   2 |   770/  891 batches | accuracy    0.870 | loss    0.360 | zero gradients percentage    0.000\n"
     ]
    },
    {
     "name": "stderr",
     "output_type": "stream",
     "text": [
      "782it [01:46,  7.61it/s]"
     ]
    },
    {
     "name": "stdout",
     "output_type": "stream",
     "text": [
      "| epoch   2 |   780/  891 batches | accuracy    0.878 | loss    0.357 | zero gradients percentage    0.000\n"
     ]
    },
    {
     "name": "stderr",
     "output_type": "stream",
     "text": [
      "792it [01:48,  7.55it/s]"
     ]
    },
    {
     "name": "stdout",
     "output_type": "stream",
     "text": [
      "| epoch   2 |   790/  891 batches | accuracy    0.863 | loss    0.403 | zero gradients percentage    0.000\n"
     ]
    },
    {
     "name": "stderr",
     "output_type": "stream",
     "text": [
      "802it [01:49,  7.83it/s]"
     ]
    },
    {
     "name": "stdout",
     "output_type": "stream",
     "text": [
      "| epoch   2 |   800/  891 batches | accuracy    0.861 | loss    0.428 | zero gradients percentage    0.000\n"
     ]
    },
    {
     "name": "stderr",
     "output_type": "stream",
     "text": [
      "811it [01:50,  6.64it/s]"
     ]
    },
    {
     "name": "stdout",
     "output_type": "stream",
     "text": [
      "| epoch   2 |   810/  891 batches | accuracy    0.876 | loss    0.376 | zero gradients percentage    0.000\n"
     ]
    },
    {
     "name": "stderr",
     "output_type": "stream",
     "text": [
      "822it [01:52,  7.34it/s]"
     ]
    },
    {
     "name": "stdout",
     "output_type": "stream",
     "text": [
      "| epoch   2 |   820/  891 batches | accuracy    0.867 | loss    0.404 | zero gradients percentage    0.000\n"
     ]
    },
    {
     "name": "stderr",
     "output_type": "stream",
     "text": [
      "832it [01:53,  8.39it/s]"
     ]
    },
    {
     "name": "stdout",
     "output_type": "stream",
     "text": [
      "| epoch   2 |   830/  891 batches | accuracy    0.891 | loss    0.347 | zero gradients percentage    0.000\n"
     ]
    },
    {
     "name": "stderr",
     "output_type": "stream",
     "text": [
      "842it [01:54,  7.04it/s]"
     ]
    },
    {
     "name": "stdout",
     "output_type": "stream",
     "text": [
      "| epoch   2 |   840/  891 batches | accuracy    0.885 | loss    0.366 | zero gradients percentage    0.000\n"
     ]
    },
    {
     "name": "stderr",
     "output_type": "stream",
     "text": [
      "852it [01:56,  6.73it/s]"
     ]
    },
    {
     "name": "stdout",
     "output_type": "stream",
     "text": [
      "| epoch   2 |   850/  891 batches | accuracy    0.876 | loss    0.333 | zero gradients percentage    0.000\n"
     ]
    },
    {
     "name": "stderr",
     "output_type": "stream",
     "text": [
      "862it [01:57,  7.48it/s]"
     ]
    },
    {
     "name": "stdout",
     "output_type": "stream",
     "text": [
      "| epoch   2 |   860/  891 batches | accuracy    0.880 | loss    0.357 | zero gradients percentage    0.000\n"
     ]
    },
    {
     "name": "stderr",
     "output_type": "stream",
     "text": [
      "872it [01:58,  7.78it/s]"
     ]
    },
    {
     "name": "stdout",
     "output_type": "stream",
     "text": [
      "| epoch   2 |   870/  891 batches | accuracy    0.864 | loss    0.376 | zero gradients percentage    0.000\n"
     ]
    },
    {
     "name": "stderr",
     "output_type": "stream",
     "text": [
      "882it [02:00,  7.56it/s]"
     ]
    },
    {
     "name": "stdout",
     "output_type": "stream",
     "text": [
      "| epoch   2 |   880/  891 batches | accuracy    0.860 | loss    0.420 | zero gradients percentage    0.000\n"
     ]
    },
    {
     "name": "stderr",
     "output_type": "stream",
     "text": [
      "891it [02:01,  7.34it/s]\n"
     ]
    },
    {
     "name": "stdout",
     "output_type": "stream",
     "text": [
      "| epoch   2 |   890/  891 batches | accuracy    0.856 | loss    0.414 | zero gradients percentage    0.000\n",
      "-----------------------------------------------------------\n",
      "| end of epoch   2 | time: 126.14s | valid accuracy    0.868 \n",
      "-----------------------------------------------------------\n"
     ]
    },
    {
     "name": "stderr",
     "output_type": "stream",
     "text": [
      "12it [00:01,  6.98it/s]"
     ]
    },
    {
     "name": "stdout",
     "output_type": "stream",
     "text": [
      "| epoch   3 |    10/  891 batches | accuracy    0.871 | loss    0.378 | zero gradients percentage    0.000\n"
     ]
    },
    {
     "name": "stderr",
     "output_type": "stream",
     "text": [
      "22it [00:03,  7.91it/s]"
     ]
    },
    {
     "name": "stdout",
     "output_type": "stream",
     "text": [
      "| epoch   3 |    20/  891 batches | accuracy    0.873 | loss    0.373 | zero gradients percentage    0.000\n"
     ]
    },
    {
     "name": "stderr",
     "output_type": "stream",
     "text": [
      "32it [00:04,  7.12it/s]"
     ]
    },
    {
     "name": "stdout",
     "output_type": "stream",
     "text": [
      "| epoch   3 |    30/  891 batches | accuracy    0.874 | loss    0.361 | zero gradients percentage    0.000\n"
     ]
    },
    {
     "name": "stderr",
     "output_type": "stream",
     "text": [
      "42it [00:05,  8.39it/s]"
     ]
    },
    {
     "name": "stdout",
     "output_type": "stream",
     "text": [
      "| epoch   3 |    40/  891 batches | accuracy    0.879 | loss    0.363 | zero gradients percentage    0.000\n"
     ]
    },
    {
     "name": "stderr",
     "output_type": "stream",
     "text": [
      "52it [00:07,  6.94it/s]"
     ]
    },
    {
     "name": "stdout",
     "output_type": "stream",
     "text": [
      "| epoch   3 |    50/  891 batches | accuracy    0.881 | loss    0.363 | zero gradients percentage    0.000\n"
     ]
    },
    {
     "name": "stderr",
     "output_type": "stream",
     "text": [
      "62it [00:08,  7.71it/s]"
     ]
    },
    {
     "name": "stdout",
     "output_type": "stream",
     "text": [
      "| epoch   3 |    60/  891 batches | accuracy    0.887 | loss    0.317 | zero gradients percentage    0.000\n"
     ]
    },
    {
     "name": "stderr",
     "output_type": "stream",
     "text": [
      "72it [00:09,  7.66it/s]"
     ]
    },
    {
     "name": "stdout",
     "output_type": "stream",
     "text": [
      "| epoch   3 |    70/  891 batches | accuracy    0.871 | loss    0.406 | zero gradients percentage    0.000\n"
     ]
    },
    {
     "name": "stderr",
     "output_type": "stream",
     "text": [
      "82it [00:10,  8.39it/s]"
     ]
    },
    {
     "name": "stdout",
     "output_type": "stream",
     "text": [
      "| epoch   3 |    80/  891 batches | accuracy    0.884 | loss    0.349 | zero gradients percentage    0.000\n"
     ]
    },
    {
     "name": "stderr",
     "output_type": "stream",
     "text": [
      "92it [00:12,  7.50it/s]"
     ]
    },
    {
     "name": "stdout",
     "output_type": "stream",
     "text": [
      "| epoch   3 |    90/  891 batches | accuracy    0.874 | loss    0.372 | zero gradients percentage    0.000\n"
     ]
    },
    {
     "name": "stderr",
     "output_type": "stream",
     "text": [
      "102it [00:13,  8.19it/s]"
     ]
    },
    {
     "name": "stdout",
     "output_type": "stream",
     "text": [
      "| epoch   3 |   100/  891 batches | accuracy    0.860 | loss    0.383 | zero gradients percentage    0.000\n"
     ]
    },
    {
     "name": "stderr",
     "output_type": "stream",
     "text": [
      "112it [00:15,  7.70it/s]"
     ]
    },
    {
     "name": "stdout",
     "output_type": "stream",
     "text": [
      "| epoch   3 |   110/  891 batches | accuracy    0.880 | loss    0.379 | zero gradients percentage    0.000\n"
     ]
    },
    {
     "name": "stderr",
     "output_type": "stream",
     "text": [
      "122it [00:16,  7.36it/s]"
     ]
    },
    {
     "name": "stdout",
     "output_type": "stream",
     "text": [
      "| epoch   3 |   120/  891 batches | accuracy    0.880 | loss    0.379 | zero gradients percentage    0.000\n"
     ]
    },
    {
     "name": "stderr",
     "output_type": "stream",
     "text": [
      "132it [00:17,  8.08it/s]"
     ]
    },
    {
     "name": "stdout",
     "output_type": "stream",
     "text": [
      "| epoch   3 |   130/  891 batches | accuracy    0.865 | loss    0.380 | zero gradients percentage    0.000\n"
     ]
    },
    {
     "name": "stderr",
     "output_type": "stream",
     "text": [
      "142it [00:19,  6.61it/s]"
     ]
    },
    {
     "name": "stdout",
     "output_type": "stream",
     "text": [
      "| epoch   3 |   140/  891 batches | accuracy    0.863 | loss    0.391 | zero gradients percentage    0.000\n"
     ]
    },
    {
     "name": "stderr",
     "output_type": "stream",
     "text": [
      "152it [00:20,  7.84it/s]"
     ]
    },
    {
     "name": "stdout",
     "output_type": "stream",
     "text": [
      "| epoch   3 |   150/  891 batches | accuracy    0.887 | loss    0.336 | zero gradients percentage    0.000\n"
     ]
    },
    {
     "name": "stderr",
     "output_type": "stream",
     "text": [
      "162it [00:21,  8.05it/s]"
     ]
    },
    {
     "name": "stdout",
     "output_type": "stream",
     "text": [
      "| epoch   3 |   160/  891 batches | accuracy    0.866 | loss    0.384 | zero gradients percentage    0.000\n"
     ]
    },
    {
     "name": "stderr",
     "output_type": "stream",
     "text": [
      "172it [00:23,  7.07it/s]"
     ]
    },
    {
     "name": "stdout",
     "output_type": "stream",
     "text": [
      "| epoch   3 |   170/  891 batches | accuracy    0.866 | loss    0.405 | zero gradients percentage    0.000\n"
     ]
    },
    {
     "name": "stderr",
     "output_type": "stream",
     "text": [
      "181it [00:24,  8.01it/s]"
     ]
    },
    {
     "name": "stdout",
     "output_type": "stream",
     "text": [
      "| epoch   3 |   180/  891 batches | accuracy    0.856 | loss    0.412 | zero gradients percentage    0.000\n"
     ]
    },
    {
     "name": "stderr",
     "output_type": "stream",
     "text": [
      "192it [00:26,  7.07it/s]"
     ]
    },
    {
     "name": "stdout",
     "output_type": "stream",
     "text": [
      "| epoch   3 |   190/  891 batches | accuracy    0.871 | loss    0.372 | zero gradients percentage    0.000\n"
     ]
    },
    {
     "name": "stderr",
     "output_type": "stream",
     "text": [
      "202it [00:27,  7.42it/s]"
     ]
    },
    {
     "name": "stdout",
     "output_type": "stream",
     "text": [
      "| epoch   3 |   200/  891 batches | accuracy    0.847 | loss    0.408 | zero gradients percentage    0.000\n"
     ]
    },
    {
     "name": "stderr",
     "output_type": "stream",
     "text": [
      "212it [00:29,  6.72it/s]"
     ]
    },
    {
     "name": "stdout",
     "output_type": "stream",
     "text": [
      "| epoch   3 |   210/  891 batches | accuracy    0.876 | loss    0.355 | zero gradients percentage    0.000\n"
     ]
    },
    {
     "name": "stderr",
     "output_type": "stream",
     "text": [
      "222it [00:30,  7.05it/s]"
     ]
    },
    {
     "name": "stdout",
     "output_type": "stream",
     "text": [
      "| epoch   3 |   220/  891 batches | accuracy    0.874 | loss    0.356 | zero gradients percentage    0.000\n"
     ]
    },
    {
     "name": "stderr",
     "output_type": "stream",
     "text": [
      "232it [00:31,  7.69it/s]"
     ]
    },
    {
     "name": "stdout",
     "output_type": "stream",
     "text": [
      "| epoch   3 |   230/  891 batches | accuracy    0.880 | loss    0.357 | zero gradients percentage    0.000\n"
     ]
    },
    {
     "name": "stderr",
     "output_type": "stream",
     "text": [
      "242it [00:33,  7.43it/s]"
     ]
    },
    {
     "name": "stdout",
     "output_type": "stream",
     "text": [
      "| epoch   3 |   240/  891 batches | accuracy    0.891 | loss    0.339 | zero gradients percentage    0.000\n"
     ]
    },
    {
     "name": "stderr",
     "output_type": "stream",
     "text": [
      "252it [00:34,  7.63it/s]"
     ]
    },
    {
     "name": "stdout",
     "output_type": "stream",
     "text": [
      "| epoch   3 |   250/  891 batches | accuracy    0.871 | loss    0.401 | zero gradients percentage    0.000\n"
     ]
    },
    {
     "name": "stderr",
     "output_type": "stream",
     "text": [
      "262it [00:35,  6.83it/s]"
     ]
    },
    {
     "name": "stdout",
     "output_type": "stream",
     "text": [
      "| epoch   3 |   260/  891 batches | accuracy    0.877 | loss    0.350 | zero gradients percentage    0.000\n"
     ]
    },
    {
     "name": "stderr",
     "output_type": "stream",
     "text": [
      "272it [00:37,  7.16it/s]"
     ]
    },
    {
     "name": "stdout",
     "output_type": "stream",
     "text": [
      "| epoch   3 |   270/  891 batches | accuracy    0.877 | loss    0.376 | zero gradients percentage    0.000\n"
     ]
    },
    {
     "name": "stderr",
     "output_type": "stream",
     "text": [
      "282it [00:38,  7.22it/s]"
     ]
    },
    {
     "name": "stdout",
     "output_type": "stream",
     "text": [
      "| epoch   3 |   280/  891 batches | accuracy    0.870 | loss    0.377 | zero gradients percentage    0.000\n"
     ]
    },
    {
     "name": "stderr",
     "output_type": "stream",
     "text": [
      "292it [00:39,  7.52it/s]"
     ]
    },
    {
     "name": "stdout",
     "output_type": "stream",
     "text": [
      "| epoch   3 |   290/  891 batches | accuracy    0.868 | loss    0.368 | zero gradients percentage    0.000\n"
     ]
    },
    {
     "name": "stderr",
     "output_type": "stream",
     "text": [
      "302it [00:41,  6.84it/s]"
     ]
    },
    {
     "name": "stdout",
     "output_type": "stream",
     "text": [
      "| epoch   3 |   300/  891 batches | accuracy    0.883 | loss    0.361 | zero gradients percentage    0.000\n"
     ]
    },
    {
     "name": "stderr",
     "output_type": "stream",
     "text": [
      "312it [00:42,  7.22it/s]"
     ]
    },
    {
     "name": "stdout",
     "output_type": "stream",
     "text": [
      "| epoch   3 |   310/  891 batches | accuracy    0.872 | loss    0.395 | zero gradients percentage    0.000\n"
     ]
    },
    {
     "name": "stderr",
     "output_type": "stream",
     "text": [
      "322it [00:44,  6.81it/s]"
     ]
    },
    {
     "name": "stdout",
     "output_type": "stream",
     "text": [
      "| epoch   3 |   320/  891 batches | accuracy    0.872 | loss    0.383 | zero gradients percentage    0.000\n"
     ]
    },
    {
     "name": "stderr",
     "output_type": "stream",
     "text": [
      "332it [00:45,  7.57it/s]"
     ]
    },
    {
     "name": "stdout",
     "output_type": "stream",
     "text": [
      "| epoch   3 |   330/  891 batches | accuracy    0.866 | loss    0.393 | zero gradients percentage    0.000\n"
     ]
    },
    {
     "name": "stderr",
     "output_type": "stream",
     "text": [
      "342it [00:47,  6.71it/s]"
     ]
    },
    {
     "name": "stdout",
     "output_type": "stream",
     "text": [
      "| epoch   3 |   340/  891 batches | accuracy    0.886 | loss    0.363 | zero gradients percentage    0.000\n"
     ]
    },
    {
     "name": "stderr",
     "output_type": "stream",
     "text": [
      "352it [00:48,  7.12it/s]"
     ]
    },
    {
     "name": "stdout",
     "output_type": "stream",
     "text": [
      "| epoch   3 |   350/  891 batches | accuracy    0.887 | loss    0.339 | zero gradients percentage    0.000\n"
     ]
    },
    {
     "name": "stderr",
     "output_type": "stream",
     "text": [
      "362it [00:49,  7.80it/s]"
     ]
    },
    {
     "name": "stdout",
     "output_type": "stream",
     "text": [
      "| epoch   3 |   360/  891 batches | accuracy    0.878 | loss    0.398 | zero gradients percentage    0.000\n"
     ]
    },
    {
     "name": "stderr",
     "output_type": "stream",
     "text": [
      "372it [00:51,  6.91it/s]"
     ]
    },
    {
     "name": "stdout",
     "output_type": "stream",
     "text": [
      "| epoch   3 |   370/  891 batches | accuracy    0.886 | loss    0.354 | zero gradients percentage    0.000\n"
     ]
    },
    {
     "name": "stderr",
     "output_type": "stream",
     "text": [
      "382it [00:52,  6.64it/s]"
     ]
    },
    {
     "name": "stdout",
     "output_type": "stream",
     "text": [
      "| epoch   3 |   380/  891 batches | accuracy    0.855 | loss    0.406 | zero gradients percentage    0.000\n"
     ]
    },
    {
     "name": "stderr",
     "output_type": "stream",
     "text": [
      "392it [00:54,  5.66it/s]"
     ]
    },
    {
     "name": "stdout",
     "output_type": "stream",
     "text": [
      "| epoch   3 |   390/  891 batches | accuracy    0.884 | loss    0.352 | zero gradients percentage    0.000\n"
     ]
    },
    {
     "name": "stderr",
     "output_type": "stream",
     "text": [
      "402it [00:55,  6.52it/s]"
     ]
    },
    {
     "name": "stdout",
     "output_type": "stream",
     "text": [
      "| epoch   3 |   400/  891 batches | accuracy    0.859 | loss    0.409 | zero gradients percentage    0.000\n"
     ]
    },
    {
     "name": "stderr",
     "output_type": "stream",
     "text": [
      "412it [00:57,  7.02it/s]"
     ]
    },
    {
     "name": "stdout",
     "output_type": "stream",
     "text": [
      "| epoch   3 |   410/  891 batches | accuracy    0.879 | loss    0.340 | zero gradients percentage    0.000\n"
     ]
    },
    {
     "name": "stderr",
     "output_type": "stream",
     "text": [
      "422it [00:58,  7.87it/s]"
     ]
    },
    {
     "name": "stdout",
     "output_type": "stream",
     "text": [
      "| epoch   3 |   420/  891 batches | accuracy    0.884 | loss    0.352 | zero gradients percentage    0.000\n"
     ]
    },
    {
     "name": "stderr",
     "output_type": "stream",
     "text": [
      "432it [00:59,  7.63it/s]"
     ]
    },
    {
     "name": "stdout",
     "output_type": "stream",
     "text": [
      "| epoch   3 |   430/  891 batches | accuracy    0.872 | loss    0.375 | zero gradients percentage    0.000\n"
     ]
    },
    {
     "name": "stderr",
     "output_type": "stream",
     "text": [
      "442it [01:01,  6.82it/s]"
     ]
    },
    {
     "name": "stdout",
     "output_type": "stream",
     "text": [
      "| epoch   3 |   440/  891 batches | accuracy    0.877 | loss    0.395 | zero gradients percentage    0.000\n"
     ]
    },
    {
     "name": "stderr",
     "output_type": "stream",
     "text": [
      "452it [01:02,  6.90it/s]"
     ]
    },
    {
     "name": "stdout",
     "output_type": "stream",
     "text": [
      "| epoch   3 |   450/  891 batches | accuracy    0.874 | loss    0.378 | zero gradients percentage    0.000\n"
     ]
    },
    {
     "name": "stderr",
     "output_type": "stream",
     "text": [
      "462it [01:04,  7.51it/s]"
     ]
    },
    {
     "name": "stdout",
     "output_type": "stream",
     "text": [
      "| epoch   3 |   460/  891 batches | accuracy    0.877 | loss    0.373 | zero gradients percentage    0.000\n"
     ]
    },
    {
     "name": "stderr",
     "output_type": "stream",
     "text": [
      "472it [01:05,  6.33it/s]"
     ]
    },
    {
     "name": "stdout",
     "output_type": "stream",
     "text": [
      "| epoch   3 |   470/  891 batches | accuracy    0.866 | loss    0.397 | zero gradients percentage    0.000\n"
     ]
    },
    {
     "name": "stderr",
     "output_type": "stream",
     "text": [
      "482it [01:06,  7.68it/s]"
     ]
    },
    {
     "name": "stdout",
     "output_type": "stream",
     "text": [
      "| epoch   3 |   480/  891 batches | accuracy    0.878 | loss    0.375 | zero gradients percentage    0.000\n"
     ]
    },
    {
     "name": "stderr",
     "output_type": "stream",
     "text": [
      "492it [01:08,  6.99it/s]"
     ]
    },
    {
     "name": "stdout",
     "output_type": "stream",
     "text": [
      "| epoch   3 |   490/  891 batches | accuracy    0.882 | loss    0.346 | zero gradients percentage    0.000\n"
     ]
    },
    {
     "name": "stderr",
     "output_type": "stream",
     "text": [
      "502it [01:09,  7.32it/s]"
     ]
    },
    {
     "name": "stdout",
     "output_type": "stream",
     "text": [
      "| epoch   3 |   500/  891 batches | accuracy    0.880 | loss    0.371 | zero gradients percentage    0.000\n"
     ]
    },
    {
     "name": "stderr",
     "output_type": "stream",
     "text": [
      "512it [01:11,  7.15it/s]"
     ]
    },
    {
     "name": "stdout",
     "output_type": "stream",
     "text": [
      "| epoch   3 |   510/  891 batches | accuracy    0.867 | loss    0.388 | zero gradients percentage    0.000\n"
     ]
    },
    {
     "name": "stderr",
     "output_type": "stream",
     "text": [
      "522it [01:12,  7.07it/s]"
     ]
    },
    {
     "name": "stdout",
     "output_type": "stream",
     "text": [
      "| epoch   3 |   520/  891 batches | accuracy    0.857 | loss    0.427 | zero gradients percentage    0.000\n"
     ]
    },
    {
     "name": "stderr",
     "output_type": "stream",
     "text": [
      "532it [01:14,  6.55it/s]"
     ]
    },
    {
     "name": "stdout",
     "output_type": "stream",
     "text": [
      "| epoch   3 |   530/  891 batches | accuracy    0.886 | loss    0.333 | zero gradients percentage    0.000\n"
     ]
    },
    {
     "name": "stderr",
     "output_type": "stream",
     "text": [
      "542it [01:15,  7.30it/s]"
     ]
    },
    {
     "name": "stdout",
     "output_type": "stream",
     "text": [
      "| epoch   3 |   540/  891 batches | accuracy    0.873 | loss    0.365 | zero gradients percentage    0.000\n"
     ]
    },
    {
     "name": "stderr",
     "output_type": "stream",
     "text": [
      "552it [01:17,  6.72it/s]"
     ]
    },
    {
     "name": "stdout",
     "output_type": "stream",
     "text": [
      "| epoch   3 |   550/  891 batches | accuracy    0.880 | loss    0.360 | zero gradients percentage    0.000\n"
     ]
    },
    {
     "name": "stderr",
     "output_type": "stream",
     "text": [
      "562it [01:18,  6.54it/s]"
     ]
    },
    {
     "name": "stdout",
     "output_type": "stream",
     "text": [
      "| epoch   3 |   560/  891 batches | accuracy    0.861 | loss    0.405 | zero gradients percentage    0.000\n"
     ]
    },
    {
     "name": "stderr",
     "output_type": "stream",
     "text": [
      "572it [01:19,  7.94it/s]"
     ]
    },
    {
     "name": "stdout",
     "output_type": "stream",
     "text": [
      "| epoch   3 |   570/  891 batches | accuracy    0.863 | loss    0.393 | zero gradients percentage    0.000\n"
     ]
    },
    {
     "name": "stderr",
     "output_type": "stream",
     "text": [
      "582it [01:21,  7.40it/s]"
     ]
    },
    {
     "name": "stdout",
     "output_type": "stream",
     "text": [
      "| epoch   3 |   580/  891 batches | accuracy    0.869 | loss    0.376 | zero gradients percentage    0.000\n"
     ]
    },
    {
     "name": "stderr",
     "output_type": "stream",
     "text": [
      "592it [01:22,  7.15it/s]"
     ]
    },
    {
     "name": "stdout",
     "output_type": "stream",
     "text": [
      "| epoch   3 |   590/  891 batches | accuracy    0.875 | loss    0.370 | zero gradients percentage    0.000\n"
     ]
    },
    {
     "name": "stderr",
     "output_type": "stream",
     "text": [
      "602it [01:23,  8.96it/s]"
     ]
    },
    {
     "name": "stdout",
     "output_type": "stream",
     "text": [
      "| epoch   3 |   600/  891 batches | accuracy    0.895 | loss    0.352 | zero gradients percentage    0.000\n"
     ]
    },
    {
     "name": "stderr",
     "output_type": "stream",
     "text": [
      "612it [01:25,  7.90it/s]"
     ]
    },
    {
     "name": "stdout",
     "output_type": "stream",
     "text": [
      "| epoch   3 |   610/  891 batches | accuracy    0.861 | loss    0.411 | zero gradients percentage    0.000\n"
     ]
    },
    {
     "name": "stderr",
     "output_type": "stream",
     "text": [
      "622it [01:26,  7.51it/s]"
     ]
    },
    {
     "name": "stdout",
     "output_type": "stream",
     "text": [
      "| epoch   3 |   620/  891 batches | accuracy    0.889 | loss    0.358 | zero gradients percentage    0.000\n"
     ]
    },
    {
     "name": "stderr",
     "output_type": "stream",
     "text": [
      "632it [01:27,  7.93it/s]"
     ]
    },
    {
     "name": "stdout",
     "output_type": "stream",
     "text": [
      "| epoch   3 |   630/  891 batches | accuracy    0.866 | loss    0.385 | zero gradients percentage    0.000\n"
     ]
    },
    {
     "name": "stderr",
     "output_type": "stream",
     "text": [
      "642it [01:29,  7.34it/s]"
     ]
    },
    {
     "name": "stdout",
     "output_type": "stream",
     "text": [
      "| epoch   3 |   640/  891 batches | accuracy    0.866 | loss    0.358 | zero gradients percentage    0.000\n"
     ]
    },
    {
     "name": "stderr",
     "output_type": "stream",
     "text": [
      "652it [01:30,  7.29it/s]"
     ]
    },
    {
     "name": "stdout",
     "output_type": "stream",
     "text": [
      "| epoch   3 |   650/  891 batches | accuracy    0.875 | loss    0.359 | zero gradients percentage    0.000\n"
     ]
    },
    {
     "name": "stderr",
     "output_type": "stream",
     "text": [
      "662it [01:31,  8.12it/s]"
     ]
    },
    {
     "name": "stdout",
     "output_type": "stream",
     "text": [
      "| epoch   3 |   660/  891 batches | accuracy    0.892 | loss    0.340 | zero gradients percentage    0.000\n"
     ]
    },
    {
     "name": "stderr",
     "output_type": "stream",
     "text": [
      "672it [01:33,  7.38it/s]"
     ]
    },
    {
     "name": "stdout",
     "output_type": "stream",
     "text": [
      "| epoch   3 |   670/  891 batches | accuracy    0.873 | loss    0.370 | zero gradients percentage    0.000\n"
     ]
    },
    {
     "name": "stderr",
     "output_type": "stream",
     "text": [
      "682it [01:34,  7.31it/s]"
     ]
    },
    {
     "name": "stdout",
     "output_type": "stream",
     "text": [
      "| epoch   3 |   680/  891 batches | accuracy    0.871 | loss    0.385 | zero gradients percentage    0.000\n"
     ]
    },
    {
     "name": "stderr",
     "output_type": "stream",
     "text": [
      "692it [01:35,  8.45it/s]"
     ]
    },
    {
     "name": "stdout",
     "output_type": "stream",
     "text": [
      "| epoch   3 |   690/  891 batches | accuracy    0.871 | loss    0.375 | zero gradients percentage    0.000\n"
     ]
    },
    {
     "name": "stderr",
     "output_type": "stream",
     "text": [
      "701it [01:36,  7.41it/s]"
     ]
    },
    {
     "name": "stdout",
     "output_type": "stream",
     "text": [
      "| epoch   3 |   700/  891 batches | accuracy    0.881 | loss    0.370 | zero gradients percentage    0.000\n"
     ]
    },
    {
     "name": "stderr",
     "output_type": "stream",
     "text": [
      "712it [01:38,  7.48it/s]"
     ]
    },
    {
     "name": "stdout",
     "output_type": "stream",
     "text": [
      "| epoch   3 |   710/  891 batches | accuracy    0.883 | loss    0.350 | zero gradients percentage    0.000\n"
     ]
    },
    {
     "name": "stderr",
     "output_type": "stream",
     "text": [
      "722it [01:39,  6.82it/s]"
     ]
    },
    {
     "name": "stdout",
     "output_type": "stream",
     "text": [
      "| epoch   3 |   720/  891 batches | accuracy    0.876 | loss    0.371 | zero gradients percentage    0.000\n"
     ]
    },
    {
     "name": "stderr",
     "output_type": "stream",
     "text": [
      "732it [01:41,  7.67it/s]"
     ]
    },
    {
     "name": "stdout",
     "output_type": "stream",
     "text": [
      "| epoch   3 |   730/  891 batches | accuracy    0.882 | loss    0.335 | zero gradients percentage    0.000\n"
     ]
    },
    {
     "name": "stderr",
     "output_type": "stream",
     "text": [
      "742it [01:42,  7.04it/s]"
     ]
    },
    {
     "name": "stdout",
     "output_type": "stream",
     "text": [
      "| epoch   3 |   740/  891 batches | accuracy    0.864 | loss    0.390 | zero gradients percentage    0.000\n"
     ]
    },
    {
     "name": "stderr",
     "output_type": "stream",
     "text": [
      "752it [01:43,  6.79it/s]"
     ]
    },
    {
     "name": "stdout",
     "output_type": "stream",
     "text": [
      "| epoch   3 |   750/  891 batches | accuracy    0.879 | loss    0.348 | zero gradients percentage    0.000\n"
     ]
    },
    {
     "name": "stderr",
     "output_type": "stream",
     "text": [
      "762it [01:45,  7.51it/s]"
     ]
    },
    {
     "name": "stdout",
     "output_type": "stream",
     "text": [
      "| epoch   3 |   760/  891 batches | accuracy    0.877 | loss    0.361 | zero gradients percentage    0.000\n"
     ]
    },
    {
     "name": "stderr",
     "output_type": "stream",
     "text": [
      "772it [01:46,  7.46it/s]"
     ]
    },
    {
     "name": "stdout",
     "output_type": "stream",
     "text": [
      "| epoch   3 |   770/  891 batches | accuracy    0.875 | loss    0.376 | zero gradients percentage    0.000\n"
     ]
    },
    {
     "name": "stderr",
     "output_type": "stream",
     "text": [
      "782it [01:48,  6.40it/s]"
     ]
    },
    {
     "name": "stdout",
     "output_type": "stream",
     "text": [
      "| epoch   3 |   780/  891 batches | accuracy    0.877 | loss    0.368 | zero gradients percentage    0.000\n"
     ]
    },
    {
     "name": "stderr",
     "output_type": "stream",
     "text": [
      "792it [01:49,  7.02it/s]"
     ]
    },
    {
     "name": "stdout",
     "output_type": "stream",
     "text": [
      "| epoch   3 |   790/  891 batches | accuracy    0.870 | loss    0.385 | zero gradients percentage    0.000\n"
     ]
    },
    {
     "name": "stderr",
     "output_type": "stream",
     "text": [
      "802it [01:50,  6.80it/s]"
     ]
    },
    {
     "name": "stdout",
     "output_type": "stream",
     "text": [
      "| epoch   3 |   800/  891 batches | accuracy    0.886 | loss    0.330 | zero gradients percentage    0.000\n"
     ]
    },
    {
     "name": "stderr",
     "output_type": "stream",
     "text": [
      "812it [01:52,  7.35it/s]"
     ]
    },
    {
     "name": "stdout",
     "output_type": "stream",
     "text": [
      "| epoch   3 |   810/  891 batches | accuracy    0.884 | loss    0.354 | zero gradients percentage    0.000\n"
     ]
    },
    {
     "name": "stderr",
     "output_type": "stream",
     "text": [
      "822it [01:53,  7.64it/s]"
     ]
    },
    {
     "name": "stdout",
     "output_type": "stream",
     "text": [
      "| epoch   3 |   820/  891 batches | accuracy    0.859 | loss    0.393 | zero gradients percentage    0.000\n"
     ]
    },
    {
     "name": "stderr",
     "output_type": "stream",
     "text": [
      "832it [01:55,  7.66it/s]"
     ]
    },
    {
     "name": "stdout",
     "output_type": "stream",
     "text": [
      "| epoch   3 |   830/  891 batches | accuracy    0.875 | loss    0.374 | zero gradients percentage    0.000\n"
     ]
    },
    {
     "name": "stderr",
     "output_type": "stream",
     "text": [
      "842it [01:56,  7.63it/s]"
     ]
    },
    {
     "name": "stdout",
     "output_type": "stream",
     "text": [
      "| epoch   3 |   840/  891 batches | accuracy    0.863 | loss    0.404 | zero gradients percentage    0.000\n"
     ]
    },
    {
     "name": "stderr",
     "output_type": "stream",
     "text": [
      "852it [01:57,  7.83it/s]"
     ]
    },
    {
     "name": "stdout",
     "output_type": "stream",
     "text": [
      "| epoch   3 |   850/  891 batches | accuracy    0.866 | loss    0.396 | zero gradients percentage    0.000\n"
     ]
    },
    {
     "name": "stderr",
     "output_type": "stream",
     "text": [
      "862it [01:59,  6.94it/s]"
     ]
    },
    {
     "name": "stdout",
     "output_type": "stream",
     "text": [
      "| epoch   3 |   860/  891 batches | accuracy    0.896 | loss    0.333 | zero gradients percentage    0.000\n"
     ]
    },
    {
     "name": "stderr",
     "output_type": "stream",
     "text": [
      "872it [02:00,  7.08it/s]"
     ]
    },
    {
     "name": "stdout",
     "output_type": "stream",
     "text": [
      "| epoch   3 |   870/  891 batches | accuracy    0.863 | loss    0.383 | zero gradients percentage    0.000\n"
     ]
    },
    {
     "name": "stderr",
     "output_type": "stream",
     "text": [
      "882it [02:02,  7.44it/s]"
     ]
    },
    {
     "name": "stdout",
     "output_type": "stream",
     "text": [
      "| epoch   3 |   880/  891 batches | accuracy    0.889 | loss    0.361 | zero gradients percentage    0.000\n"
     ]
    },
    {
     "name": "stderr",
     "output_type": "stream",
     "text": [
      "891it [02:03,  7.22it/s]\n"
     ]
    },
    {
     "name": "stdout",
     "output_type": "stream",
     "text": [
      "| epoch   3 |   890/  891 batches | accuracy    0.877 | loss    0.354 | zero gradients percentage    0.000\n",
      "-----------------------------------------------------------\n",
      "| end of epoch   3 | time: 128.30s | valid accuracy    0.870 \n",
      "-----------------------------------------------------------\n"
     ]
    },
    {
     "name": "stderr",
     "output_type": "stream",
     "text": [
      "12it [00:01,  7.05it/s]"
     ]
    },
    {
     "name": "stdout",
     "output_type": "stream",
     "text": [
      "| epoch   4 |    10/  891 batches | accuracy    0.869 | loss    0.376 | zero gradients percentage    0.000\n"
     ]
    },
    {
     "name": "stderr",
     "output_type": "stream",
     "text": [
      "22it [00:03,  6.87it/s]"
     ]
    },
    {
     "name": "stdout",
     "output_type": "stream",
     "text": [
      "| epoch   4 |    20/  891 batches | accuracy    0.874 | loss    0.377 | zero gradients percentage    0.000\n"
     ]
    },
    {
     "name": "stderr",
     "output_type": "stream",
     "text": [
      "32it [00:04,  6.23it/s]"
     ]
    },
    {
     "name": "stdout",
     "output_type": "stream",
     "text": [
      "| epoch   4 |    30/  891 batches | accuracy    0.876 | loss    0.384 | zero gradients percentage    0.000\n"
     ]
    },
    {
     "name": "stderr",
     "output_type": "stream",
     "text": [
      "42it [00:06,  6.39it/s]"
     ]
    },
    {
     "name": "stdout",
     "output_type": "stream",
     "text": [
      "| epoch   4 |    40/  891 batches | accuracy    0.874 | loss    0.369 | zero gradients percentage    0.000\n"
     ]
    },
    {
     "name": "stderr",
     "output_type": "stream",
     "text": [
      "52it [00:07,  7.83it/s]"
     ]
    },
    {
     "name": "stdout",
     "output_type": "stream",
     "text": [
      "| epoch   4 |    50/  891 batches | accuracy    0.857 | loss    0.426 | zero gradients percentage    0.000\n"
     ]
    },
    {
     "name": "stderr",
     "output_type": "stream",
     "text": [
      "62it [00:08,  7.43it/s]"
     ]
    },
    {
     "name": "stdout",
     "output_type": "stream",
     "text": [
      "| epoch   4 |    60/  891 batches | accuracy    0.873 | loss    0.376 | zero gradients percentage    0.000\n"
     ]
    },
    {
     "name": "stderr",
     "output_type": "stream",
     "text": [
      "72it [00:10,  7.13it/s]"
     ]
    },
    {
     "name": "stdout",
     "output_type": "stream",
     "text": [
      "| epoch   4 |    70/  891 batches | accuracy    0.886 | loss    0.355 | zero gradients percentage    0.000\n"
     ]
    },
    {
     "name": "stderr",
     "output_type": "stream",
     "text": [
      "82it [00:11,  7.16it/s]"
     ]
    },
    {
     "name": "stdout",
     "output_type": "stream",
     "text": [
      "| epoch   4 |    80/  891 batches | accuracy    0.871 | loss    0.370 | zero gradients percentage    0.000\n"
     ]
    },
    {
     "name": "stderr",
     "output_type": "stream",
     "text": [
      "92it [00:13,  6.51it/s]"
     ]
    },
    {
     "name": "stdout",
     "output_type": "stream",
     "text": [
      "| epoch   4 |    90/  891 batches | accuracy    0.884 | loss    0.351 | zero gradients percentage    0.000\n"
     ]
    },
    {
     "name": "stderr",
     "output_type": "stream",
     "text": [
      "102it [00:14,  8.27it/s]"
     ]
    },
    {
     "name": "stdout",
     "output_type": "stream",
     "text": [
      "| epoch   4 |   100/  891 batches | accuracy    0.868 | loss    0.375 | zero gradients percentage    0.000\n"
     ]
    },
    {
     "name": "stderr",
     "output_type": "stream",
     "text": [
      "112it [00:16,  7.32it/s]"
     ]
    },
    {
     "name": "stdout",
     "output_type": "stream",
     "text": [
      "| epoch   4 |   110/  891 batches | accuracy    0.894 | loss    0.334 | zero gradients percentage    0.000\n"
     ]
    },
    {
     "name": "stderr",
     "output_type": "stream",
     "text": [
      "122it [00:17,  6.99it/s]"
     ]
    },
    {
     "name": "stdout",
     "output_type": "stream",
     "text": [
      "| epoch   4 |   120/  891 batches | accuracy    0.877 | loss    0.370 | zero gradients percentage    0.000\n"
     ]
    },
    {
     "name": "stderr",
     "output_type": "stream",
     "text": [
      "132it [00:18,  7.62it/s]"
     ]
    },
    {
     "name": "stdout",
     "output_type": "stream",
     "text": [
      "| epoch   4 |   130/  891 batches | accuracy    0.876 | loss    0.368 | zero gradients percentage    0.000\n"
     ]
    },
    {
     "name": "stderr",
     "output_type": "stream",
     "text": [
      "142it [00:20,  7.43it/s]"
     ]
    },
    {
     "name": "stdout",
     "output_type": "stream",
     "text": [
      "| epoch   4 |   140/  891 batches | accuracy    0.864 | loss    0.410 | zero gradients percentage    0.000\n"
     ]
    },
    {
     "name": "stderr",
     "output_type": "stream",
     "text": [
      "152it [00:21,  6.75it/s]"
     ]
    },
    {
     "name": "stdout",
     "output_type": "stream",
     "text": [
      "| epoch   4 |   150/  891 batches | accuracy    0.877 | loss    0.366 | zero gradients percentage    0.000\n"
     ]
    },
    {
     "name": "stderr",
     "output_type": "stream",
     "text": [
      "162it [00:22,  7.98it/s]"
     ]
    },
    {
     "name": "stdout",
     "output_type": "stream",
     "text": [
      "| epoch   4 |   160/  891 batches | accuracy    0.880 | loss    0.347 | zero gradients percentage    0.000\n"
     ]
    },
    {
     "name": "stderr",
     "output_type": "stream",
     "text": [
      "172it [00:24,  6.68it/s]"
     ]
    },
    {
     "name": "stdout",
     "output_type": "stream",
     "text": [
      "| epoch   4 |   170/  891 batches | accuracy    0.881 | loss    0.354 | zero gradients percentage    0.000\n"
     ]
    },
    {
     "name": "stderr",
     "output_type": "stream",
     "text": [
      "182it [00:25,  7.40it/s]"
     ]
    },
    {
     "name": "stdout",
     "output_type": "stream",
     "text": [
      "| epoch   4 |   180/  891 batches | accuracy    0.866 | loss    0.401 | zero gradients percentage    0.000\n"
     ]
    },
    {
     "name": "stderr",
     "output_type": "stream",
     "text": [
      "192it [00:26,  7.16it/s]"
     ]
    },
    {
     "name": "stdout",
     "output_type": "stream",
     "text": [
      "| epoch   4 |   190/  891 batches | accuracy    0.861 | loss    0.395 | zero gradients percentage    0.000\n"
     ]
    },
    {
     "name": "stderr",
     "output_type": "stream",
     "text": [
      "202it [00:28,  7.33it/s]"
     ]
    },
    {
     "name": "stdout",
     "output_type": "stream",
     "text": [
      "| epoch   4 |   200/  891 batches | accuracy    0.881 | loss    0.385 | zero gradients percentage    0.000\n"
     ]
    },
    {
     "name": "stderr",
     "output_type": "stream",
     "text": [
      "212it [00:29,  6.41it/s]"
     ]
    },
    {
     "name": "stdout",
     "output_type": "stream",
     "text": [
      "| epoch   4 |   210/  891 batches | accuracy    0.891 | loss    0.349 | zero gradients percentage    0.000\n"
     ]
    },
    {
     "name": "stderr",
     "output_type": "stream",
     "text": [
      "222it [00:31,  6.38it/s]"
     ]
    },
    {
     "name": "stdout",
     "output_type": "stream",
     "text": [
      "| epoch   4 |   220/  891 batches | accuracy    0.870 | loss    0.387 | zero gradients percentage    0.000\n"
     ]
    },
    {
     "name": "stderr",
     "output_type": "stream",
     "text": [
      "232it [00:32,  7.81it/s]"
     ]
    },
    {
     "name": "stdout",
     "output_type": "stream",
     "text": [
      "| epoch   4 |   230/  891 batches | accuracy    0.873 | loss    0.406 | zero gradients percentage    0.000\n"
     ]
    },
    {
     "name": "stderr",
     "output_type": "stream",
     "text": [
      "242it [00:34,  6.82it/s]"
     ]
    },
    {
     "name": "stdout",
     "output_type": "stream",
     "text": [
      "| epoch   4 |   240/  891 batches | accuracy    0.872 | loss    0.376 | zero gradients percentage    0.000\n"
     ]
    },
    {
     "name": "stderr",
     "output_type": "stream",
     "text": [
      "252it [00:35,  7.98it/s]"
     ]
    },
    {
     "name": "stdout",
     "output_type": "stream",
     "text": [
      "| epoch   4 |   250/  891 batches | accuracy    0.885 | loss    0.356 | zero gradients percentage    0.000\n"
     ]
    },
    {
     "name": "stderr",
     "output_type": "stream",
     "text": [
      "262it [00:36,  7.70it/s]"
     ]
    },
    {
     "name": "stdout",
     "output_type": "stream",
     "text": [
      "| epoch   4 |   260/  891 batches | accuracy    0.863 | loss    0.405 | zero gradients percentage    0.000\n"
     ]
    },
    {
     "name": "stderr",
     "output_type": "stream",
     "text": [
      "272it [00:38,  7.16it/s]"
     ]
    },
    {
     "name": "stdout",
     "output_type": "stream",
     "text": [
      "| epoch   4 |   270/  891 batches | accuracy    0.879 | loss    0.367 | zero gradients percentage    0.000\n"
     ]
    },
    {
     "name": "stderr",
     "output_type": "stream",
     "text": [
      "282it [00:39,  6.33it/s]"
     ]
    },
    {
     "name": "stdout",
     "output_type": "stream",
     "text": [
      "| epoch   4 |   280/  891 batches | accuracy    0.864 | loss    0.408 | zero gradients percentage    0.000\n"
     ]
    },
    {
     "name": "stderr",
     "output_type": "stream",
     "text": [
      "292it [00:41,  6.90it/s]"
     ]
    },
    {
     "name": "stdout",
     "output_type": "stream",
     "text": [
      "| epoch   4 |   290/  891 batches | accuracy    0.882 | loss    0.350 | zero gradients percentage    0.000\n"
     ]
    },
    {
     "name": "stderr",
     "output_type": "stream",
     "text": [
      "302it [00:42,  6.71it/s]"
     ]
    },
    {
     "name": "stdout",
     "output_type": "stream",
     "text": [
      "| epoch   4 |   300/  891 batches | accuracy    0.884 | loss    0.358 | zero gradients percentage    0.000\n"
     ]
    },
    {
     "name": "stderr",
     "output_type": "stream",
     "text": [
      "312it [00:43,  6.49it/s]"
     ]
    },
    {
     "name": "stdout",
     "output_type": "stream",
     "text": [
      "| epoch   4 |   310/  891 batches | accuracy    0.867 | loss    0.373 | zero gradients percentage    0.000\n"
     ]
    },
    {
     "name": "stderr",
     "output_type": "stream",
     "text": [
      "322it [00:45,  6.92it/s]"
     ]
    },
    {
     "name": "stdout",
     "output_type": "stream",
     "text": [
      "| epoch   4 |   320/  891 batches | accuracy    0.876 | loss    0.376 | zero gradients percentage    0.000\n"
     ]
    },
    {
     "name": "stderr",
     "output_type": "stream",
     "text": [
      "332it [00:46,  7.51it/s]"
     ]
    },
    {
     "name": "stdout",
     "output_type": "stream",
     "text": [
      "| epoch   4 |   330/  891 batches | accuracy    0.876 | loss    0.382 | zero gradients percentage    0.000\n"
     ]
    },
    {
     "name": "stderr",
     "output_type": "stream",
     "text": [
      "342it [00:47,  7.33it/s]"
     ]
    },
    {
     "name": "stdout",
     "output_type": "stream",
     "text": [
      "| epoch   4 |   340/  891 batches | accuracy    0.880 | loss    0.355 | zero gradients percentage    0.000\n"
     ]
    },
    {
     "name": "stderr",
     "output_type": "stream",
     "text": [
      "352it [00:49,  6.67it/s]"
     ]
    },
    {
     "name": "stdout",
     "output_type": "stream",
     "text": [
      "| epoch   4 |   350/  891 batches | accuracy    0.872 | loss    0.378 | zero gradients percentage    0.000\n"
     ]
    },
    {
     "name": "stderr",
     "output_type": "stream",
     "text": [
      "362it [00:50,  6.86it/s]"
     ]
    },
    {
     "name": "stdout",
     "output_type": "stream",
     "text": [
      "| epoch   4 |   360/  891 batches | accuracy    0.870 | loss    0.387 | zero gradients percentage    0.000\n"
     ]
    },
    {
     "name": "stderr",
     "output_type": "stream",
     "text": [
      "372it [00:52,  7.82it/s]"
     ]
    },
    {
     "name": "stdout",
     "output_type": "stream",
     "text": [
      "| epoch   4 |   370/  891 batches | accuracy    0.868 | loss    0.416 | zero gradients percentage    0.000\n"
     ]
    },
    {
     "name": "stderr",
     "output_type": "stream",
     "text": [
      "382it [00:53,  7.34it/s]"
     ]
    },
    {
     "name": "stdout",
     "output_type": "stream",
     "text": [
      "| epoch   4 |   380/  891 batches | accuracy    0.876 | loss    0.354 | zero gradients percentage    0.000\n"
     ]
    },
    {
     "name": "stderr",
     "output_type": "stream",
     "text": [
      "391it [00:54,  8.64it/s]"
     ]
    },
    {
     "name": "stdout",
     "output_type": "stream",
     "text": [
      "| epoch   4 |   390/  891 batches | accuracy    0.884 | loss    0.333 | zero gradients percentage    0.000\n"
     ]
    },
    {
     "name": "stderr",
     "output_type": "stream",
     "text": [
      "402it [00:56,  7.52it/s]"
     ]
    },
    {
     "name": "stdout",
     "output_type": "stream",
     "text": [
      "| epoch   4 |   400/  891 batches | accuracy    0.882 | loss    0.362 | zero gradients percentage    0.000\n"
     ]
    },
    {
     "name": "stderr",
     "output_type": "stream",
     "text": [
      "411it [00:57,  7.06it/s]"
     ]
    },
    {
     "name": "stdout",
     "output_type": "stream",
     "text": [
      "| epoch   4 |   410/  891 batches | accuracy    0.894 | loss    0.333 | zero gradients percentage    0.000\n"
     ]
    },
    {
     "name": "stderr",
     "output_type": "stream",
     "text": [
      "422it [00:58,  7.36it/s]"
     ]
    },
    {
     "name": "stdout",
     "output_type": "stream",
     "text": [
      "| epoch   4 |   420/  891 batches | accuracy    0.873 | loss    0.374 | zero gradients percentage    0.000\n"
     ]
    },
    {
     "name": "stderr",
     "output_type": "stream",
     "text": [
      "432it [01:00,  6.58it/s]"
     ]
    },
    {
     "name": "stdout",
     "output_type": "stream",
     "text": [
      "| epoch   4 |   430/  891 batches | accuracy    0.870 | loss    0.378 | zero gradients percentage    0.000\n"
     ]
    },
    {
     "name": "stderr",
     "output_type": "stream",
     "text": [
      "442it [01:01,  8.24it/s]"
     ]
    },
    {
     "name": "stdout",
     "output_type": "stream",
     "text": [
      "| epoch   4 |   440/  891 batches | accuracy    0.871 | loss    0.365 | zero gradients percentage    0.000\n"
     ]
    },
    {
     "name": "stderr",
     "output_type": "stream",
     "text": [
      "452it [01:03,  6.98it/s]"
     ]
    },
    {
     "name": "stdout",
     "output_type": "stream",
     "text": [
      "| epoch   4 |   450/  891 batches | accuracy    0.873 | loss    0.358 | zero gradients percentage    0.000\n"
     ]
    },
    {
     "name": "stderr",
     "output_type": "stream",
     "text": [
      "462it [01:04,  6.45it/s]"
     ]
    },
    {
     "name": "stdout",
     "output_type": "stream",
     "text": [
      "| epoch   4 |   460/  891 batches | accuracy    0.871 | loss    0.404 | zero gradients percentage    0.000\n"
     ]
    },
    {
     "name": "stderr",
     "output_type": "stream",
     "text": [
      "472it [01:05,  7.14it/s]"
     ]
    },
    {
     "name": "stdout",
     "output_type": "stream",
     "text": [
      "| epoch   4 |   470/  891 batches | accuracy    0.878 | loss    0.344 | zero gradients percentage    0.000\n"
     ]
    },
    {
     "name": "stderr",
     "output_type": "stream",
     "text": [
      "481it [01:07,  7.41it/s]"
     ]
    },
    {
     "name": "stdout",
     "output_type": "stream",
     "text": [
      "| epoch   4 |   480/  891 batches | accuracy    0.877 | loss    0.351 | zero gradients percentage    0.000\n"
     ]
    },
    {
     "name": "stderr",
     "output_type": "stream",
     "text": [
      "492it [01:08,  8.35it/s]"
     ]
    },
    {
     "name": "stdout",
     "output_type": "stream",
     "text": [
      "| epoch   4 |   490/  891 batches | accuracy    0.871 | loss    0.397 | zero gradients percentage    0.000\n"
     ]
    },
    {
     "name": "stderr",
     "output_type": "stream",
     "text": [
      "502it [01:09,  8.24it/s]"
     ]
    },
    {
     "name": "stdout",
     "output_type": "stream",
     "text": [
      "| epoch   4 |   500/  891 batches | accuracy    0.887 | loss    0.355 | zero gradients percentage    0.000\n"
     ]
    },
    {
     "name": "stderr",
     "output_type": "stream",
     "text": [
      "512it [01:11,  8.14it/s]"
     ]
    },
    {
     "name": "stdout",
     "output_type": "stream",
     "text": [
      "| epoch   4 |   510/  891 batches | accuracy    0.884 | loss    0.365 | zero gradients percentage    0.000\n"
     ]
    },
    {
     "name": "stderr",
     "output_type": "stream",
     "text": [
      "522it [01:12,  7.59it/s]"
     ]
    },
    {
     "name": "stdout",
     "output_type": "stream",
     "text": [
      "| epoch   4 |   520/  891 batches | accuracy    0.866 | loss    0.400 | zero gradients percentage    0.000\n"
     ]
    },
    {
     "name": "stderr",
     "output_type": "stream",
     "text": [
      "532it [01:13,  7.93it/s]"
     ]
    },
    {
     "name": "stdout",
     "output_type": "stream",
     "text": [
      "| epoch   4 |   530/  891 batches | accuracy    0.877 | loss    0.373 | zero gradients percentage    0.000\n"
     ]
    },
    {
     "name": "stderr",
     "output_type": "stream",
     "text": [
      "542it [01:15,  7.19it/s]"
     ]
    },
    {
     "name": "stdout",
     "output_type": "stream",
     "text": [
      "| epoch   4 |   540/  891 batches | accuracy    0.862 | loss    0.407 | zero gradients percentage    0.000\n"
     ]
    },
    {
     "name": "stderr",
     "output_type": "stream",
     "text": [
      "552it [01:16,  7.63it/s]"
     ]
    },
    {
     "name": "stdout",
     "output_type": "stream",
     "text": [
      "| epoch   4 |   550/  891 batches | accuracy    0.884 | loss    0.333 | zero gradients percentage    0.000\n"
     ]
    },
    {
     "name": "stderr",
     "output_type": "stream",
     "text": [
      "562it [01:17,  6.52it/s]"
     ]
    },
    {
     "name": "stdout",
     "output_type": "stream",
     "text": [
      "| epoch   4 |   560/  891 batches | accuracy    0.865 | loss    0.396 | zero gradients percentage    0.000\n"
     ]
    },
    {
     "name": "stderr",
     "output_type": "stream",
     "text": [
      "572it [01:19,  7.40it/s]"
     ]
    },
    {
     "name": "stdout",
     "output_type": "stream",
     "text": [
      "| epoch   4 |   570/  891 batches | accuracy    0.873 | loss    0.371 | zero gradients percentage    0.000\n"
     ]
    },
    {
     "name": "stderr",
     "output_type": "stream",
     "text": [
      "582it [01:20,  6.78it/s]"
     ]
    },
    {
     "name": "stdout",
     "output_type": "stream",
     "text": [
      "| epoch   4 |   580/  891 batches | accuracy    0.881 | loss    0.379 | zero gradients percentage    0.000\n"
     ]
    },
    {
     "name": "stderr",
     "output_type": "stream",
     "text": [
      "592it [01:21,  8.28it/s]"
     ]
    },
    {
     "name": "stdout",
     "output_type": "stream",
     "text": [
      "| epoch   4 |   590/  891 batches | accuracy    0.882 | loss    0.372 | zero gradients percentage    0.000\n"
     ]
    },
    {
     "name": "stderr",
     "output_type": "stream",
     "text": [
      "602it [01:23,  6.87it/s]"
     ]
    },
    {
     "name": "stdout",
     "output_type": "stream",
     "text": [
      "| epoch   4 |   600/  891 batches | accuracy    0.855 | loss    0.401 | zero gradients percentage    0.000\n"
     ]
    },
    {
     "name": "stderr",
     "output_type": "stream",
     "text": [
      "612it [01:24,  7.31it/s]"
     ]
    },
    {
     "name": "stdout",
     "output_type": "stream",
     "text": [
      "| epoch   4 |   610/  891 batches | accuracy    0.884 | loss    0.363 | zero gradients percentage    0.000\n"
     ]
    },
    {
     "name": "stderr",
     "output_type": "stream",
     "text": [
      "622it [01:25,  8.20it/s]"
     ]
    },
    {
     "name": "stdout",
     "output_type": "stream",
     "text": [
      "| epoch   4 |   620/  891 batches | accuracy    0.873 | loss    0.342 | zero gradients percentage    0.000\n"
     ]
    },
    {
     "name": "stderr",
     "output_type": "stream",
     "text": [
      "632it [01:27,  7.44it/s]"
     ]
    },
    {
     "name": "stdout",
     "output_type": "stream",
     "text": [
      "| epoch   4 |   630/  891 batches | accuracy    0.860 | loss    0.372 | zero gradients percentage    0.000\n"
     ]
    },
    {
     "name": "stderr",
     "output_type": "stream",
     "text": [
      "642it [01:28,  7.63it/s]"
     ]
    },
    {
     "name": "stdout",
     "output_type": "stream",
     "text": [
      "| epoch   4 |   640/  891 batches | accuracy    0.873 | loss    0.384 | zero gradients percentage    0.000\n"
     ]
    },
    {
     "name": "stderr",
     "output_type": "stream",
     "text": [
      "652it [01:29,  7.14it/s]"
     ]
    },
    {
     "name": "stdout",
     "output_type": "stream",
     "text": [
      "| epoch   4 |   650/  891 batches | accuracy    0.880 | loss    0.369 | zero gradients percentage    0.000\n"
     ]
    },
    {
     "name": "stderr",
     "output_type": "stream",
     "text": [
      "662it [01:31,  7.75it/s]"
     ]
    },
    {
     "name": "stdout",
     "output_type": "stream",
     "text": [
      "| epoch   4 |   660/  891 batches | accuracy    0.877 | loss    0.384 | zero gradients percentage    0.000\n"
     ]
    },
    {
     "name": "stderr",
     "output_type": "stream",
     "text": [
      "672it [01:32,  8.42it/s]"
     ]
    },
    {
     "name": "stdout",
     "output_type": "stream",
     "text": [
      "| epoch   4 |   670/  891 batches | accuracy    0.871 | loss    0.382 | zero gradients percentage    0.000\n"
     ]
    },
    {
     "name": "stderr",
     "output_type": "stream",
     "text": [
      "682it [01:33,  7.48it/s]"
     ]
    },
    {
     "name": "stdout",
     "output_type": "stream",
     "text": [
      "| epoch   4 |   680/  891 batches | accuracy    0.873 | loss    0.371 | zero gradients percentage    0.000\n"
     ]
    },
    {
     "name": "stderr",
     "output_type": "stream",
     "text": [
      "692it [01:35,  7.55it/s]"
     ]
    },
    {
     "name": "stdout",
     "output_type": "stream",
     "text": [
      "| epoch   4 |   690/  891 batches | accuracy    0.869 | loss    0.380 | zero gradients percentage    0.000\n"
     ]
    },
    {
     "name": "stderr",
     "output_type": "stream",
     "text": [
      "702it [01:36,  6.74it/s]"
     ]
    },
    {
     "name": "stdout",
     "output_type": "stream",
     "text": [
      "| epoch   4 |   700/  891 batches | accuracy    0.876 | loss    0.361 | zero gradients percentage    0.000\n"
     ]
    },
    {
     "name": "stderr",
     "output_type": "stream",
     "text": [
      "712it [01:37,  7.18it/s]"
     ]
    },
    {
     "name": "stdout",
     "output_type": "stream",
     "text": [
      "| epoch   4 |   710/  891 batches | accuracy    0.888 | loss    0.331 | zero gradients percentage    0.000\n"
     ]
    },
    {
     "name": "stderr",
     "output_type": "stream",
     "text": [
      "722it [01:39,  6.85it/s]"
     ]
    },
    {
     "name": "stdout",
     "output_type": "stream",
     "text": [
      "| epoch   4 |   720/  891 batches | accuracy    0.880 | loss    0.349 | zero gradients percentage    0.000\n"
     ]
    },
    {
     "name": "stderr",
     "output_type": "stream",
     "text": [
      "732it [01:40,  7.31it/s]"
     ]
    },
    {
     "name": "stdout",
     "output_type": "stream",
     "text": [
      "| epoch   4 |   730/  891 batches | accuracy    0.850 | loss    0.400 | zero gradients percentage    0.000\n"
     ]
    },
    {
     "name": "stderr",
     "output_type": "stream",
     "text": [
      "742it [01:41,  7.99it/s]"
     ]
    },
    {
     "name": "stdout",
     "output_type": "stream",
     "text": [
      "| epoch   4 |   740/  891 batches | accuracy    0.868 | loss    0.359 | zero gradients percentage    0.000\n"
     ]
    },
    {
     "name": "stderr",
     "output_type": "stream",
     "text": [
      "752it [01:43,  7.78it/s]"
     ]
    },
    {
     "name": "stdout",
     "output_type": "stream",
     "text": [
      "| epoch   4 |   750/  891 batches | accuracy    0.881 | loss    0.361 | zero gradients percentage    0.000\n"
     ]
    },
    {
     "name": "stderr",
     "output_type": "stream",
     "text": [
      "761it [01:44,  8.81it/s]"
     ]
    },
    {
     "name": "stdout",
     "output_type": "stream",
     "text": [
      "| epoch   4 |   760/  891 batches | accuracy    0.893 | loss    0.335 | zero gradients percentage    0.000\n"
     ]
    },
    {
     "name": "stderr",
     "output_type": "stream",
     "text": [
      "772it [01:45,  8.03it/s]"
     ]
    },
    {
     "name": "stdout",
     "output_type": "stream",
     "text": [
      "| epoch   4 |   770/  891 batches | accuracy    0.878 | loss    0.344 | zero gradients percentage    0.000\n"
     ]
    },
    {
     "name": "stderr",
     "output_type": "stream",
     "text": [
      "782it [01:47,  7.37it/s]"
     ]
    },
    {
     "name": "stdout",
     "output_type": "stream",
     "text": [
      "| epoch   4 |   780/  891 batches | accuracy    0.880 | loss    0.359 | zero gradients percentage    0.000\n"
     ]
    },
    {
     "name": "stderr",
     "output_type": "stream",
     "text": [
      "792it [01:48,  7.30it/s]"
     ]
    },
    {
     "name": "stdout",
     "output_type": "stream",
     "text": [
      "| epoch   4 |   790/  891 batches | accuracy    0.890 | loss    0.323 | zero gradients percentage    0.000\n"
     ]
    },
    {
     "name": "stderr",
     "output_type": "stream",
     "text": [
      "802it [01:49,  6.88it/s]"
     ]
    },
    {
     "name": "stdout",
     "output_type": "stream",
     "text": [
      "| epoch   4 |   800/  891 batches | accuracy    0.864 | loss    0.383 | zero gradients percentage    0.000\n"
     ]
    },
    {
     "name": "stderr",
     "output_type": "stream",
     "text": [
      "812it [01:51,  7.42it/s]"
     ]
    },
    {
     "name": "stdout",
     "output_type": "stream",
     "text": [
      "| epoch   4 |   810/  891 batches | accuracy    0.880 | loss    0.360 | zero gradients percentage    0.000\n"
     ]
    },
    {
     "name": "stderr",
     "output_type": "stream",
     "text": [
      "822it [01:52,  7.11it/s]"
     ]
    },
    {
     "name": "stdout",
     "output_type": "stream",
     "text": [
      "| epoch   4 |   820/  891 batches | accuracy    0.871 | loss    0.394 | zero gradients percentage    0.000\n"
     ]
    },
    {
     "name": "stderr",
     "output_type": "stream",
     "text": [
      "832it [01:54,  8.26it/s]"
     ]
    },
    {
     "name": "stdout",
     "output_type": "stream",
     "text": [
      "| epoch   4 |   830/  891 batches | accuracy    0.879 | loss    0.365 | zero gradients percentage    0.000\n"
     ]
    },
    {
     "name": "stderr",
     "output_type": "stream",
     "text": [
      "842it [01:55,  8.02it/s]"
     ]
    },
    {
     "name": "stdout",
     "output_type": "stream",
     "text": [
      "| epoch   4 |   840/  891 batches | accuracy    0.877 | loss    0.375 | zero gradients percentage    0.000\n"
     ]
    },
    {
     "name": "stderr",
     "output_type": "stream",
     "text": [
      "852it [01:56,  7.90it/s]"
     ]
    },
    {
     "name": "stdout",
     "output_type": "stream",
     "text": [
      "| epoch   4 |   850/  891 batches | accuracy    0.875 | loss    0.367 | zero gradients percentage    0.000\n"
     ]
    },
    {
     "name": "stderr",
     "output_type": "stream",
     "text": [
      "862it [01:57,  8.46it/s]"
     ]
    },
    {
     "name": "stdout",
     "output_type": "stream",
     "text": [
      "| epoch   4 |   860/  891 batches | accuracy    0.859 | loss    0.395 | zero gradients percentage    0.000\n"
     ]
    },
    {
     "name": "stderr",
     "output_type": "stream",
     "text": [
      "872it [01:59,  7.05it/s]"
     ]
    },
    {
     "name": "stdout",
     "output_type": "stream",
     "text": [
      "| epoch   4 |   870/  891 batches | accuracy    0.874 | loss    0.370 | zero gradients percentage    0.000\n"
     ]
    },
    {
     "name": "stderr",
     "output_type": "stream",
     "text": [
      "882it [02:00,  8.17it/s]"
     ]
    },
    {
     "name": "stdout",
     "output_type": "stream",
     "text": [
      "| epoch   4 |   880/  891 batches | accuracy    0.873 | loss    0.354 | zero gradients percentage    0.000\n"
     ]
    },
    {
     "name": "stderr",
     "output_type": "stream",
     "text": [
      "891it [02:01,  7.31it/s]\n"
     ]
    },
    {
     "name": "stdout",
     "output_type": "stream",
     "text": [
      "| epoch   4 |   890/  891 batches | accuracy    0.870 | loss    0.368 | zero gradients percentage    0.000\n",
      "-----------------------------------------------------------\n",
      "| end of epoch   4 | time: 126.64s | valid accuracy    0.870 \n",
      "-----------------------------------------------------------\n"
     ]
    },
    {
     "name": "stderr",
     "output_type": "stream",
     "text": [
      "11it [00:01,  6.63it/s]"
     ]
    },
    {
     "name": "stdout",
     "output_type": "stream",
     "text": [
      "| epoch   5 |    10/  891 batches | accuracy    0.876 | loss    0.373 | zero gradients percentage    0.000\n"
     ]
    },
    {
     "name": "stderr",
     "output_type": "stream",
     "text": [
      "21it [00:03,  7.53it/s]"
     ]
    },
    {
     "name": "stdout",
     "output_type": "stream",
     "text": [
      "| epoch   5 |    20/  891 batches | accuracy    0.875 | loss    0.358 | zero gradients percentage    0.000\n"
     ]
    },
    {
     "name": "stderr",
     "output_type": "stream",
     "text": [
      "32it [00:04,  7.85it/s]"
     ]
    },
    {
     "name": "stdout",
     "output_type": "stream",
     "text": [
      "| epoch   5 |    30/  891 batches | accuracy    0.877 | loss    0.367 | zero gradients percentage    0.000\n"
     ]
    },
    {
     "name": "stderr",
     "output_type": "stream",
     "text": [
      "42it [00:05,  8.07it/s]"
     ]
    },
    {
     "name": "stdout",
     "output_type": "stream",
     "text": [
      "| epoch   5 |    40/  891 batches | accuracy    0.870 | loss    0.387 | zero gradients percentage    0.000\n"
     ]
    },
    {
     "name": "stderr",
     "output_type": "stream",
     "text": [
      "52it [00:07,  7.21it/s]"
     ]
    },
    {
     "name": "stdout",
     "output_type": "stream",
     "text": [
      "| epoch   5 |    50/  891 batches | accuracy    0.866 | loss    0.393 | zero gradients percentage    0.000\n"
     ]
    },
    {
     "name": "stderr",
     "output_type": "stream",
     "text": [
      "62it [00:08,  6.88it/s]"
     ]
    },
    {
     "name": "stdout",
     "output_type": "stream",
     "text": [
      "| epoch   5 |    60/  891 batches | accuracy    0.861 | loss    0.406 | zero gradients percentage    0.000\n"
     ]
    },
    {
     "name": "stderr",
     "output_type": "stream",
     "text": [
      "72it [00:09,  8.14it/s]"
     ]
    },
    {
     "name": "stdout",
     "output_type": "stream",
     "text": [
      "| epoch   5 |    70/  891 batches | accuracy    0.867 | loss    0.374 | zero gradients percentage    0.000\n"
     ]
    },
    {
     "name": "stderr",
     "output_type": "stream",
     "text": [
      "82it [00:11,  7.27it/s]"
     ]
    },
    {
     "name": "stdout",
     "output_type": "stream",
     "text": [
      "| epoch   5 |    80/  891 batches | accuracy    0.870 | loss    0.361 | zero gradients percentage    0.000\n"
     ]
    },
    {
     "name": "stderr",
     "output_type": "stream",
     "text": [
      "92it [00:12,  6.69it/s]"
     ]
    },
    {
     "name": "stdout",
     "output_type": "stream",
     "text": [
      "| epoch   5 |    90/  891 batches | accuracy    0.855 | loss    0.412 | zero gradients percentage    0.000\n"
     ]
    },
    {
     "name": "stderr",
     "output_type": "stream",
     "text": [
      "102it [00:13,  6.91it/s]"
     ]
    },
    {
     "name": "stdout",
     "output_type": "stream",
     "text": [
      "| epoch   5 |   100/  891 batches | accuracy    0.872 | loss    0.370 | zero gradients percentage    0.000\n"
     ]
    },
    {
     "name": "stderr",
     "output_type": "stream",
     "text": [
      "112it [00:15,  7.93it/s]"
     ]
    },
    {
     "name": "stdout",
     "output_type": "stream",
     "text": [
      "| epoch   5 |   110/  891 batches | accuracy    0.883 | loss    0.319 | zero gradients percentage    0.000\n"
     ]
    },
    {
     "name": "stderr",
     "output_type": "stream",
     "text": [
      "122it [00:16,  7.72it/s]"
     ]
    },
    {
     "name": "stdout",
     "output_type": "stream",
     "text": [
      "| epoch   5 |   120/  891 batches | accuracy    0.870 | loss    0.371 | zero gradients percentage    0.000\n"
     ]
    },
    {
     "name": "stderr",
     "output_type": "stream",
     "text": [
      "132it [00:17,  7.62it/s]"
     ]
    },
    {
     "name": "stdout",
     "output_type": "stream",
     "text": [
      "| epoch   5 |   130/  891 batches | accuracy    0.886 | loss    0.360 | zero gradients percentage    0.000\n"
     ]
    },
    {
     "name": "stderr",
     "output_type": "stream",
     "text": [
      "142it [00:19,  6.95it/s]"
     ]
    },
    {
     "name": "stdout",
     "output_type": "stream",
     "text": [
      "| epoch   5 |   140/  891 batches | accuracy    0.894 | loss    0.331 | zero gradients percentage    0.000\n"
     ]
    },
    {
     "name": "stderr",
     "output_type": "stream",
     "text": [
      "152it [00:20,  7.70it/s]"
     ]
    },
    {
     "name": "stdout",
     "output_type": "stream",
     "text": [
      "| epoch   5 |   150/  891 batches | accuracy    0.878 | loss    0.354 | zero gradients percentage    0.000\n"
     ]
    },
    {
     "name": "stderr",
     "output_type": "stream",
     "text": [
      "162it [00:21,  6.42it/s]"
     ]
    },
    {
     "name": "stdout",
     "output_type": "stream",
     "text": [
      "| epoch   5 |   160/  891 batches | accuracy    0.877 | loss    0.350 | zero gradients percentage    0.000\n"
     ]
    },
    {
     "name": "stderr",
     "output_type": "stream",
     "text": [
      "172it [00:23,  6.80it/s]"
     ]
    },
    {
     "name": "stdout",
     "output_type": "stream",
     "text": [
      "| epoch   5 |   170/  891 batches | accuracy    0.873 | loss    0.353 | zero gradients percentage    0.000\n"
     ]
    },
    {
     "name": "stderr",
     "output_type": "stream",
     "text": [
      "182it [00:24,  7.12it/s]"
     ]
    },
    {
     "name": "stdout",
     "output_type": "stream",
     "text": [
      "| epoch   5 |   180/  891 batches | accuracy    0.880 | loss    0.369 | zero gradients percentage    0.000\n"
     ]
    },
    {
     "name": "stderr",
     "output_type": "stream",
     "text": [
      "192it [00:25,  7.30it/s]"
     ]
    },
    {
     "name": "stdout",
     "output_type": "stream",
     "text": [
      "| epoch   5 |   190/  891 batches | accuracy    0.867 | loss    0.396 | zero gradients percentage    0.000\n"
     ]
    },
    {
     "name": "stderr",
     "output_type": "stream",
     "text": [
      "202it [00:27,  6.32it/s]"
     ]
    },
    {
     "name": "stdout",
     "output_type": "stream",
     "text": [
      "| epoch   5 |   200/  891 batches | accuracy    0.875 | loss    0.344 | zero gradients percentage    0.000\n"
     ]
    },
    {
     "name": "stderr",
     "output_type": "stream",
     "text": [
      "212it [00:28,  8.10it/s]"
     ]
    },
    {
     "name": "stdout",
     "output_type": "stream",
     "text": [
      "| epoch   5 |   210/  891 batches | accuracy    0.884 | loss    0.349 | zero gradients percentage    0.000\n"
     ]
    },
    {
     "name": "stderr",
     "output_type": "stream",
     "text": [
      "222it [00:29,  7.00it/s]"
     ]
    },
    {
     "name": "stdout",
     "output_type": "stream",
     "text": [
      "| epoch   5 |   220/  891 batches | accuracy    0.894 | loss    0.334 | zero gradients percentage    0.000\n"
     ]
    },
    {
     "name": "stderr",
     "output_type": "stream",
     "text": [
      "232it [00:31,  7.67it/s]"
     ]
    },
    {
     "name": "stdout",
     "output_type": "stream",
     "text": [
      "| epoch   5 |   230/  891 batches | accuracy    0.863 | loss    0.394 | zero gradients percentage    0.000\n"
     ]
    },
    {
     "name": "stderr",
     "output_type": "stream",
     "text": [
      "242it [00:32,  8.20it/s]"
     ]
    },
    {
     "name": "stdout",
     "output_type": "stream",
     "text": [
      "| epoch   5 |   240/  891 batches | accuracy    0.874 | loss    0.370 | zero gradients percentage    0.000\n"
     ]
    },
    {
     "name": "stderr",
     "output_type": "stream",
     "text": [
      "252it [00:33,  7.36it/s]"
     ]
    },
    {
     "name": "stdout",
     "output_type": "stream",
     "text": [
      "| epoch   5 |   250/  891 batches | accuracy    0.865 | loss    0.388 | zero gradients percentage    0.000\n"
     ]
    },
    {
     "name": "stderr",
     "output_type": "stream",
     "text": [
      "262it [00:35,  8.18it/s]"
     ]
    },
    {
     "name": "stdout",
     "output_type": "stream",
     "text": [
      "| epoch   5 |   260/  891 batches | accuracy    0.878 | loss    0.348 | zero gradients percentage    0.000\n"
     ]
    },
    {
     "name": "stderr",
     "output_type": "stream",
     "text": [
      "272it [00:36,  7.45it/s]"
     ]
    },
    {
     "name": "stdout",
     "output_type": "stream",
     "text": [
      "| epoch   5 |   270/  891 batches | accuracy    0.888 | loss    0.346 | zero gradients percentage    0.000\n"
     ]
    },
    {
     "name": "stderr",
     "output_type": "stream",
     "text": [
      "282it [00:37,  7.44it/s]"
     ]
    },
    {
     "name": "stdout",
     "output_type": "stream",
     "text": [
      "| epoch   5 |   280/  891 batches | accuracy    0.864 | loss    0.384 | zero gradients percentage    0.000\n"
     ]
    },
    {
     "name": "stderr",
     "output_type": "stream",
     "text": [
      "292it [00:39,  7.05it/s]"
     ]
    },
    {
     "name": "stdout",
     "output_type": "stream",
     "text": [
      "| epoch   5 |   290/  891 batches | accuracy    0.868 | loss    0.394 | zero gradients percentage    0.000\n"
     ]
    },
    {
     "name": "stderr",
     "output_type": "stream",
     "text": [
      "302it [00:40,  7.16it/s]"
     ]
    },
    {
     "name": "stdout",
     "output_type": "stream",
     "text": [
      "| epoch   5 |   300/  891 batches | accuracy    0.878 | loss    0.364 | zero gradients percentage    0.000\n"
     ]
    },
    {
     "name": "stderr",
     "output_type": "stream",
     "text": [
      "312it [00:42,  7.60it/s]"
     ]
    },
    {
     "name": "stdout",
     "output_type": "stream",
     "text": [
      "| epoch   5 |   310/  891 batches | accuracy    0.880 | loss    0.348 | zero gradients percentage    0.000\n"
     ]
    },
    {
     "name": "stderr",
     "output_type": "stream",
     "text": [
      "322it [00:43,  7.85it/s]"
     ]
    },
    {
     "name": "stdout",
     "output_type": "stream",
     "text": [
      "| epoch   5 |   320/  891 batches | accuracy    0.876 | loss    0.362 | zero gradients percentage    0.000\n"
     ]
    },
    {
     "name": "stderr",
     "output_type": "stream",
     "text": [
      "332it [00:44,  6.56it/s]"
     ]
    },
    {
     "name": "stdout",
     "output_type": "stream",
     "text": [
      "| epoch   5 |   330/  891 batches | accuracy    0.895 | loss    0.324 | zero gradients percentage    0.000\n"
     ]
    },
    {
     "name": "stderr",
     "output_type": "stream",
     "text": [
      "342it [00:46,  7.61it/s]"
     ]
    },
    {
     "name": "stdout",
     "output_type": "stream",
     "text": [
      "| epoch   5 |   340/  891 batches | accuracy    0.869 | loss    0.375 | zero gradients percentage    0.000\n"
     ]
    },
    {
     "name": "stderr",
     "output_type": "stream",
     "text": [
      "352it [00:47,  6.93it/s]"
     ]
    },
    {
     "name": "stdout",
     "output_type": "stream",
     "text": [
      "| epoch   5 |   350/  891 batches | accuracy    0.870 | loss    0.386 | zero gradients percentage    0.000\n"
     ]
    },
    {
     "name": "stderr",
     "output_type": "stream",
     "text": [
      "362it [00:48,  7.44it/s]"
     ]
    },
    {
     "name": "stdout",
     "output_type": "stream",
     "text": [
      "| epoch   5 |   360/  891 batches | accuracy    0.885 | loss    0.360 | zero gradients percentage    0.000\n"
     ]
    },
    {
     "name": "stderr",
     "output_type": "stream",
     "text": [
      "372it [00:50,  6.82it/s]"
     ]
    },
    {
     "name": "stdout",
     "output_type": "stream",
     "text": [
      "| epoch   5 |   370/  891 batches | accuracy    0.895 | loss    0.335 | zero gradients percentage    0.000\n"
     ]
    },
    {
     "name": "stderr",
     "output_type": "stream",
     "text": [
      "381it [00:51,  7.09it/s]"
     ]
    },
    {
     "name": "stdout",
     "output_type": "stream",
     "text": [
      "| epoch   5 |   380/  891 batches | accuracy    0.870 | loss    0.367 | zero gradients percentage    0.000\n"
     ]
    },
    {
     "name": "stderr",
     "output_type": "stream",
     "text": [
      "392it [00:52,  6.79it/s]"
     ]
    },
    {
     "name": "stdout",
     "output_type": "stream",
     "text": [
      "| epoch   5 |   390/  891 batches | accuracy    0.860 | loss    0.379 | zero gradients percentage    0.000\n"
     ]
    },
    {
     "name": "stderr",
     "output_type": "stream",
     "text": [
      "402it [00:54,  7.72it/s]"
     ]
    },
    {
     "name": "stdout",
     "output_type": "stream",
     "text": [
      "| epoch   5 |   400/  891 batches | accuracy    0.864 | loss    0.395 | zero gradients percentage    0.000\n"
     ]
    },
    {
     "name": "stderr",
     "output_type": "stream",
     "text": [
      "412it [00:55,  7.35it/s]"
     ]
    },
    {
     "name": "stdout",
     "output_type": "stream",
     "text": [
      "| epoch   5 |   410/  891 batches | accuracy    0.874 | loss    0.359 | zero gradients percentage    0.000\n"
     ]
    },
    {
     "name": "stderr",
     "output_type": "stream",
     "text": [
      "422it [00:57,  7.67it/s]"
     ]
    },
    {
     "name": "stdout",
     "output_type": "stream",
     "text": [
      "| epoch   5 |   420/  891 batches | accuracy    0.870 | loss    0.356 | zero gradients percentage    0.000\n"
     ]
    },
    {
     "name": "stderr",
     "output_type": "stream",
     "text": [
      "432it [00:58,  7.05it/s]"
     ]
    },
    {
     "name": "stdout",
     "output_type": "stream",
     "text": [
      "| epoch   5 |   430/  891 batches | accuracy    0.852 | loss    0.425 | zero gradients percentage    0.000\n"
     ]
    },
    {
     "name": "stderr",
     "output_type": "stream",
     "text": [
      "442it [00:59,  7.68it/s]"
     ]
    },
    {
     "name": "stdout",
     "output_type": "stream",
     "text": [
      "| epoch   5 |   440/  891 batches | accuracy    0.886 | loss    0.359 | zero gradients percentage    0.000\n"
     ]
    },
    {
     "name": "stderr",
     "output_type": "stream",
     "text": [
      "452it [01:01,  7.21it/s]"
     ]
    },
    {
     "name": "stdout",
     "output_type": "stream",
     "text": [
      "| epoch   5 |   450/  891 batches | accuracy    0.863 | loss    0.393 | zero gradients percentage    0.000\n"
     ]
    },
    {
     "name": "stderr",
     "output_type": "stream",
     "text": [
      "462it [01:02,  7.65it/s]"
     ]
    },
    {
     "name": "stdout",
     "output_type": "stream",
     "text": [
      "| epoch   5 |   460/  891 batches | accuracy    0.880 | loss    0.390 | zero gradients percentage    0.000\n"
     ]
    },
    {
     "name": "stderr",
     "output_type": "stream",
     "text": [
      "472it [01:03,  6.78it/s]"
     ]
    },
    {
     "name": "stdout",
     "output_type": "stream",
     "text": [
      "| epoch   5 |   470/  891 batches | accuracy    0.864 | loss    0.387 | zero gradients percentage    0.000\n"
     ]
    },
    {
     "name": "stderr",
     "output_type": "stream",
     "text": [
      "482it [01:05,  7.49it/s]"
     ]
    },
    {
     "name": "stdout",
     "output_type": "stream",
     "text": [
      "| epoch   5 |   480/  891 batches | accuracy    0.880 | loss    0.345 | zero gradients percentage    0.000\n"
     ]
    },
    {
     "name": "stderr",
     "output_type": "stream",
     "text": [
      "492it [01:06,  6.81it/s]"
     ]
    },
    {
     "name": "stdout",
     "output_type": "stream",
     "text": [
      "| epoch   5 |   490/  891 batches | accuracy    0.880 | loss    0.355 | zero gradients percentage    0.000\n"
     ]
    },
    {
     "name": "stderr",
     "output_type": "stream",
     "text": [
      "502it [01:08,  6.96it/s]"
     ]
    },
    {
     "name": "stdout",
     "output_type": "stream",
     "text": [
      "| epoch   5 |   500/  891 batches | accuracy    0.870 | loss    0.356 | zero gradients percentage    0.000\n"
     ]
    },
    {
     "name": "stderr",
     "output_type": "stream",
     "text": [
      "512it [01:09,  7.60it/s]"
     ]
    },
    {
     "name": "stdout",
     "output_type": "stream",
     "text": [
      "| epoch   5 |   510/  891 batches | accuracy    0.874 | loss    0.381 | zero gradients percentage    0.000\n"
     ]
    },
    {
     "name": "stderr",
     "output_type": "stream",
     "text": [
      "522it [01:10,  7.80it/s]"
     ]
    },
    {
     "name": "stdout",
     "output_type": "stream",
     "text": [
      "| epoch   5 |   520/  891 batches | accuracy    0.873 | loss    0.392 | zero gradients percentage    0.000\n"
     ]
    },
    {
     "name": "stderr",
     "output_type": "stream",
     "text": [
      "532it [01:12,  7.14it/s]"
     ]
    },
    {
     "name": "stdout",
     "output_type": "stream",
     "text": [
      "| epoch   5 |   530/  891 batches | accuracy    0.864 | loss    0.417 | zero gradients percentage    0.000\n"
     ]
    },
    {
     "name": "stderr",
     "output_type": "stream",
     "text": [
      "542it [01:13,  8.18it/s]"
     ]
    },
    {
     "name": "stdout",
     "output_type": "stream",
     "text": [
      "| epoch   5 |   540/  891 batches | accuracy    0.876 | loss    0.360 | zero gradients percentage    0.000\n"
     ]
    },
    {
     "name": "stderr",
     "output_type": "stream",
     "text": [
      "552it [01:14,  6.72it/s]"
     ]
    },
    {
     "name": "stdout",
     "output_type": "stream",
     "text": [
      "| epoch   5 |   550/  891 batches | accuracy    0.876 | loss    0.367 | zero gradients percentage    0.000\n"
     ]
    },
    {
     "name": "stderr",
     "output_type": "stream",
     "text": [
      "562it [01:16,  6.49it/s]"
     ]
    },
    {
     "name": "stdout",
     "output_type": "stream",
     "text": [
      "| epoch   5 |   560/  891 batches | accuracy    0.878 | loss    0.352 | zero gradients percentage    0.000\n"
     ]
    },
    {
     "name": "stderr",
     "output_type": "stream",
     "text": [
      "572it [01:17,  8.08it/s]"
     ]
    },
    {
     "name": "stdout",
     "output_type": "stream",
     "text": [
      "| epoch   5 |   570/  891 batches | accuracy    0.881 | loss    0.362 | zero gradients percentage    0.000\n"
     ]
    },
    {
     "name": "stderr",
     "output_type": "stream",
     "text": [
      "582it [01:18,  7.41it/s]"
     ]
    },
    {
     "name": "stdout",
     "output_type": "stream",
     "text": [
      "| epoch   5 |   580/  891 batches | accuracy    0.876 | loss    0.374 | zero gradients percentage    0.000\n"
     ]
    },
    {
     "name": "stderr",
     "output_type": "stream",
     "text": [
      "592it [01:20,  7.35it/s]"
     ]
    },
    {
     "name": "stdout",
     "output_type": "stream",
     "text": [
      "| epoch   5 |   590/  891 batches | accuracy    0.868 | loss    0.383 | zero gradients percentage    0.000\n"
     ]
    },
    {
     "name": "stderr",
     "output_type": "stream",
     "text": [
      "602it [01:21,  7.89it/s]"
     ]
    },
    {
     "name": "stdout",
     "output_type": "stream",
     "text": [
      "| epoch   5 |   600/  891 batches | accuracy    0.897 | loss    0.333 | zero gradients percentage    0.000\n"
     ]
    },
    {
     "name": "stderr",
     "output_type": "stream",
     "text": [
      "612it [01:23,  8.21it/s]"
     ]
    },
    {
     "name": "stdout",
     "output_type": "stream",
     "text": [
      "| epoch   5 |   610/  891 batches | accuracy    0.872 | loss    0.403 | zero gradients percentage    0.000\n"
     ]
    },
    {
     "name": "stderr",
     "output_type": "stream",
     "text": [
      "622it [01:24,  6.49it/s]"
     ]
    },
    {
     "name": "stdout",
     "output_type": "stream",
     "text": [
      "| epoch   5 |   620/  891 batches | accuracy    0.891 | loss    0.350 | zero gradients percentage    0.000\n"
     ]
    },
    {
     "name": "stderr",
     "output_type": "stream",
     "text": [
      "632it [01:25,  6.85it/s]"
     ]
    },
    {
     "name": "stdout",
     "output_type": "stream",
     "text": [
      "| epoch   5 |   630/  891 batches | accuracy    0.867 | loss    0.387 | zero gradients percentage    0.000\n"
     ]
    },
    {
     "name": "stderr",
     "output_type": "stream",
     "text": [
      "642it [01:27,  7.79it/s]"
     ]
    },
    {
     "name": "stdout",
     "output_type": "stream",
     "text": [
      "| epoch   5 |   640/  891 batches | accuracy    0.874 | loss    0.396 | zero gradients percentage    0.000\n"
     ]
    },
    {
     "name": "stderr",
     "output_type": "stream",
     "text": [
      "652it [01:28,  7.89it/s]"
     ]
    },
    {
     "name": "stdout",
     "output_type": "stream",
     "text": [
      "| epoch   5 |   650/  891 batches | accuracy    0.886 | loss    0.346 | zero gradients percentage    0.000\n"
     ]
    },
    {
     "name": "stderr",
     "output_type": "stream",
     "text": [
      "662it [01:29,  7.39it/s]"
     ]
    },
    {
     "name": "stdout",
     "output_type": "stream",
     "text": [
      "| epoch   5 |   660/  891 batches | accuracy    0.876 | loss    0.374 | zero gradients percentage    0.000\n"
     ]
    },
    {
     "name": "stderr",
     "output_type": "stream",
     "text": [
      "672it [01:31,  7.71it/s]"
     ]
    },
    {
     "name": "stdout",
     "output_type": "stream",
     "text": [
      "| epoch   5 |   670/  891 batches | accuracy    0.868 | loss    0.397 | zero gradients percentage    0.000\n"
     ]
    },
    {
     "name": "stderr",
     "output_type": "stream",
     "text": [
      "682it [01:32,  7.45it/s]"
     ]
    },
    {
     "name": "stdout",
     "output_type": "stream",
     "text": [
      "| epoch   5 |   680/  891 batches | accuracy    0.872 | loss    0.386 | zero gradients percentage    0.000\n"
     ]
    },
    {
     "name": "stderr",
     "output_type": "stream",
     "text": [
      "692it [01:34,  6.83it/s]"
     ]
    },
    {
     "name": "stdout",
     "output_type": "stream",
     "text": [
      "| epoch   5 |   690/  891 batches | accuracy    0.877 | loss    0.377 | zero gradients percentage    0.000\n"
     ]
    },
    {
     "name": "stderr",
     "output_type": "stream",
     "text": [
      "702it [01:35,  8.03it/s]"
     ]
    },
    {
     "name": "stdout",
     "output_type": "stream",
     "text": [
      "| epoch   5 |   700/  891 batches | accuracy    0.859 | loss    0.402 | zero gradients percentage    0.000\n"
     ]
    },
    {
     "name": "stderr",
     "output_type": "stream",
     "text": [
      "712it [01:36,  6.53it/s]"
     ]
    },
    {
     "name": "stdout",
     "output_type": "stream",
     "text": [
      "| epoch   5 |   710/  891 batches | accuracy    0.892 | loss    0.328 | zero gradients percentage    0.000\n"
     ]
    },
    {
     "name": "stderr",
     "output_type": "stream",
     "text": [
      "722it [01:38,  7.23it/s]"
     ]
    },
    {
     "name": "stdout",
     "output_type": "stream",
     "text": [
      "| epoch   5 |   720/  891 batches | accuracy    0.874 | loss    0.354 | zero gradients percentage    0.000\n"
     ]
    },
    {
     "name": "stderr",
     "output_type": "stream",
     "text": [
      "732it [01:39,  7.19it/s]"
     ]
    },
    {
     "name": "stdout",
     "output_type": "stream",
     "text": [
      "| epoch   5 |   730/  891 batches | accuracy    0.873 | loss    0.398 | zero gradients percentage    0.000\n"
     ]
    },
    {
     "name": "stderr",
     "output_type": "stream",
     "text": [
      "741it [01:40,  7.08it/s]"
     ]
    },
    {
     "name": "stdout",
     "output_type": "stream",
     "text": [
      "| epoch   5 |   740/  891 batches | accuracy    0.879 | loss    0.367 | zero gradients percentage    0.000\n"
     ]
    },
    {
     "name": "stderr",
     "output_type": "stream",
     "text": [
      "752it [01:42,  7.38it/s]"
     ]
    },
    {
     "name": "stdout",
     "output_type": "stream",
     "text": [
      "| epoch   5 |   750/  891 batches | accuracy    0.862 | loss    0.393 | zero gradients percentage    0.000\n"
     ]
    },
    {
     "name": "stderr",
     "output_type": "stream",
     "text": [
      "762it [01:43,  6.54it/s]"
     ]
    },
    {
     "name": "stdout",
     "output_type": "stream",
     "text": [
      "| epoch   5 |   760/  891 batches | accuracy    0.886 | loss    0.348 | zero gradients percentage    0.000\n"
     ]
    },
    {
     "name": "stderr",
     "output_type": "stream",
     "text": [
      "772it [01:45,  7.90it/s]"
     ]
    },
    {
     "name": "stdout",
     "output_type": "stream",
     "text": [
      "| epoch   5 |   770/  891 batches | accuracy    0.875 | loss    0.387 | zero gradients percentage    0.000\n"
     ]
    },
    {
     "name": "stderr",
     "output_type": "stream",
     "text": [
      "782it [01:46,  7.36it/s]"
     ]
    },
    {
     "name": "stdout",
     "output_type": "stream",
     "text": [
      "| epoch   5 |   780/  891 batches | accuracy    0.880 | loss    0.362 | zero gradients percentage    0.000\n"
     ]
    },
    {
     "name": "stderr",
     "output_type": "stream",
     "text": [
      "792it [01:47,  7.06it/s]"
     ]
    },
    {
     "name": "stdout",
     "output_type": "stream",
     "text": [
      "| epoch   5 |   790/  891 batches | accuracy    0.878 | loss    0.379 | zero gradients percentage    0.000\n"
     ]
    },
    {
     "name": "stderr",
     "output_type": "stream",
     "text": [
      "802it [01:49,  7.80it/s]"
     ]
    },
    {
     "name": "stdout",
     "output_type": "stream",
     "text": [
      "| epoch   5 |   800/  891 batches | accuracy    0.863 | loss    0.402 | zero gradients percentage    0.000\n"
     ]
    },
    {
     "name": "stderr",
     "output_type": "stream",
     "text": [
      "812it [01:50,  6.97it/s]"
     ]
    },
    {
     "name": "stdout",
     "output_type": "stream",
     "text": [
      "| epoch   5 |   810/  891 batches | accuracy    0.868 | loss    0.404 | zero gradients percentage    0.000\n"
     ]
    },
    {
     "name": "stderr",
     "output_type": "stream",
     "text": [
      "822it [01:52,  7.08it/s]"
     ]
    },
    {
     "name": "stdout",
     "output_type": "stream",
     "text": [
      "| epoch   5 |   820/  891 batches | accuracy    0.891 | loss    0.349 | zero gradients percentage    0.000\n"
     ]
    },
    {
     "name": "stderr",
     "output_type": "stream",
     "text": [
      "832it [01:53,  6.50it/s]"
     ]
    },
    {
     "name": "stdout",
     "output_type": "stream",
     "text": [
      "| epoch   5 |   830/  891 batches | accuracy    0.873 | loss    0.375 | zero gradients percentage    0.000\n"
     ]
    },
    {
     "name": "stderr",
     "output_type": "stream",
     "text": [
      "842it [01:55,  6.49it/s]"
     ]
    },
    {
     "name": "stdout",
     "output_type": "stream",
     "text": [
      "| epoch   5 |   840/  891 batches | accuracy    0.867 | loss    0.381 | zero gradients percentage    0.000\n"
     ]
    },
    {
     "name": "stderr",
     "output_type": "stream",
     "text": [
      "852it [01:56,  7.60it/s]"
     ]
    },
    {
     "name": "stdout",
     "output_type": "stream",
     "text": [
      "| epoch   5 |   850/  891 batches | accuracy    0.864 | loss    0.403 | zero gradients percentage    0.000\n"
     ]
    },
    {
     "name": "stderr",
     "output_type": "stream",
     "text": [
      "862it [01:57,  7.41it/s]"
     ]
    },
    {
     "name": "stdout",
     "output_type": "stream",
     "text": [
      "| epoch   5 |   860/  891 batches | accuracy    0.897 | loss    0.358 | zero gradients percentage    0.000\n"
     ]
    },
    {
     "name": "stderr",
     "output_type": "stream",
     "text": [
      "872it [01:59,  7.95it/s]"
     ]
    },
    {
     "name": "stdout",
     "output_type": "stream",
     "text": [
      "| epoch   5 |   870/  891 batches | accuracy    0.872 | loss    0.382 | zero gradients percentage    0.000\n"
     ]
    },
    {
     "name": "stderr",
     "output_type": "stream",
     "text": [
      "882it [02:00,  8.02it/s]"
     ]
    },
    {
     "name": "stdout",
     "output_type": "stream",
     "text": [
      "| epoch   5 |   880/  891 batches | accuracy    0.864 | loss    0.369 | zero gradients percentage    0.000\n"
     ]
    },
    {
     "name": "stderr",
     "output_type": "stream",
     "text": [
      "891it [02:01,  7.32it/s]\n"
     ]
    },
    {
     "name": "stdout",
     "output_type": "stream",
     "text": [
      "| epoch   5 |   890/  891 batches | accuracy    0.882 | loss    0.363 | zero gradients percentage    0.000\n",
      "-----------------------------------------------------------\n",
      "| end of epoch   5 | time: 126.45s | valid accuracy    0.870 \n",
      "-----------------------------------------------------------\n",
      "Checking the results of test dataset.\n",
      "test accuracy    0.833\n",
      "test loss    0.004\n"
     ]
    }
   ],
   "source": [
    "for epoch in range(1, NUM_EPOCHS + 1):\n",
    "    epoch_start_time = time.time()\n",
    "    train(train_dataloader, model, optimizer, criterion, epoch)\n",
    "    accu_val, loss_val = evaluate(valid_dataloader, model, criterion)\n",
    "    scheduler.step()\n",
    "    print(\"-\" * 59)\n",
    "    print(\n",
    "        \"| end of epoch {:3d} | time: {:5.2f}s | \"\n",
    "        \"valid accuracy {:8.3f} \".format(\n",
    "            epoch,\n",
    "            time.time() - epoch_start_time,\n",
    "            accu_val,\n",
    "            loss_val\n",
    "            )\n",
    "    )\n",
    "    print(\"-\" * 59)\n",
    "\n",
    "print(\"Checking the results of test dataset.\")\n",
    "accu_test, loss_test = evaluate(test_dataloader, model, criterion)\n",
    "print(\"test accuracy {:8.3f}\".format(accu_test))\n",
    "print(\"test loss {:8.3f}\".format(loss_test))"
   ]
  }
 ],
 "metadata": {
  "colab": {
   "provenance": []
  },
  "kernelspec": {
   "display_name": "Python 3 (ipykernel)",
   "language": "python",
   "name": "python3"
  },
  "language_info": {
   "codemirror_mode": {
    "name": "ipython",
    "version": 3
   },
   "file_extension": ".py",
   "mimetype": "text/x-python",
   "name": "python",
   "nbconvert_exporter": "python",
   "pygments_lexer": "ipython3",
   "version": "3.9.16"
  }
 },
 "nbformat": 4,
 "nbformat_minor": 5
}
